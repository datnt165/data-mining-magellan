{
 "cells": [
  {
   "cell_type": "code",
   "execution_count": 1,
   "id": "bd0c6cfa",
   "metadata": {},
   "outputs": [],
   "source": [
    "# !pip install PyQt5\n",
    "# ! git clone --recursive https://github.com/dmlc/xgboost\n",
    "# !pip install pandastable\n",
    "# !pip install -U numpy scipy py_entitymatching\n",
    "# !pip install py_stringmatching\n",
    "# ! pip install  -U \"numpy<1.24.0\"\n",
    "# !pip install javaobj-py3"
   ]
  },
  {
   "cell_type": "code",
   "execution_count": 2,
   "id": "2f1feff3",
   "metadata": {},
   "outputs": [
    {
     "name": "stdout",
     "output_type": "stream",
     "text": [
      "1.23.5\n"
     ]
    }
   ],
   "source": [
    "import importlib.metadata\n",
    "print(importlib.metadata.version('numpy'))"
   ]
  },
  {
   "cell_type": "code",
   "execution_count": 3,
   "id": "106e18c6",
   "metadata": {},
   "outputs": [],
   "source": [
    "# ------------- PARAMETER -------------\n",
    "\n",
    "FOLDER_DATA = 'data/'\n",
    "FOLDER_DATA_cleaner = FOLDER_DATA + 'cleanCleanErDatasets/'\n",
    "FOLDER_DATA_dirty = FOLDER_DATA + 'dirtyErDatasets/'\n",
    "FOLDER_DATA_csv = FOLDER_DATA + 'csv/'"
   ]
  },
  {
   "cell_type": "code",
   "execution_count": 7,
   "id": "45ba7a71",
   "metadata": {},
   "outputs": [],
   "source": [
    "import javaobj.v2\n",
    "import csv\n",
    "import pandas as pd\n",
    "class JSOFileReader:\n",
    "    def __init__(self, filename):\n",
    "        self.filename = filename\n",
    "        self.df = pd.DataFrame()\n",
    "    \n",
    "    def __read_data_set__(self, attr):\n",
    "        try:\n",
    "            row = dict()\n",
    "            if isinstance(attr, set):\n",
    "                for ins in set(attr):\n",
    "                    class_desc = ins.classdesc\n",
    "                    key = ''\n",
    "                    for field_desc in class_desc.fields:   \n",
    "                        attr_name = field_desc.name\n",
    "                        if attr_name == 'name':\n",
    "                            key = getattr(ins, attr_name)\n",
    "                        if attr_name == 'value':\n",
    "                            attr_value = getattr(ins, attr_name)\n",
    "                            row[key]=attr_value\n",
    "                return pd.DataFrame(row, index=[0])\n",
    "            else:\n",
    "                raise TypeError(\"Not a dictionary data\")\n",
    "        except TypeError as msg:\n",
    "            print(msg)\n",
    "    def __read_data_scala__(self, attr_value, attr_name):\n",
    "        try:\n",
    "            row = dict()\n",
    "            if isinstance(attr_value, int) or isinstance(attr_value, javaobj.v2.beans.JavaString):\n",
    "                row[attr_name] = attr_value\n",
    "                return pd.DataFrame(row, index=[0])\n",
    "            else:\n",
    "                raise TypeError(\"Not a scala data\")\n",
    "        except TypeError as msg:\n",
    "            print(msg)\n",
    "    def read_file(self):\n",
    "        with open(self.filename, 'rb') as f:\n",
    "            data = javaobj.v2.load(f)\n",
    "        return data\n",
    "    \n",
    "    def to_pandas_df(self):\n",
    "        jso_raw = self.read_file()\n",
    "        \n",
    "        df = pd.DataFrame()\n",
    "        for obj in jso_raw:\n",
    "            for key, value in obj.__dict__.items():\n",
    "                if key == 'classdesc':\n",
    "                    field_names = [field.name for field in value.fields]\n",
    "                    field_values = []\n",
    "                    pd_row = pd.DataFrame()\n",
    "                    for field in value.fields:\n",
    "                        attr_value = getattr(obj, field.name)\n",
    "#                         print(type(attr_value))\n",
    "                        if isinstance(attr_value, set):\n",
    "                            attr_set = self.__read_data_set__(attr_value)\n",
    "                            pd_row = pd.concat([pd_row, attr_set], axis=1)\n",
    "                        elif isinstance(attr_value, int) or isinstance(attr_value, javaobj.v2.beans.JavaString):\n",
    "#                             print(attr_value)\n",
    "                            attr_scala = self.__read_data_scala__(attr_value,  field.name)\n",
    "                            pd_row = pd.concat([pd_row, attr_scala], axis=1)\n",
    "                    df = pd.concat([df, pd_row], ignore_index=True)\n",
    "        self.df = df\n",
    "        return df\n",
    "    \n",
    "    \n",
    "    def to_csv(self):\n",
    "        import os  \n",
    "        os.makedirs('FOLDER_DATA_csv', exist_ok=True)  \n",
    "        \n",
    "        filename = self.filename.split('/')\n",
    "        try:\n",
    "            if self.df.empty:\n",
    "                raise ValueError('Please call to_pandas_df() before to_csv function!')\n",
    "        except ValueError as msg:\n",
    "            print('Error with file' + self.filename + ' ' +  str(msg.args))\n",
    "            return\n",
    "        \n",
    "#         print(filename)\n",
    "        self.df.insert(0, 'id', self.df.index)\n",
    "        self.df.to_csv(FOLDER_DATA_csv + filename[-1] + '.csv', index=False)  "
   ]
  },
  {
   "cell_type": "code",
   "execution_count": 29,
   "id": "3416467d",
   "metadata": {},
   "outputs": [],
   "source": [
    "class ProcessAllJSO:\n",
    "    def __init__(self, folder_path):\n",
    "        self.folder_path = folder_path\n",
    "        self.__process__()\n",
    "    def __process__(self):\n",
    "        import os\n",
    "\n",
    "        files = os.listdir(self.folder_path)\n",
    "        print('Process folder ' + self.folder_path)\n",
    "        for file_name in files:\n",
    "            print('Processing: ' + file_name)\n",
    "            reader = JSOFileReader(self.folder_path + file_name)\n",
    "            reader.to_pandas_df()\n",
    "            reader.to_csv()"
   ]
  },
  {
   "cell_type": "markdown",
   "id": "0a3c706c",
   "metadata": {},
   "source": [
    "# Convert JSO file in FOLDER_DATA_cleaner to CSV"
   ]
  },
  {
   "cell_type": "code",
   "execution_count": 30,
   "id": "c5bcfd5b",
   "metadata": {
    "scrolled": true
   },
   "outputs": [
    {
     "name": "stdout",
     "output_type": "stream",
     "text": [
      "Process folder data/cleanCleanErDatasets/\n",
      "Processing: abtBuyIdDuplicates\n",
      "Processing: abtProfiles\n",
      "Processing: acmProfiles\n",
      "Processing: amazonGpIdDuplicates\n",
      "Processing: amazonProfiles\n",
      "Processing: amazonProfiles2\n",
      "Processing: amazonWalmartIdDuplicates\n",
      "Processing: buyProfiles\n",
      "Processing: dblpAcmIdDuplicates\n",
      "Processing: dblpProfiles\n",
      "Processing: dblpProfiles2\n",
      "Processing: dblpScholarIdDuplicates\n",
      "Processing: gpProfiles\n",
      "Processing: imdbProfiles\n",
      "Processing: imdbProfilesNEW\n",
      "Processing: imdbTmdbIdDuplicates\n",
      "Processing: imdbTvdbIdDuplicates\n",
      "Processing: moviesIdDuplicates\n",
      "Processing: restaurant1Profiles\n",
      "Processing: restaurant2Profiles\n",
      "Processing: restaurantsIdDuplicates\n",
      "Processing: scholarProfiles\n",
      "Processing: tmdbProfiles\n",
      "Processing: tmdbTvdbIdDuplicates\n",
      "Processing: tvdbProfiles\n",
      "Processing: walmartProfiles\n"
     ]
    },
    {
     "data": {
      "text/plain": [
       "<__main__.ProcessAllJSO at 0x25b7a0deac0>"
      ]
     },
     "execution_count": 30,
     "metadata": {},
     "output_type": "execute_result"
    }
   ],
   "source": [
    "ProcessAllJSO(FOLDER_DATA_cleaner)"
   ]
  },
  {
   "cell_type": "markdown",
   "id": "ee95126b",
   "metadata": {},
   "source": [
    "## Example of using JSOFileReader"
   ]
  },
  {
   "cell_type": "code",
   "execution_count": 10,
   "id": "51afb3bf",
   "metadata": {},
   "outputs": [
    {
     "data": {
      "text/html": [
       "<div>\n",
       "<style scoped>\n",
       "    .dataframe tbody tr th:only-of-type {\n",
       "        vertical-align: middle;\n",
       "    }\n",
       "\n",
       "    .dataframe tbody tr th {\n",
       "        vertical-align: top;\n",
       "    }\n",
       "\n",
       "    .dataframe thead th {\n",
       "        text-align: right;\n",
       "    }\n",
       "</style>\n",
       "<table border=\"1\" class=\"dataframe\">\n",
       "  <thead>\n",
       "    <tr style=\"text-align: right;\">\n",
       "      <th></th>\n",
       "      <th>entityId1</th>\n",
       "      <th>entityId2</th>\n",
       "    </tr>\n",
       "  </thead>\n",
       "  <tbody>\n",
       "    <tr>\n",
       "      <th>0</th>\n",
       "      <td>477</td>\n",
       "      <td>1501</td>\n",
       "    </tr>\n",
       "    <tr>\n",
       "      <th>1</th>\n",
       "      <td>1067</td>\n",
       "      <td>1687</td>\n",
       "    </tr>\n",
       "    <tr>\n",
       "      <th>2</th>\n",
       "      <td>889</td>\n",
       "      <td>2124</td>\n",
       "    </tr>\n",
       "    <tr>\n",
       "      <th>3</th>\n",
       "      <td>135</td>\n",
       "      <td>1219</td>\n",
       "    </tr>\n",
       "    <tr>\n",
       "      <th>4</th>\n",
       "      <td>62</td>\n",
       "      <td>1135</td>\n",
       "    </tr>\n",
       "    <tr>\n",
       "      <th>...</th>\n",
       "      <td>...</td>\n",
       "      <td>...</td>\n",
       "    </tr>\n",
       "    <tr>\n",
       "      <th>1071</th>\n",
       "      <td>973</td>\n",
       "      <td>2110</td>\n",
       "    </tr>\n",
       "    <tr>\n",
       "      <th>1072</th>\n",
       "      <td>950</td>\n",
       "      <td>1974</td>\n",
       "    </tr>\n",
       "    <tr>\n",
       "      <th>1073</th>\n",
       "      <td>783</td>\n",
       "      <td>1499</td>\n",
       "    </tr>\n",
       "    <tr>\n",
       "      <th>1074</th>\n",
       "      <td>416</td>\n",
       "      <td>1239</td>\n",
       "    </tr>\n",
       "    <tr>\n",
       "      <th>1075</th>\n",
       "      <td>388</td>\n",
       "      <td>1520</td>\n",
       "    </tr>\n",
       "  </tbody>\n",
       "</table>\n",
       "<p>1076 rows × 2 columns</p>\n",
       "</div>"
      ],
      "text/plain": [
       "      entityId1  entityId2\n",
       "0           477       1501\n",
       "1          1067       1687\n",
       "2           889       2124\n",
       "3           135       1219\n",
       "4            62       1135\n",
       "...         ...        ...\n",
       "1071        973       2110\n",
       "1072        950       1974\n",
       "1073        783       1499\n",
       "1074        416       1239\n",
       "1075        388       1520\n",
       "\n",
       "[1076 rows x 2 columns]"
      ]
     },
     "execution_count": 10,
     "metadata": {},
     "output_type": "execute_result"
    }
   ],
   "source": [
    "reader = JSOFileReader(FOLDER_DATA_dirty + 'abtBuyIdDuplicates')\n",
    "df = reader.to_pandas_df()\n",
    "df"
   ]
  },
  {
   "cell_type": "code",
   "execution_count": 11,
   "id": "db00d891",
   "metadata": {},
   "outputs": [],
   "source": [
    "reader.to_csv()"
   ]
  },
  {
   "cell_type": "code",
   "execution_count": null,
   "id": "9e6e8bc3",
   "metadata": {},
   "outputs": [],
   "source": []
  }
 ],
 "metadata": {
  "kernelspec": {
   "display_name": "Python 3 (ipykernel)",
   "language": "python",
   "name": "python3"
  },
  "language_info": {
   "codemirror_mode": {
    "name": "ipython",
    "version": 3
   },
   "file_extension": ".py",
   "mimetype": "text/x-python",
   "name": "python",
   "nbconvert_exporter": "python",
   "pygments_lexer": "ipython3",
   "version": "3.9.16"
  }
 },
 "nbformat": 4,
 "nbformat_minor": 5
}
