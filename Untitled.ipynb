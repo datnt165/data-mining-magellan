{
 "cells": [
  {
   "cell_type": "code",
   "execution_count": 44,
   "id": "767797bd",
   "metadata": {},
   "outputs": [],
   "source": [
    "# Import libraries\n",
    "import py_entitymatching as em\n",
    "import pandas as pd\n",
    "import py_stringmatching as sm\n",
    "import os, sys"
   ]
  },
  {
   "cell_type": "code",
   "execution_count": 45,
   "id": "e3f73a12",
   "metadata": {},
   "outputs": [],
   "source": [
    "datasets_dir = os.getcwd() + os.sep + 'data\\\\csv\\\\Abt-Buy\\\\dirty'\n",
    "\n",
    "dataset_path = datasets_dir + os.sep + 'abtBuyProfiles.csv'"
   ]
  },
  {
   "cell_type": "code",
   "execution_count": 46,
   "id": "1d39767d",
   "metadata": {},
   "outputs": [
    {
     "name": "stderr",
     "output_type": "stream",
     "text": [
      "Metadata file is not present in the given path; proceeding to read the csv file.\n"
     ]
    }
   ],
   "source": [
    "A = em.read_csv_metadata(dataset_path, encoding = \"ISO-8859-1\", key='id')"
   ]
  },
  {
   "cell_type": "code",
   "execution_count": 53,
   "id": "fdb688d8",
   "metadata": {},
   "outputs": [
    {
     "name": "stdout",
     "output_type": "stream",
     "text": [
      "Number of tuples in A: 2152\n",
      "Number of tuples in A X A (i.e the cartesian product): 4631104\n"
     ]
    }
   ],
   "source": [
    "print('Number of tuples in A: ' + str(len(A)))\n",
    "print('Number of tuples in A X A (i.e the cartesian product): ' + str(len(A)*len(A)))"
   ]
  },
  {
   "cell_type": "code",
   "execution_count": 54,
   "id": "22bc6ca3",
   "metadata": {},
   "outputs": [
    {
     "data": {
      "text/plain": [
       "'id'"
      ]
     },
     "execution_count": 54,
     "metadata": {},
     "output_type": "execute_result"
    }
   ],
   "source": [
    "em.get_key(A)"
   ]
  },
  {
   "cell_type": "code",
   "execution_count": 55,
   "id": "51d0b0ef",
   "metadata": {},
   "outputs": [
    {
     "data": {
      "text/html": [
       "<div>\n",
       "<style scoped>\n",
       "    .dataframe tbody tr th:only-of-type {\n",
       "        vertical-align: middle;\n",
       "    }\n",
       "\n",
       "    .dataframe tbody tr th {\n",
       "        vertical-align: top;\n",
       "    }\n",
       "\n",
       "    .dataframe thead th {\n",
       "        text-align: right;\n",
       "    }\n",
       "</style>\n",
       "<table border=\"1\" class=\"dataframe\">\n",
       "  <thead>\n",
       "    <tr style=\"text-align: right;\">\n",
       "      <th></th>\n",
       "      <th>id</th>\n",
       "      <th>name</th>\n",
       "      <th>description</th>\n",
       "      <th>price</th>\n",
       "    </tr>\n",
       "  </thead>\n",
       "  <tbody>\n",
       "    <tr>\n",
       "      <th>0</th>\n",
       "      <td>0</td>\n",
       "      <td>Sony Turntable - PSLX350H</td>\n",
       "      <td>Sony Turntable - PSLX350H/ Belt Drive System/ 33-1/3 and 45 RPM Speeds/ Servo Speed Control/ Sup...</td>\n",
       "      <td>NaN</td>\n",
       "    </tr>\n",
       "    <tr>\n",
       "      <th>1</th>\n",
       "      <td>1</td>\n",
       "      <td>Bose Acoustimass 5 Series III Speaker System - AM53BK</td>\n",
       "      <td>Bose Acoustimass 5 Series III Speaker System - AM53BK/ 2 Dual Cube Speakers With Two 2-1/2' Wide...</td>\n",
       "      <td>399.0</td>\n",
       "    </tr>\n",
       "    <tr>\n",
       "      <th>2</th>\n",
       "      <td>2</td>\n",
       "      <td>Sony Switcher - SBV40S</td>\n",
       "      <td>Sony Switcher - SBV40S/ Eliminates Disconnecting And Reconnecting Cables/ Compact Design/ 4 A/V ...</td>\n",
       "      <td>49.0</td>\n",
       "    </tr>\n",
       "    <tr>\n",
       "      <th>3</th>\n",
       "      <td>3</td>\n",
       "      <td>Sony 5 Disc CD Player - CDPCE375</td>\n",
       "      <td>Sony 5 Disc CD Player- CDPCE375/ 5 Disc Changer/ Variable Line Output/ CD-R/RW Playback Capabili...</td>\n",
       "      <td>NaN</td>\n",
       "    </tr>\n",
       "    <tr>\n",
       "      <th>4</th>\n",
       "      <td>4</td>\n",
       "      <td>Bose 27028 161 Bookshelf Pair Speakers In White - 161WH</td>\n",
       "      <td>Bose 161 Bookshelf Speakers In White - 161WH/ Articulated Array Speaker Design/ High-Excursion T...</td>\n",
       "      <td>158.0</td>\n",
       "    </tr>\n",
       "  </tbody>\n",
       "</table>\n",
       "</div>"
      ],
      "text/plain": [
       "   id                                                     name  \\\n",
       "0   0                                Sony Turntable - PSLX350H   \n",
       "1   1    Bose Acoustimass 5 Series III Speaker System - AM53BK   \n",
       "2   2                                   Sony Switcher - SBV40S   \n",
       "3   3                         Sony 5 Disc CD Player - CDPCE375   \n",
       "4   4  Bose 27028 161 Bookshelf Pair Speakers In White - 161WH   \n",
       "\n",
       "                                                                                           description  \\\n",
       "0  Sony Turntable - PSLX350H/ Belt Drive System/ 33-1/3 and 45 RPM Speeds/ Servo Speed Control/ Sup...   \n",
       "1  Bose Acoustimass 5 Series III Speaker System - AM53BK/ 2 Dual Cube Speakers With Two 2-1/2' Wide...   \n",
       "2  Sony Switcher - SBV40S/ Eliminates Disconnecting And Reconnecting Cables/ Compact Design/ 4 A/V ...   \n",
       "3  Sony 5 Disc CD Player- CDPCE375/ 5 Disc Changer/ Variable Line Output/ CD-R/RW Playback Capabili...   \n",
       "4  Bose 161 Bookshelf Speakers In White - 161WH/ Articulated Array Speaker Design/ High-Excursion T...   \n",
       "\n",
       "   price  \n",
       "0    NaN  \n",
       "1  399.0  \n",
       "2   49.0  \n",
       "3    NaN  \n",
       "4  158.0  "
      ]
     },
     "execution_count": 55,
     "metadata": {},
     "output_type": "execute_result"
    }
   ],
   "source": [
    "A.head()"
   ]
  },
  {
   "cell_type": "markdown",
   "id": "dbc8a51e",
   "metadata": {},
   "source": [
    "# 2. Blocking to create candidate tuple pairs"
   ]
  },
  {
   "cell_type": "markdown",
   "id": "ce697e3a",
   "metadata": {},
   "source": [
    "## Overlap Blocking"
   ]
  },
  {
   "cell_type": "code",
   "execution_count": 56,
   "id": "06a0350f",
   "metadata": {},
   "outputs": [
    {
     "name": "stderr",
     "output_type": "stream",
     "text": [
      "C:\\Users\\DELL\\anaconda3\\lib\\site-packages\\py_entitymatching\\blocker\\overlap_blocker.py:258: SettingWithCopyWarning: \n",
      "A value is trying to be set on a copy of a slice from a DataFrame.\n",
      "Try using .loc[row_indexer,col_indexer] = value instead\n",
      "\n",
      "See the caveats in the documentation: https://pandas.pydata.org/pandas-docs/stable/user_guide/indexing.html#returning-a-view-versus-a-copy\n",
      "  l_df[l_dummy_overlap_attr] = l_df[l_overlap_attr]\n",
      "C:\\Users\\DELL\\anaconda3\\lib\\site-packages\\py_entitymatching\\blocker\\overlap_blocker.py:259: SettingWithCopyWarning: \n",
      "A value is trying to be set on a copy of a slice from a DataFrame.\n",
      "Try using .loc[row_indexer,col_indexer] = value instead\n",
      "\n",
      "See the caveats in the documentation: https://pandas.pydata.org/pandas-docs/stable/user_guide/indexing.html#returning-a-view-versus-a-copy\n",
      "  r_df[r_dummy_overlap_attr] = r_df[r_overlap_attr]\n",
      "C:\\Users\\DELL\\anaconda3\\lib\\site-packages\\py_entitymatching\\blocker\\overlap_blocker.py:615: SettingWithCopyWarning: \n",
      "A value is trying to be set on a copy of a slice from a DataFrame.\n",
      "Try using .loc[row_indexer,col_indexer] = value instead\n",
      "\n",
      "See the caveats in the documentation: https://pandas.pydata.org/pandas-docs/stable/user_guide/indexing.html#returning-a-view-versus-a-copy\n",
      "  table[overlap_attr] = values\n",
      "C:\\Users\\DELL\\anaconda3\\lib\\site-packages\\py_stringsimjoin\\utils\\generic_helper.py:76: FutureWarning: In a future version of pandas all arguments of DataFrame.dropna will be keyword-only.\n",
      "  projected_dataframe = dataframe[proj_attrs].dropna(0,\n",
      "C:\\Users\\DELL\\anaconda3\\lib\\site-packages\\py_stringsimjoin\\utils\\generic_helper.py:76: FutureWarning: In a future version of pandas all arguments of DataFrame.dropna will be keyword-only.\n",
      "  projected_dataframe = dataframe[proj_attrs].dropna(0,\n",
      "0% [##############################] 100% | ETA: 00:00:00\n",
      "Total time elapsed: 00:00:03\n"
     ]
    }
   ],
   "source": [
    "ob = em.OverlapBlocker()\n",
    "OB = ob.block_tables(A, A, 'name', 'name', l_output_attrs=['description', 'name', 'price'],\n",
    "                   r_output_attrs=['description', 'name', 'price'])"
   ]
  },
  {
   "cell_type": "code",
   "execution_count": 57,
   "id": "e472db3d",
   "metadata": {},
   "outputs": [
    {
     "data": {
      "text/html": [
       "<div>\n",
       "<style scoped>\n",
       "    .dataframe tbody tr th:only-of-type {\n",
       "        vertical-align: middle;\n",
       "    }\n",
       "\n",
       "    .dataframe tbody tr th {\n",
       "        vertical-align: top;\n",
       "    }\n",
       "\n",
       "    .dataframe thead th {\n",
       "        text-align: right;\n",
       "    }\n",
       "</style>\n",
       "<table border=\"1\" class=\"dataframe\">\n",
       "  <thead>\n",
       "    <tr style=\"text-align: right;\">\n",
       "      <th></th>\n",
       "      <th>_id</th>\n",
       "      <th>ltable_id</th>\n",
       "      <th>rtable_id</th>\n",
       "      <th>ltable_description</th>\n",
       "      <th>ltable_name</th>\n",
       "      <th>ltable_price</th>\n",
       "      <th>rtable_description</th>\n",
       "      <th>rtable_name</th>\n",
       "      <th>rtable_price</th>\n",
       "    </tr>\n",
       "  </thead>\n",
       "  <tbody>\n",
       "    <tr>\n",
       "      <th>0</th>\n",
       "      <td>0</td>\n",
       "      <td>0</td>\n",
       "      <td>0</td>\n",
       "      <td>Sony Turntable - PSLX350H/ Belt Drive System/ 33-1/3 and 45 RPM Speeds/ Servo Speed Control/ Sup...</td>\n",
       "      <td>Sony Turntable - PSLX350H</td>\n",
       "      <td>NaN</td>\n",
       "      <td>Sony Turntable - PSLX350H/ Belt Drive System/ 33-1/3 and 45 RPM Speeds/ Servo Speed Control/ Sup...</td>\n",
       "      <td>Sony Turntable - PSLX350H</td>\n",
       "      <td>NaN</td>\n",
       "    </tr>\n",
       "    <tr>\n",
       "      <th>1</th>\n",
       "      <td>1</td>\n",
       "      <td>2</td>\n",
       "      <td>0</td>\n",
       "      <td>Sony Switcher - SBV40S/ Eliminates Disconnecting And Reconnecting Cables/ Compact Design/ 4 A/V ...</td>\n",
       "      <td>Sony Switcher - SBV40S</td>\n",
       "      <td>49.00</td>\n",
       "      <td>Sony Turntable - PSLX350H/ Belt Drive System/ 33-1/3 and 45 RPM Speeds/ Servo Speed Control/ Sup...</td>\n",
       "      <td>Sony Turntable - PSLX350H</td>\n",
       "      <td>NaN</td>\n",
       "    </tr>\n",
       "    <tr>\n",
       "      <th>2</th>\n",
       "      <td>2</td>\n",
       "      <td>3</td>\n",
       "      <td>0</td>\n",
       "      <td>Sony 5 Disc CD Player- CDPCE375/ 5 Disc Changer/ Variable Line Output/ CD-R/RW Playback Capabili...</td>\n",
       "      <td>Sony 5 Disc CD Player - CDPCE375</td>\n",
       "      <td>NaN</td>\n",
       "      <td>Sony Turntable - PSLX350H/ Belt Drive System/ 33-1/3 and 45 RPM Speeds/ Servo Speed Control/ Sup...</td>\n",
       "      <td>Sony Turntable - PSLX350H</td>\n",
       "      <td>NaN</td>\n",
       "    </tr>\n",
       "    <tr>\n",
       "      <th>3</th>\n",
       "      <td>3</td>\n",
       "      <td>8</td>\n",
       "      <td>0</td>\n",
       "      <td>Sony Vertical-In-The-Ear Stereo Headphones - MDRJ10/ Clip On Style/ 13.5 MM Driver Unit/ Blue Fi...</td>\n",
       "      <td>Sony Vertical-In-The-Ear Stereo Headphones - MDRJ10</td>\n",
       "      <td>NaN</td>\n",
       "      <td>Sony Turntable - PSLX350H/ Belt Drive System/ 33-1/3 and 45 RPM Speeds/ Servo Speed Control/ Sup...</td>\n",
       "      <td>Sony Turntable - PSLX350H</td>\n",
       "      <td>NaN</td>\n",
       "    </tr>\n",
       "    <tr>\n",
       "      <th>4</th>\n",
       "      <td>4</td>\n",
       "      <td>12</td>\n",
       "      <td>0</td>\n",
       "      <td>Sony 300 Disc CD Changer - CDPCX355/ MegaStorage Control/ CD-R/CD-RW Playback/ 32 Step Program P...</td>\n",
       "      <td>Sony 300 Disc CD Changer - CDPCX355</td>\n",
       "      <td>NaN</td>\n",
       "      <td>Sony Turntable - PSLX350H/ Belt Drive System/ 33-1/3 and 45 RPM Speeds/ Servo Speed Control/ Sup...</td>\n",
       "      <td>Sony Turntable - PSLX350H</td>\n",
       "      <td>NaN</td>\n",
       "    </tr>\n",
       "    <tr>\n",
       "      <th>...</th>\n",
       "      <td>...</td>\n",
       "      <td>...</td>\n",
       "      <td>...</td>\n",
       "      <td>...</td>\n",
       "      <td>...</td>\n",
       "      <td>...</td>\n",
       "      <td>...</td>\n",
       "      <td>...</td>\n",
       "      <td>...</td>\n",
       "    </tr>\n",
       "    <tr>\n",
       "      <th>733661</th>\n",
       "      <td>733661</td>\n",
       "      <td>2111</td>\n",
       "      <td>2151</td>\n",
       "      <td>NaN</td>\n",
       "      <td>Canon CLI-221 Color Ink 4-Pack (Black/ Cyan/ Magenta/ Yellow) - 2946B004</td>\n",
       "      <td>44.99</td>\n",
       "      <td>NaN</td>\n",
       "      <td>CASE MATE CARBON FIBER IPHONE 3G CASE BLACK - IPH3GC-BCF</td>\n",
       "      <td>28.08</td>\n",
       "    </tr>\n",
       "    <tr>\n",
       "      <th>733662</th>\n",
       "      <td>733662</td>\n",
       "      <td>2114</td>\n",
       "      <td>2151</td>\n",
       "      <td>NaN</td>\n",
       "      <td>Altec Lansing IMT702 inMotion MAX Portable Speaker System for iPhone</td>\n",
       "      <td>133.96</td>\n",
       "      <td>NaN</td>\n",
       "      <td>CASE MATE CARBON FIBER IPHONE 3G CASE BLACK - IPH3GC-BCF</td>\n",
       "      <td>28.08</td>\n",
       "    </tr>\n",
       "    <tr>\n",
       "      <th>733663</th>\n",
       "      <td>733663</td>\n",
       "      <td>2116</td>\n",
       "      <td>2151</td>\n",
       "      <td>NaN</td>\n",
       "      <td>Flip Video MinoHD 60 min Black - F460B</td>\n",
       "      <td>232.50</td>\n",
       "      <td>NaN</td>\n",
       "      <td>CASE MATE CARBON FIBER IPHONE 3G CASE BLACK - IPH3GC-BCF</td>\n",
       "      <td>28.08</td>\n",
       "    </tr>\n",
       "    <tr>\n",
       "      <th>733664</th>\n",
       "      <td>733664</td>\n",
       "      <td>2144</td>\n",
       "      <td>2151</td>\n",
       "      <td>NaN</td>\n",
       "      <td>Maytag MDB7851AWB Full Console Dishwasher (Black)</td>\n",
       "      <td>NaN</td>\n",
       "      <td>NaN</td>\n",
       "      <td>CASE MATE CARBON FIBER IPHONE 3G CASE BLACK - IPH3GC-BCF</td>\n",
       "      <td>28.08</td>\n",
       "    </tr>\n",
       "    <tr>\n",
       "      <th>733665</th>\n",
       "      <td>733665</td>\n",
       "      <td>2151</td>\n",
       "      <td>2151</td>\n",
       "      <td>NaN</td>\n",
       "      <td>CASE MATE CARBON FIBER IPHONE 3G CASE BLACK - IPH3GC-BCF</td>\n",
       "      <td>28.08</td>\n",
       "      <td>NaN</td>\n",
       "      <td>CASE MATE CARBON FIBER IPHONE 3G CASE BLACK - IPH3GC-BCF</td>\n",
       "      <td>28.08</td>\n",
       "    </tr>\n",
       "  </tbody>\n",
       "</table>\n",
       "<p>733666 rows × 9 columns</p>\n",
       "</div>"
      ],
      "text/plain": [
       "           _id  ltable_id  rtable_id  \\\n",
       "0            0          0          0   \n",
       "1            1          2          0   \n",
       "2            2          3          0   \n",
       "3            3          8          0   \n",
       "4            4         12          0   \n",
       "...        ...        ...        ...   \n",
       "733661  733661       2111       2151   \n",
       "733662  733662       2114       2151   \n",
       "733663  733663       2116       2151   \n",
       "733664  733664       2144       2151   \n",
       "733665  733665       2151       2151   \n",
       "\n",
       "                                                                                         ltable_description  \\\n",
       "0       Sony Turntable - PSLX350H/ Belt Drive System/ 33-1/3 and 45 RPM Speeds/ Servo Speed Control/ Sup...   \n",
       "1       Sony Switcher - SBV40S/ Eliminates Disconnecting And Reconnecting Cables/ Compact Design/ 4 A/V ...   \n",
       "2       Sony 5 Disc CD Player- CDPCE375/ 5 Disc Changer/ Variable Line Output/ CD-R/RW Playback Capabili...   \n",
       "3       Sony Vertical-In-The-Ear Stereo Headphones - MDRJ10/ Clip On Style/ 13.5 MM Driver Unit/ Blue Fi...   \n",
       "4       Sony 300 Disc CD Changer - CDPCX355/ MegaStorage Control/ CD-R/CD-RW Playback/ 32 Step Program P...   \n",
       "...                                                                                                     ...   \n",
       "733661                                                                                                  NaN   \n",
       "733662                                                                                                  NaN   \n",
       "733663                                                                                                  NaN   \n",
       "733664                                                                                                  NaN   \n",
       "733665                                                                                                  NaN   \n",
       "\n",
       "                                                                     ltable_name  \\\n",
       "0                                                      Sony Turntable - PSLX350H   \n",
       "1                                                         Sony Switcher - SBV40S   \n",
       "2                                               Sony 5 Disc CD Player - CDPCE375   \n",
       "3                            Sony Vertical-In-The-Ear Stereo Headphones - MDRJ10   \n",
       "4                                            Sony 300 Disc CD Changer - CDPCX355   \n",
       "...                                                                          ...   \n",
       "733661  Canon CLI-221 Color Ink 4-Pack (Black/ Cyan/ Magenta/ Yellow) - 2946B004   \n",
       "733662      Altec Lansing IMT702 inMotion MAX Portable Speaker System for iPhone   \n",
       "733663                                    Flip Video MinoHD 60 min Black - F460B   \n",
       "733664                         Maytag MDB7851AWB Full Console Dishwasher (Black)   \n",
       "733665                  CASE MATE CARBON FIBER IPHONE 3G CASE BLACK - IPH3GC-BCF   \n",
       "\n",
       "        ltable_price  \\\n",
       "0                NaN   \n",
       "1              49.00   \n",
       "2                NaN   \n",
       "3                NaN   \n",
       "4                NaN   \n",
       "...              ...   \n",
       "733661         44.99   \n",
       "733662        133.96   \n",
       "733663        232.50   \n",
       "733664           NaN   \n",
       "733665         28.08   \n",
       "\n",
       "                                                                                         rtable_description  \\\n",
       "0       Sony Turntable - PSLX350H/ Belt Drive System/ 33-1/3 and 45 RPM Speeds/ Servo Speed Control/ Sup...   \n",
       "1       Sony Turntable - PSLX350H/ Belt Drive System/ 33-1/3 and 45 RPM Speeds/ Servo Speed Control/ Sup...   \n",
       "2       Sony Turntable - PSLX350H/ Belt Drive System/ 33-1/3 and 45 RPM Speeds/ Servo Speed Control/ Sup...   \n",
       "3       Sony Turntable - PSLX350H/ Belt Drive System/ 33-1/3 and 45 RPM Speeds/ Servo Speed Control/ Sup...   \n",
       "4       Sony Turntable - PSLX350H/ Belt Drive System/ 33-1/3 and 45 RPM Speeds/ Servo Speed Control/ Sup...   \n",
       "...                                                                                                     ...   \n",
       "733661                                                                                                  NaN   \n",
       "733662                                                                                                  NaN   \n",
       "733663                                                                                                  NaN   \n",
       "733664                                                                                                  NaN   \n",
       "733665                                                                                                  NaN   \n",
       "\n",
       "                                                     rtable_name  rtable_price  \n",
       "0                                      Sony Turntable - PSLX350H           NaN  \n",
       "1                                      Sony Turntable - PSLX350H           NaN  \n",
       "2                                      Sony Turntable - PSLX350H           NaN  \n",
       "3                                      Sony Turntable - PSLX350H           NaN  \n",
       "4                                      Sony Turntable - PSLX350H           NaN  \n",
       "...                                                          ...           ...  \n",
       "733661  CASE MATE CARBON FIBER IPHONE 3G CASE BLACK - IPH3GC-BCF         28.08  \n",
       "733662  CASE MATE CARBON FIBER IPHONE 3G CASE BLACK - IPH3GC-BCF         28.08  \n",
       "733663  CASE MATE CARBON FIBER IPHONE 3G CASE BLACK - IPH3GC-BCF         28.08  \n",
       "733664  CASE MATE CARBON FIBER IPHONE 3G CASE BLACK - IPH3GC-BCF         28.08  \n",
       "733665  CASE MATE CARBON FIBER IPHONE 3G CASE BLACK - IPH3GC-BCF         28.08  \n",
       "\n",
       "[733666 rows x 9 columns]"
      ]
     },
     "execution_count": 57,
     "metadata": {},
     "output_type": "execute_result"
    }
   ],
   "source": [
    "OB"
   ]
  },
  {
   "cell_type": "markdown",
   "id": "2b60c549",
   "metadata": {},
   "source": [
    "## Attribute Equivalence Blocking"
   ]
  },
  {
   "cell_type": "code",
   "execution_count": 58,
   "id": "2cfb95e3",
   "metadata": {},
   "outputs": [],
   "source": [
    "# Create attribute equivalence blocker on Price \n",
    "ab = em.AttrEquivalenceBlocker()\n",
    "# Block tables using 'year' attribute: same year then include in the canidate set\n",
    "AE = ab.block_tables(A, A, 'price', 'price', \n",
    "                   l_output_attrs=['description', 'name', 'price'],\n",
    "                   r_output_attrs=['description', 'name', 'price']\n",
    "                   )"
   ]
  },
  {
   "cell_type": "code",
   "execution_count": 59,
   "id": "2cfa973b",
   "metadata": {},
   "outputs": [
    {
     "data": {
      "text/html": [
       "<div>\n",
       "<style scoped>\n",
       "    .dataframe tbody tr th:only-of-type {\n",
       "        vertical-align: middle;\n",
       "    }\n",
       "\n",
       "    .dataframe tbody tr th {\n",
       "        vertical-align: top;\n",
       "    }\n",
       "\n",
       "    .dataframe thead th {\n",
       "        text-align: right;\n",
       "    }\n",
       "</style>\n",
       "<table border=\"1\" class=\"dataframe\">\n",
       "  <thead>\n",
       "    <tr style=\"text-align: right;\">\n",
       "      <th></th>\n",
       "      <th>_id</th>\n",
       "      <th>ltable_id</th>\n",
       "      <th>rtable_id</th>\n",
       "      <th>ltable_description</th>\n",
       "      <th>ltable_name</th>\n",
       "      <th>ltable_price</th>\n",
       "      <th>rtable_description</th>\n",
       "      <th>rtable_name</th>\n",
       "      <th>rtable_price</th>\n",
       "    </tr>\n",
       "  </thead>\n",
       "  <tbody>\n",
       "    <tr>\n",
       "      <th>0</th>\n",
       "      <td>0</td>\n",
       "      <td>1</td>\n",
       "      <td>1</td>\n",
       "      <td>Bose Acoustimass 5 Series III Speaker System - AM53BK/ 2 Dual Cube Speakers With Two 2-1/2' Wide...</td>\n",
       "      <td>Bose Acoustimass 5 Series III Speaker System - AM53BK</td>\n",
       "      <td>399.00</td>\n",
       "      <td>Bose Acoustimass 5 Series III Speaker System - AM53BK/ 2 Dual Cube Speakers With Two 2-1/2' Wide...</td>\n",
       "      <td>Bose Acoustimass 5 Series III Speaker System - AM53BK</td>\n",
       "      <td>399.00</td>\n",
       "    </tr>\n",
       "    <tr>\n",
       "      <th>1</th>\n",
       "      <td>1</td>\n",
       "      <td>1</td>\n",
       "      <td>281</td>\n",
       "      <td>Bose Acoustimass 5 Series III Speaker System - AM53BK/ 2 Dual Cube Speakers With Two 2-1/2' Wide...</td>\n",
       "      <td>Bose Acoustimass 5 Series III Speaker System - AM53BK</td>\n",
       "      <td>399.00</td>\n",
       "      <td>Tech Craft Dark Cherry Veneto Series TV Stand - SWP60/ 60' Wide Credenza For Flat Panel TV?s And...</td>\n",
       "      <td>Tech Craft Dark Cherry Veneto Series TV Stand - SWP60</td>\n",
       "      <td>399.00</td>\n",
       "    </tr>\n",
       "    <tr>\n",
       "      <th>2</th>\n",
       "      <td>2</td>\n",
       "      <td>1</td>\n",
       "      <td>337</td>\n",
       "      <td>Bose Acoustimass 5 Series III Speaker System - AM53BK/ 2 Dual Cube Speakers With Two 2-1/2' Wide...</td>\n",
       "      <td>Bose Acoustimass 5 Series III Speaker System - AM53BK</td>\n",
       "      <td>399.00</td>\n",
       "      <td>Tech Craft Veneto Series Black TV Stand - ABS60BK/ Supports Up To A 60' Flat Panel TV/ Molded To...</td>\n",
       "      <td>Tech Craft Veneto Series Black TV Stand - ABS60BK</td>\n",
       "      <td>399.00</td>\n",
       "    </tr>\n",
       "    <tr>\n",
       "      <th>3</th>\n",
       "      <td>3</td>\n",
       "      <td>1</td>\n",
       "      <td>373</td>\n",
       "      <td>Bose Acoustimass 5 Series III Speaker System - AM53BK/ 2 Dual Cube Speakers With Two 2-1/2' Wide...</td>\n",
       "      <td>Bose Acoustimass 5 Series III Speaker System - AM53BK</td>\n",
       "      <td>399.00</td>\n",
       "      <td>Microsoft Office Standard 2007 - 02107746/ Create Documents Faster More Easily And More Intuitiv...</td>\n",
       "      <td>Microsoft Office Standard 2007 - 02107746</td>\n",
       "      <td>399.00</td>\n",
       "    </tr>\n",
       "    <tr>\n",
       "      <th>4</th>\n",
       "      <td>4</td>\n",
       "      <td>1</td>\n",
       "      <td>472</td>\n",
       "      <td>Bose Acoustimass 5 Series III Speaker System - AM53BK/ 2 Dual Cube Speakers With Two 2-1/2' Wide...</td>\n",
       "      <td>Bose Acoustimass 5 Series III Speaker System - AM53BK</td>\n",
       "      <td>399.00</td>\n",
       "      <td>Yamaha 5.1 Channel Home Theater In A Box System In Black - YHT390BK/ New Scene Compressed Music ...</td>\n",
       "      <td>Yamaha 5.1 Channel Home Theater In A Box System In Black  - YHT390BK</td>\n",
       "      <td>399.00</td>\n",
       "    </tr>\n",
       "    <tr>\n",
       "      <th>...</th>\n",
       "      <td>...</td>\n",
       "      <td>...</td>\n",
       "      <td>...</td>\n",
       "      <td>...</td>\n",
       "      <td>...</td>\n",
       "      <td>...</td>\n",
       "      <td>...</td>\n",
       "      <td>...</td>\n",
       "      <td>...</td>\n",
       "    </tr>\n",
       "    <tr>\n",
       "      <th>4075</th>\n",
       "      <td>4075</td>\n",
       "      <td>2139</td>\n",
       "      <td>2139</td>\n",
       "      <td>NaN</td>\n",
       "      <td>Audiovox DPF701 7-Inch Acrylic Digital Picture Frame</td>\n",
       "      <td>41.40</td>\n",
       "      <td>NaN</td>\n",
       "      <td>Audiovox DPF701 7-Inch Acrylic Digital Picture Frame</td>\n",
       "      <td>41.40</td>\n",
       "    </tr>\n",
       "    <tr>\n",
       "      <th>4076</th>\n",
       "      <td>4076</td>\n",
       "      <td>2141</td>\n",
       "      <td>2141</td>\n",
       "      <td>Intel Core 2 Duo E7200 2.53GHz - 4GB DDR2 SDRAM - 320GB - DVD-Writer (DVD-RAM/R/RW) - Gigabit Et...</td>\n",
       "      <td>Sony VAIO LV140J Desktop - VGC-LV140J</td>\n",
       "      <td>1599.99</td>\n",
       "      <td>Intel Core 2 Duo E7200 2.53GHz - 4GB DDR2 SDRAM - 320GB - DVD-Writer (DVD-RAM/R/RW) - Gigabit Et...</td>\n",
       "      <td>Sony VAIO LV140J Desktop - VGC-LV140J</td>\n",
       "      <td>1599.99</td>\n",
       "    </tr>\n",
       "    <tr>\n",
       "      <th>4077</th>\n",
       "      <td>4077</td>\n",
       "      <td>2142</td>\n",
       "      <td>2142</td>\n",
       "      <td>NaN</td>\n",
       "      <td>Simpletech 2GB SD Card - 3505B001AA</td>\n",
       "      <td>12.88</td>\n",
       "      <td>NaN</td>\n",
       "      <td>Simpletech 2GB SD Card - 3505B001AA</td>\n",
       "      <td>12.88</td>\n",
       "    </tr>\n",
       "    <tr>\n",
       "      <th>4078</th>\n",
       "      <td>4078</td>\n",
       "      <td>2145</td>\n",
       "      <td>2145</td>\n",
       "      <td>NaN</td>\n",
       "      <td>Whirlpool DU1100XTPS 24' Undercounter Dishwasher (Stainless Steel)</td>\n",
       "      <td>537.29</td>\n",
       "      <td>NaN</td>\n",
       "      <td>Whirlpool DU1100XTPS 24' Undercounter Dishwasher (Stainless Steel)</td>\n",
       "      <td>537.29</td>\n",
       "    </tr>\n",
       "    <tr>\n",
       "      <th>4079</th>\n",
       "      <td>4079</td>\n",
       "      <td>2151</td>\n",
       "      <td>2151</td>\n",
       "      <td>NaN</td>\n",
       "      <td>CASE MATE CARBON FIBER IPHONE 3G CASE BLACK - IPH3GC-BCF</td>\n",
       "      <td>28.08</td>\n",
       "      <td>NaN</td>\n",
       "      <td>CASE MATE CARBON FIBER IPHONE 3G CASE BLACK - IPH3GC-BCF</td>\n",
       "      <td>28.08</td>\n",
       "    </tr>\n",
       "  </tbody>\n",
       "</table>\n",
       "<p>4080 rows × 9 columns</p>\n",
       "</div>"
      ],
      "text/plain": [
       "       _id  ltable_id  rtable_id  \\\n",
       "0        0          1          1   \n",
       "1        1          1        281   \n",
       "2        2          1        337   \n",
       "3        3          1        373   \n",
       "4        4          1        472   \n",
       "...    ...        ...        ...   \n",
       "4075  4075       2139       2139   \n",
       "4076  4076       2141       2141   \n",
       "4077  4077       2142       2142   \n",
       "4078  4078       2145       2145   \n",
       "4079  4079       2151       2151   \n",
       "\n",
       "                                                                                       ltable_description  \\\n",
       "0     Bose Acoustimass 5 Series III Speaker System - AM53BK/ 2 Dual Cube Speakers With Two 2-1/2' Wide...   \n",
       "1     Bose Acoustimass 5 Series III Speaker System - AM53BK/ 2 Dual Cube Speakers With Two 2-1/2' Wide...   \n",
       "2     Bose Acoustimass 5 Series III Speaker System - AM53BK/ 2 Dual Cube Speakers With Two 2-1/2' Wide...   \n",
       "3     Bose Acoustimass 5 Series III Speaker System - AM53BK/ 2 Dual Cube Speakers With Two 2-1/2' Wide...   \n",
       "4     Bose Acoustimass 5 Series III Speaker System - AM53BK/ 2 Dual Cube Speakers With Two 2-1/2' Wide...   \n",
       "...                                                                                                   ...   \n",
       "4075                                                                                                  NaN   \n",
       "4076  Intel Core 2 Duo E7200 2.53GHz - 4GB DDR2 SDRAM - 320GB - DVD-Writer (DVD-RAM/R/RW) - Gigabit Et...   \n",
       "4077                                                                                                  NaN   \n",
       "4078                                                                                                  NaN   \n",
       "4079                                                                                                  NaN   \n",
       "\n",
       "                                                             ltable_name  \\\n",
       "0                  Bose Acoustimass 5 Series III Speaker System - AM53BK   \n",
       "1                  Bose Acoustimass 5 Series III Speaker System - AM53BK   \n",
       "2                  Bose Acoustimass 5 Series III Speaker System - AM53BK   \n",
       "3                  Bose Acoustimass 5 Series III Speaker System - AM53BK   \n",
       "4                  Bose Acoustimass 5 Series III Speaker System - AM53BK   \n",
       "...                                                                  ...   \n",
       "4075                Audiovox DPF701 7-Inch Acrylic Digital Picture Frame   \n",
       "4076                               Sony VAIO LV140J Desktop - VGC-LV140J   \n",
       "4077                                 Simpletech 2GB SD Card - 3505B001AA   \n",
       "4078  Whirlpool DU1100XTPS 24' Undercounter Dishwasher (Stainless Steel)   \n",
       "4079            CASE MATE CARBON FIBER IPHONE 3G CASE BLACK - IPH3GC-BCF   \n",
       "\n",
       "      ltable_price  \\\n",
       "0           399.00   \n",
       "1           399.00   \n",
       "2           399.00   \n",
       "3           399.00   \n",
       "4           399.00   \n",
       "...            ...   \n",
       "4075         41.40   \n",
       "4076       1599.99   \n",
       "4077         12.88   \n",
       "4078        537.29   \n",
       "4079         28.08   \n",
       "\n",
       "                                                                                       rtable_description  \\\n",
       "0     Bose Acoustimass 5 Series III Speaker System - AM53BK/ 2 Dual Cube Speakers With Two 2-1/2' Wide...   \n",
       "1     Tech Craft Dark Cherry Veneto Series TV Stand - SWP60/ 60' Wide Credenza For Flat Panel TV?s And...   \n",
       "2     Tech Craft Veneto Series Black TV Stand - ABS60BK/ Supports Up To A 60' Flat Panel TV/ Molded To...   \n",
       "3     Microsoft Office Standard 2007 - 02107746/ Create Documents Faster More Easily And More Intuitiv...   \n",
       "4     Yamaha 5.1 Channel Home Theater In A Box System In Black - YHT390BK/ New Scene Compressed Music ...   \n",
       "...                                                                                                   ...   \n",
       "4075                                                                                                  NaN   \n",
       "4076  Intel Core 2 Duo E7200 2.53GHz - 4GB DDR2 SDRAM - 320GB - DVD-Writer (DVD-RAM/R/RW) - Gigabit Et...   \n",
       "4077                                                                                                  NaN   \n",
       "4078                                                                                                  NaN   \n",
       "4079                                                                                                  NaN   \n",
       "\n",
       "                                                               rtable_name  \\\n",
       "0                    Bose Acoustimass 5 Series III Speaker System - AM53BK   \n",
       "1                    Tech Craft Dark Cherry Veneto Series TV Stand - SWP60   \n",
       "2                        Tech Craft Veneto Series Black TV Stand - ABS60BK   \n",
       "3                                Microsoft Office Standard 2007 - 02107746   \n",
       "4     Yamaha 5.1 Channel Home Theater In A Box System In Black  - YHT390BK   \n",
       "...                                                                    ...   \n",
       "4075                  Audiovox DPF701 7-Inch Acrylic Digital Picture Frame   \n",
       "4076                                 Sony VAIO LV140J Desktop - VGC-LV140J   \n",
       "4077                                   Simpletech 2GB SD Card - 3505B001AA   \n",
       "4078    Whirlpool DU1100XTPS 24' Undercounter Dishwasher (Stainless Steel)   \n",
       "4079              CASE MATE CARBON FIBER IPHONE 3G CASE BLACK - IPH3GC-BCF   \n",
       "\n",
       "      rtable_price  \n",
       "0           399.00  \n",
       "1           399.00  \n",
       "2           399.00  \n",
       "3           399.00  \n",
       "4           399.00  \n",
       "...            ...  \n",
       "4075         41.40  \n",
       "4076       1599.99  \n",
       "4077         12.88  \n",
       "4078        537.29  \n",
       "4079         28.08  \n",
       "\n",
       "[4080 rows x 9 columns]"
      ]
     },
     "execution_count": 59,
     "metadata": {},
     "output_type": "execute_result"
    }
   ],
   "source": [
    "AE"
   ]
  },
  {
   "cell_type": "markdown",
   "id": "ceaa8868",
   "metadata": {},
   "source": [
    "## Rule-based Blocking"
   ]
  },
  {
   "cell_type": "code",
   "execution_count": 61,
   "id": "d30e01b6",
   "metadata": {},
   "outputs": [],
   "source": [
    "block_f = em.get_features_for_blocking(A, A, validate_inferred_attr_types=False)\n",
    "block_t = em.get_tokenizers_for_blocking()\n",
    "block_s = em.get_sim_funs_for_blocking()"
   ]
  },
  {
   "cell_type": "code",
   "execution_count": 62,
   "id": "e7fb2dfa",
   "metadata": {},
   "outputs": [
    {
     "data": {
      "text/plain": [
       "True"
      ]
     },
     "execution_count": 62,
     "metadata": {},
     "output_type": "execute_result"
    }
   ],
   "source": [
    "r = em.get_feature_fn('monge_elkan(alphanumeric(ltuple[\"name\"]), alphanumeric(rtuple[\"name\"]))', block_t, block_s)\n",
    "em.add_feature(block_f, 'name_name_mel_alphanumeric_alphanumeric', r)"
   ]
  },
  {
   "cell_type": "code",
   "execution_count": 63,
   "id": "6c03c128",
   "metadata": {},
   "outputs": [
    {
     "data": {
      "text/plain": [
       "'_rule_0'"
      ]
     },
     "execution_count": 63,
     "metadata": {},
     "output_type": "execute_result"
    }
   ],
   "source": [
    "rb1 = em.RuleBasedBlocker()\n",
    "# Add rule : block tuples if name_name_lev(ltuple, rtuple) < 0.4\n",
    "# rb.add_rule(['name_name_cos_dlm_dc0_dlm_dc0(ltuple, rtuple) < 0.3'], block_f)\n",
    "rb1.add_rule(['name_name_mel_alphanumeric_alphanumeric(ltuple, rtuple) < 0.7'], block_f)"
   ]
  },
  {
   "cell_type": "code",
   "execution_count": 64,
   "id": "9339a47b",
   "metadata": {},
   "outputs": [
    {
     "name": "stderr",
     "output_type": "stream",
     "text": [
      "0% [###                           ] 100% | ETA: 00:36:03"
     ]
    },
    {
     "ename": "KeyboardInterrupt",
     "evalue": "",
     "output_type": "error",
     "traceback": [
      "\u001b[1;31m---------------------------------------------------------------------------\u001b[0m",
      "\u001b[1;31mKeyboardInterrupt\u001b[0m                         Traceback (most recent call last)",
      "Cell \u001b[1;32mIn[64], line 1\u001b[0m\n\u001b[1;32m----> 1\u001b[0m R1 \u001b[38;5;241m=\u001b[39m \u001b[43mrb1\u001b[49m\u001b[38;5;241;43m.\u001b[39;49m\u001b[43mblock_tables\u001b[49m\u001b[43m(\u001b[49m\u001b[43mA\u001b[49m\u001b[43m,\u001b[49m\u001b[43m \u001b[49m\u001b[43mA\u001b[49m\u001b[43m,\u001b[49m\u001b[43m \u001b[49m\u001b[43ml_output_attrs\u001b[49m\u001b[38;5;241;43m=\u001b[39;49m\u001b[43m[\u001b[49m\u001b[38;5;124;43m'\u001b[39;49m\u001b[38;5;124;43mname\u001b[39;49m\u001b[38;5;124;43m'\u001b[39;49m\u001b[43m]\u001b[49m\u001b[43m,\u001b[49m\u001b[43m \u001b[49m\u001b[43mr_output_attrs\u001b[49m\u001b[38;5;241;43m=\u001b[39;49m\u001b[43m[\u001b[49m\u001b[38;5;124;43m'\u001b[39;49m\u001b[38;5;124;43mname\u001b[39;49m\u001b[38;5;124;43m'\u001b[39;49m\u001b[43m]\u001b[49m\u001b[43m,\u001b[49m\u001b[43m \u001b[49m\u001b[43mshow_progress\u001b[49m\u001b[38;5;241;43m=\u001b[39;49m\u001b[38;5;28;43;01mTrue\u001b[39;49;00m\u001b[43m)\u001b[49m\n",
      "File \u001b[1;32m~\\anaconda3\\lib\\site-packages\\py_entitymatching\\blocker\\rule_based_blocker.py:407\u001b[0m, in \u001b[0;36mRuleBasedBlocker.block_tables\u001b[1;34m(self, ltable, rtable, l_output_attrs, r_output_attrs, l_output_prefix, r_output_prefix, verbose, show_progress, n_jobs)\u001b[0m\n\u001b[0;32m    395\u001b[0m candset, rule_applied \u001b[38;5;241m=\u001b[39m \u001b[38;5;28mself\u001b[39m\u001b[38;5;241m.\u001b[39mblock_tables_with_filters(l_df, r_df,\n\u001b[0;32m    396\u001b[0m                                                        l_key, r_key,\n\u001b[0;32m    397\u001b[0m                                                        l_output_attrs_1,\n\u001b[1;32m   (...)\u001b[0m\n\u001b[0;32m    402\u001b[0m                                                        show_progress,\n\u001b[0;32m    403\u001b[0m                                                        n_jobs)\n\u001b[0;32m    405\u001b[0m \u001b[38;5;28;01mif\u001b[39;00m candset \u001b[38;5;129;01mis\u001b[39;00m \u001b[38;5;28;01mNone\u001b[39;00m:\n\u001b[0;32m    406\u001b[0m     \u001b[38;5;66;03m# no filterable rule was applied\u001b[39;00m\n\u001b[1;32m--> 407\u001b[0m     candset \u001b[38;5;241m=\u001b[39m \u001b[38;5;28;43mself\u001b[39;49m\u001b[38;5;241;43m.\u001b[39;49m\u001b[43mblock_tables_without_filters\u001b[49m\u001b[43m(\u001b[49m\u001b[43ml_df\u001b[49m\u001b[43m,\u001b[49m\u001b[43m \u001b[49m\u001b[43mr_df\u001b[49m\u001b[43m,\u001b[49m\u001b[43m \u001b[49m\u001b[43ml_key\u001b[49m\u001b[43m,\u001b[49m\n\u001b[0;32m    408\u001b[0m \u001b[43m                                                \u001b[49m\u001b[43mr_key\u001b[49m\u001b[43m,\u001b[49m\u001b[43m \u001b[49m\u001b[43ml_output_attrs_1\u001b[49m\u001b[43m,\u001b[49m\n\u001b[0;32m    409\u001b[0m \u001b[43m                                                \u001b[49m\u001b[43mr_output_attrs_1\u001b[49m\u001b[43m,\u001b[49m\n\u001b[0;32m    410\u001b[0m \u001b[43m                                                \u001b[49m\u001b[43ml_output_prefix\u001b[49m\u001b[43m,\u001b[49m\n\u001b[0;32m    411\u001b[0m \u001b[43m                                                \u001b[49m\u001b[43mr_output_prefix\u001b[49m\u001b[43m,\u001b[49m\n\u001b[0;32m    412\u001b[0m \u001b[43m                                                \u001b[49m\u001b[43mverbose\u001b[49m\u001b[43m,\u001b[49m\u001b[43m \u001b[49m\u001b[43mshow_progress\u001b[49m\u001b[43m,\u001b[49m\n\u001b[0;32m    413\u001b[0m \u001b[43m                                                \u001b[49m\u001b[43mn_jobs\u001b[49m\u001b[43m)\u001b[49m\n\u001b[0;32m    414\u001b[0m \u001b[38;5;28;01melif\u001b[39;00m \u001b[38;5;28mlen\u001b[39m(\u001b[38;5;28mself\u001b[39m\u001b[38;5;241m.\u001b[39mrules) \u001b[38;5;241m>\u001b[39m \u001b[38;5;241m1\u001b[39m:\n\u001b[0;32m    415\u001b[0m     \u001b[38;5;66;03m# one filterable rule was applied but other rules are left\u001b[39;00m\n\u001b[0;32m    416\u001b[0m     \u001b[38;5;66;03m# block candset by applying other rules and excluding the applied rule \u001b[39;00m\n\u001b[0;32m    417\u001b[0m     candset \u001b[38;5;241m=\u001b[39m \u001b[38;5;28mself\u001b[39m\u001b[38;5;241m.\u001b[39mblock_candset_excluding_rule(candset, l_df, r_df,\n\u001b[0;32m    418\u001b[0m                                                 l_key, r_key,\n\u001b[0;32m    419\u001b[0m                                                 l_output_prefix \u001b[38;5;241m+\u001b[39m l_key,\n\u001b[0;32m    420\u001b[0m                                                 r_output_prefix \u001b[38;5;241m+\u001b[39m r_key,\n\u001b[0;32m    421\u001b[0m                                                 rule_applied,\n\u001b[0;32m    422\u001b[0m                                                 show_progress, n_jobs)\n",
      "File \u001b[1;32m~\\anaconda3\\lib\\site-packages\\py_entitymatching\\blocker\\rule_based_blocker.py:503\u001b[0m, in \u001b[0;36mRuleBasedBlocker.block_tables_without_filters\u001b[1;34m(self, l_df, r_df, l_key, r_key, l_output_attrs, r_output_attrs, l_output_prefix, r_output_prefix, verbose, show_progress, n_jobs)\u001b[0m\n\u001b[0;32m    499\u001b[0m apply_rules_pkl \u001b[38;5;241m=\u001b[39m cp\u001b[38;5;241m.\u001b[39mdumps(\u001b[38;5;28mself\u001b[39m\u001b[38;5;241m.\u001b[39mapply_rules)\n\u001b[0;32m    501\u001b[0m \u001b[38;5;28;01mif\u001b[39;00m n_procs \u001b[38;5;241m<\u001b[39m\u001b[38;5;241m=\u001b[39m \u001b[38;5;241m1\u001b[39m:\n\u001b[0;32m    502\u001b[0m     \u001b[38;5;66;03m# single process\u001b[39;00m\n\u001b[1;32m--> 503\u001b[0m     candset \u001b[38;5;241m=\u001b[39m \u001b[43m_block_tables_split\u001b[49m\u001b[43m(\u001b[49m\u001b[43ml_df\u001b[49m\u001b[43m,\u001b[49m\u001b[43m \u001b[49m\u001b[43mr_df\u001b[49m\u001b[43m,\u001b[49m\u001b[43m \u001b[49m\u001b[43ml_key\u001b[49m\u001b[43m,\u001b[49m\u001b[43m \u001b[49m\u001b[43mr_key\u001b[49m\u001b[43m,\u001b[49m\n\u001b[0;32m    504\u001b[0m \u001b[43m                                  \u001b[49m\u001b[43ml_output_attrs\u001b[49m\u001b[43m,\u001b[49m\u001b[43m \u001b[49m\u001b[43mr_output_attrs\u001b[49m\u001b[43m,\u001b[49m\n\u001b[0;32m    505\u001b[0m \u001b[43m                                  \u001b[49m\u001b[43ml_output_prefix\u001b[49m\u001b[43m,\u001b[49m\u001b[43m \u001b[49m\u001b[43mr_output_prefix\u001b[49m\u001b[43m,\u001b[49m\n\u001b[0;32m    506\u001b[0m \u001b[43m                                  \u001b[49m\u001b[43mapply_rules_pkl\u001b[49m\u001b[43m,\u001b[49m\u001b[43m \u001b[49m\u001b[43mshow_progress\u001b[49m\u001b[43m)\u001b[49m\n\u001b[0;32m    507\u001b[0m \u001b[38;5;28;01melse\u001b[39;00m:\n\u001b[0;32m    508\u001b[0m     \u001b[38;5;66;03m# multiprocessing\u001b[39;00m\n\u001b[0;32m    509\u001b[0m     m, n \u001b[38;5;241m=\u001b[39m \u001b[38;5;28mself\u001b[39m\u001b[38;5;241m.\u001b[39mget_split_params(n_procs, \u001b[38;5;28mlen\u001b[39m(l_df), \u001b[38;5;28mlen\u001b[39m(r_df))\n",
      "File \u001b[1;32m~\\anaconda3\\lib\\site-packages\\py_entitymatching\\blocker\\rule_based_blocker.py:859\u001b[0m, in \u001b[0;36m_block_tables_split\u001b[1;34m(l_df, r_df, l_key, r_key, l_output_attrs, r_output_attrs, l_output_prefix, r_output_prefix, apply_rules_pkl, show_progress)\u001b[0m\n\u001b[0;32m    856\u001b[0m rtuple \u001b[38;5;241m=\u001b[39m r_dict[r_t[r_id_pos]]\n\u001b[0;32m    858\u001b[0m \u001b[38;5;66;03m# # apply the rules to the tuple pair\u001b[39;00m\n\u001b[1;32m--> 859\u001b[0m res \u001b[38;5;241m=\u001b[39m \u001b[43mapply_rules\u001b[49m\u001b[43m(\u001b[49m\u001b[43mltuple\u001b[49m\u001b[43m,\u001b[49m\u001b[43m \u001b[49m\u001b[43mrtuple\u001b[49m\u001b[43m)\u001b[49m\n\u001b[0;32m    861\u001b[0m \u001b[38;5;28;01mif\u001b[39;00m res \u001b[38;5;241m!=\u001b[39m \u001b[38;5;28;01mTrue\u001b[39;00m:\n\u001b[0;32m    862\u001b[0m     \u001b[38;5;66;03m# # this tuple pair survives blocking\u001b[39;00m\n\u001b[0;32m    863\u001b[0m \n\u001b[0;32m    864\u001b[0m     \u001b[38;5;66;03m# # an ordered dictionary to keep a surviving tuple pair\u001b[39;00m\n\u001b[0;32m    865\u001b[0m     d \u001b[38;5;241m=\u001b[39m OrderedDict()\n",
      "File \u001b[1;32m~\\anaconda3\\lib\\site-packages\\py_entitymatching\\blocker\\rule_based_blocker.py:665\u001b[0m, in \u001b[0;36mRuleBasedBlocker.apply_rules\u001b[1;34m(self, ltuple, rtuple)\u001b[0m\n\u001b[0;32m    662\u001b[0m \u001b[38;5;28;01mdef\u001b[39;00m \u001b[38;5;21mapply_rules\u001b[39m(\u001b[38;5;28mself\u001b[39m, ltuple, rtuple):\n\u001b[0;32m    663\u001b[0m     \u001b[38;5;28;01mfor\u001b[39;00m fn \u001b[38;5;129;01min\u001b[39;00m \u001b[38;5;28mself\u001b[39m\u001b[38;5;241m.\u001b[39mrules\u001b[38;5;241m.\u001b[39mvalues():\n\u001b[0;32m    664\u001b[0m         \u001b[38;5;66;03m# here if the function returns true, then the tuple pair must be dropped.\u001b[39;00m\n\u001b[1;32m--> 665\u001b[0m         res \u001b[38;5;241m=\u001b[39m \u001b[43mfn\u001b[49m\u001b[43m(\u001b[49m\u001b[43mltuple\u001b[49m\u001b[43m,\u001b[49m\u001b[43m \u001b[49m\u001b[43mrtuple\u001b[49m\u001b[43m)\u001b[49m\n\u001b[0;32m    666\u001b[0m         \u001b[38;5;28;01mif\u001b[39;00m res \u001b[38;5;241m==\u001b[39m \u001b[38;5;28;01mTrue\u001b[39;00m:\n\u001b[0;32m    667\u001b[0m             \u001b[38;5;28;01mreturn\u001b[39;00m res\n",
      "File \u001b[1;32m<string>:2\u001b[0m, in \u001b[0;36m_rule_0\u001b[1;34m(ltuple, rtuple)\u001b[0m\n",
      "File \u001b[1;32m<string>:2\u001b[0m, in \u001b[0;36mfn\u001b[1;34m(ltuple, rtuple)\u001b[0m\n",
      "File \u001b[1;32m~\\anaconda3\\lib\\site-packages\\py_entitymatching\\feature\\simfunctions.py:636\u001b[0m, in \u001b[0;36mmonge_elkan\u001b[1;34m(arr1, arr2)\u001b[0m\n\u001b[0;32m    634\u001b[0m measure \u001b[38;5;241m=\u001b[39m sm\u001b[38;5;241m.\u001b[39mMongeElkan()\n\u001b[0;32m    635\u001b[0m \u001b[38;5;66;03m# Call the function to compute the Monge-Elkan measure\u001b[39;00m\n\u001b[1;32m--> 636\u001b[0m \u001b[38;5;28;01mreturn\u001b[39;00m \u001b[43mmeasure\u001b[49m\u001b[38;5;241;43m.\u001b[39;49m\u001b[43mget_raw_score\u001b[49m\u001b[43m(\u001b[49m\u001b[43marr1\u001b[49m\u001b[43m,\u001b[49m\u001b[43m \u001b[49m\u001b[43marr2\u001b[49m\u001b[43m)\u001b[49m\n",
      "File \u001b[1;32m~\\anaconda3\\lib\\site-packages\\py_stringmatching\\similarity_measure\\monge_elkan.py:78\u001b[0m, in \u001b[0;36mMongeElkan.get_raw_score\u001b[1;34m(self, bag1, bag2)\u001b[0m\n\u001b[0;32m     76\u001b[0m     max_sim \u001b[38;5;241m=\u001b[39m \u001b[38;5;28mfloat\u001b[39m(\u001b[38;5;124m'\u001b[39m\u001b[38;5;124m-inf\u001b[39m\u001b[38;5;124m'\u001b[39m)\n\u001b[0;32m     77\u001b[0m     \u001b[38;5;28;01mfor\u001b[39;00m el2 \u001b[38;5;129;01min\u001b[39;00m bag2:\n\u001b[1;32m---> 78\u001b[0m         max_sim \u001b[38;5;241m=\u001b[39m \u001b[38;5;28mmax\u001b[39m(max_sim, \u001b[38;5;28;43mself\u001b[39;49m\u001b[38;5;241;43m.\u001b[39;49m\u001b[43msim_func\u001b[49m\u001b[43m(\u001b[49m\u001b[43mel1\u001b[49m\u001b[43m,\u001b[49m\u001b[43m \u001b[49m\u001b[43mel2\u001b[49m\u001b[43m)\u001b[49m)\n\u001b[0;32m     79\u001b[0m     sum_of_maxes \u001b[38;5;241m+\u001b[39m\u001b[38;5;241m=\u001b[39m max_sim\n\u001b[0;32m     81\u001b[0m sim \u001b[38;5;241m=\u001b[39m \u001b[38;5;28mfloat\u001b[39m(sum_of_maxes) \u001b[38;5;241m/\u001b[39m \u001b[38;5;28mfloat\u001b[39m(\u001b[38;5;28mlen\u001b[39m(bag1))\n",
      "File \u001b[1;32m~\\anaconda3\\lib\\site-packages\\py_stringmatching\\similarity_measure\\jaro_winkler.py:56\u001b[0m, in \u001b[0;36mJaroWinkler.get_raw_score\u001b[1;34m(self, string1, string2)\u001b[0m\n\u001b[0;32m     53\u001b[0m utils\u001b[38;5;241m.\u001b[39mtok_check_for_string_input(string1, string2)\n\u001b[0;32m     55\u001b[0m \u001b[38;5;66;03m# if one of the strings is empty return 0\u001b[39;00m\n\u001b[1;32m---> 56\u001b[0m \u001b[38;5;28;01mif\u001b[39;00m utils\u001b[38;5;241m.\u001b[39msim_check_for_empty(string1, string2):\n\u001b[0;32m     57\u001b[0m     \u001b[38;5;28;01mreturn\u001b[39;00m \u001b[38;5;241m0\u001b[39m\n\u001b[0;32m     59\u001b[0m \u001b[38;5;28;01mreturn\u001b[39;00m jaro_winkler(string1, string2, \u001b[38;5;28mself\u001b[39m\u001b[38;5;241m.\u001b[39mprefix_weight)\n",
      "\u001b[1;31mKeyboardInterrupt\u001b[0m: "
     ]
    }
   ],
   "source": [
    "R1 = rb1.block_tables(A, A, l_output_attrs=['name'], r_output_attrs=['name'], show_progress=True)"
   ]
  },
  {
   "cell_type": "code",
   "execution_count": null,
   "id": "c9cefee6",
   "metadata": {},
   "outputs": [],
   "source": [
    "R1"
   ]
  },
  {
   "cell_type": "code",
   "execution_count": 65,
   "id": "65a263a5",
   "metadata": {},
   "outputs": [],
   "source": [
    "G = em.combine_blocker_outputs_via_union([OB])"
   ]
  },
  {
   "cell_type": "code",
   "execution_count": 66,
   "id": "1ef5c3bf",
   "metadata": {},
   "outputs": [
    {
     "name": "stderr",
     "output_type": "stream",
     "text": [
      "Metadata file is not present in the given path; proceeding to read the csv file.\n"
     ]
    }
   ],
   "source": [
    "# Read Perfect Matching\n",
    "matching_dataset_path = datasets_dir + os.sep + 'abtBuyIdDuplicates.csv'\n",
    "M = em.read_csv_metadata(matching_dataset_path, key='id')"
   ]
  },
  {
   "cell_type": "code",
   "execution_count": 67,
   "id": "e7b426b4",
   "metadata": {},
   "outputs": [
    {
     "data": {
      "text/html": [
       "<div>\n",
       "<style scoped>\n",
       "    .dataframe tbody tr th:only-of-type {\n",
       "        vertical-align: middle;\n",
       "    }\n",
       "\n",
       "    .dataframe tbody tr th {\n",
       "        vertical-align: top;\n",
       "    }\n",
       "\n",
       "    .dataframe thead th {\n",
       "        text-align: right;\n",
       "    }\n",
       "</style>\n",
       "<table border=\"1\" class=\"dataframe\">\n",
       "  <thead>\n",
       "    <tr style=\"text-align: right;\">\n",
       "      <th></th>\n",
       "      <th>id</th>\n",
       "      <th>entityId1</th>\n",
       "      <th>entityId2</th>\n",
       "    </tr>\n",
       "  </thead>\n",
       "  <tbody>\n",
       "    <tr>\n",
       "      <th>0</th>\n",
       "      <td>0</td>\n",
       "      <td>477</td>\n",
       "      <td>1501</td>\n",
       "    </tr>\n",
       "    <tr>\n",
       "      <th>1</th>\n",
       "      <td>1</td>\n",
       "      <td>1067</td>\n",
       "      <td>1687</td>\n",
       "    </tr>\n",
       "    <tr>\n",
       "      <th>2</th>\n",
       "      <td>2</td>\n",
       "      <td>889</td>\n",
       "      <td>2124</td>\n",
       "    </tr>\n",
       "    <tr>\n",
       "      <th>3</th>\n",
       "      <td>3</td>\n",
       "      <td>135</td>\n",
       "      <td>1219</td>\n",
       "    </tr>\n",
       "    <tr>\n",
       "      <th>4</th>\n",
       "      <td>4</td>\n",
       "      <td>62</td>\n",
       "      <td>1135</td>\n",
       "    </tr>\n",
       "    <tr>\n",
       "      <th>...</th>\n",
       "      <td>...</td>\n",
       "      <td>...</td>\n",
       "      <td>...</td>\n",
       "    </tr>\n",
       "    <tr>\n",
       "      <th>1071</th>\n",
       "      <td>1071</td>\n",
       "      <td>973</td>\n",
       "      <td>2110</td>\n",
       "    </tr>\n",
       "    <tr>\n",
       "      <th>1072</th>\n",
       "      <td>1072</td>\n",
       "      <td>950</td>\n",
       "      <td>1974</td>\n",
       "    </tr>\n",
       "    <tr>\n",
       "      <th>1073</th>\n",
       "      <td>1073</td>\n",
       "      <td>783</td>\n",
       "      <td>1499</td>\n",
       "    </tr>\n",
       "    <tr>\n",
       "      <th>1074</th>\n",
       "      <td>1074</td>\n",
       "      <td>416</td>\n",
       "      <td>1239</td>\n",
       "    </tr>\n",
       "    <tr>\n",
       "      <th>1075</th>\n",
       "      <td>1075</td>\n",
       "      <td>388</td>\n",
       "      <td>1520</td>\n",
       "    </tr>\n",
       "  </tbody>\n",
       "</table>\n",
       "<p>1076 rows × 3 columns</p>\n",
       "</div>"
      ],
      "text/plain": [
       "        id  entityId1  entityId2\n",
       "0        0        477       1501\n",
       "1        1       1067       1687\n",
       "2        2        889       2124\n",
       "3        3        135       1219\n",
       "4        4         62       1135\n",
       "...    ...        ...        ...\n",
       "1071  1071        973       2110\n",
       "1072  1072        950       1974\n",
       "1073  1073        783       1499\n",
       "1074  1074        416       1239\n",
       "1075  1075        388       1520\n",
       "\n",
       "[1076 rows x 3 columns]"
      ]
     },
     "execution_count": 67,
     "metadata": {},
     "output_type": "execute_result"
    }
   ],
   "source": [
    "M"
   ]
  },
  {
   "cell_type": "code",
   "execution_count": 68,
   "id": "8b9ced18",
   "metadata": {},
   "outputs": [],
   "source": [
    "# Label for data from Matching\n",
    "G['label'] = 0\n",
    "for index, row in M.iterrows():\n",
    "    ltable_id = row['entityId1']\n",
    "    rtable_id = row['entityId2']\n",
    "    \n",
    "    if ((G['ltable_id'] == ltable_id) & (G['rtable_id'] == rtable_id)).any():\n",
    "        G.loc[(G['ltable_id'] == ltable_id) & (G['rtable_id'] == rtable_id), 'label'] = 1\n",
    "#     else:\n",
    "#         print(ltable_id, rtable_id, sep = \" --- \")"
   ]
  },
  {
   "cell_type": "code",
   "execution_count": null,
   "id": "68bc7324",
   "metadata": {},
   "outputs": [],
   "source": [
    "feature_table = em.get_features_for_matching(A, A, validate_inferred_attr_types=False)"
   ]
  },
  {
   "cell_type": "code",
   "execution_count": 29,
   "id": "e3189a9c",
   "metadata": {},
   "outputs": [],
   "source": [
    "import re\n",
    "\n",
    "def extract_words(sentence):\n",
    "    sentence = re.sub(r'[^\\w\\s]', '', sentence)\n",
    "\n",
    "    words = sentence.split()\n",
    "\n",
    "    return words\n",
    "\n",
    "# BLack Box Function\n",
    "def code_feature(x, y):\n",
    "    # x, y will be of type pandas series\n",
    "    \n",
    "    # get name attribute\n",
    "    x_name = x['name']\n",
    "    y_name = y['name']\n",
    "    # get code in x_name\n",
    "    x_code = extract_words(x_name)[-1]\n",
    "    y_extract = extract_words(y_name)\n",
    "    # check if last names match\n",
    "    if x_code in y_extract:\n",
    "        return 1\n",
    "    else:\n",
    "        return 0"
   ]
  },
  {
   "cell_type": "code",
   "execution_count": 32,
   "id": "b760af44",
   "metadata": {},
   "outputs": [
    {
     "data": {
      "text/plain": [
       "True"
      ]
     },
     "execution_count": 32,
     "metadata": {},
     "output_type": "execute_result"
    }
   ],
   "source": [
    "em.add_blackbox_feature(feature_table, 'blackbox_codefeature_name_name', code_feature)"
   ]
  },
  {
   "cell_type": "code",
   "execution_count": null,
   "id": "fcedc8a4",
   "metadata": {},
   "outputs": [],
   "source": [
    "feature_table['feature_name']"
   ]
  },
  {
   "cell_type": "code",
   "execution_count": null,
   "id": "9d939861",
   "metadata": {},
   "outputs": [],
   "source": [
    "feature_subset_iter = feature_table.drop([0,1,2,3,11,12,13,14,16,17,18], axis=0)"
   ]
  },
  {
   "cell_type": "code",
   "execution_count": null,
   "id": "5af2d91f",
   "metadata": {},
   "outputs": [],
   "source": [
    "feature_vectors_dev = em.extract_feature_vecs(G, \n",
    "                            feature_table=feature_subset_iter, \n",
    "                            attrs_after='label')\n"
   ]
  },
  {
   "cell_type": "code",
   "execution_count": null,
   "id": "5a3f6292",
   "metadata": {},
   "outputs": [],
   "source": [
    "feature_vectors_dev = feature_vectors_dev.loc[feature_vectors_dev[\"ltable_id\"] != feature_vectors_dev[\"rtable_id\"]]\n",
    "\n",
    "em.set_key(feature_vectors_dev,'_id')\n",
    "em.set_fk_ltable(feature_vectors_dev,'ltable_id')\n",
    "em.set_fk_rtable(feature_vectors_dev,'rtable_id')\n",
    "em.set_ltable(feature_vectors_dev, A)\n",
    "em.set_rtable(feature_vectors_dev, A)"
   ]
  },
  {
   "cell_type": "code",
   "execution_count": null,
   "id": "0e8dca8a",
   "metadata": {},
   "outputs": [],
   "source": [
    "any(pd.isnull(feature_vectors_dev))"
   ]
  },
  {
   "cell_type": "code",
   "execution_count": null,
   "id": "85429e28",
   "metadata": {},
   "outputs": [],
   "source": [
    "feature_vectors_dev = em.impute_table(feature_vectors_dev, \n",
    "                exclude_attrs=['_id', 'ltable_id', 'rtable_id', 'label'],\n",
    "                strategy='mean')"
   ]
  },
  {
   "cell_type": "code",
   "execution_count": null,
   "id": "e882ee6e",
   "metadata": {},
   "outputs": [],
   "source": [
    "saved_matcher = em.load_object('matcher/matcher_abt_buy.pkl')"
   ]
  },
  {
   "cell_type": "code",
   "execution_count": null,
   "id": "e9912c59",
   "metadata": {},
   "outputs": [],
   "source": [
    "predictions = saved_matcher.predict(table=feature_vectors_dev, \n",
    "                         exclude_attrs=['_id', 'ltable_id', 'rtable_id', 'label'], \n",
    "                         append=True, \n",
    "                         target_attr='predicted', \n",
    "                         inplace=False)"
   ]
  },
  {
   "cell_type": "code",
   "execution_count": null,
   "id": "d696c1c2",
   "metadata": {},
   "outputs": [],
   "source": [
    "predictions"
   ]
  },
  {
   "cell_type": "code",
   "execution_count": null,
   "id": "f6228629",
   "metadata": {},
   "outputs": [],
   "source": [
    "# Evaluate the result\n",
    "eval_result = em.eval_matches(predictions, 'label', 'predicted')\n",
    "em.print_eval_summary(eval_result)"
   ]
  },
  {
   "cell_type": "code",
   "execution_count": 11,
   "id": "dc3eaeff",
   "metadata": {},
   "outputs": [],
   "source": [
    "mel = sm.MongeElkan()\n",
    "alphabet_tok = sm.AlphanumericTokenizer()"
   ]
  },
  {
   "cell_type": "code",
   "execution_count": 12,
   "id": "6a3b64c7",
   "metadata": {},
   "outputs": [
    {
     "data": {
      "text/plain": [
       "['Sony', 'Turntable', 'PSLX350H']"
      ]
     },
     "execution_count": 12,
     "metadata": {},
     "output_type": "execute_result"
    }
   ],
   "source": [
    "alphabet_tok.tokenize('Sony Turntable - PSLX350H')"
   ]
  },
  {
   "cell_type": "code",
   "execution_count": 13,
   "id": "7279b0dc",
   "metadata": {},
   "outputs": [
    {
     "data": {
      "text/plain": [
       "0.672839512427648"
      ]
     },
     "execution_count": 13,
     "metadata": {},
     "output_type": "execute_result"
    }
   ],
   "source": [
    "mel.get_raw_score(alphabet_tok.tokenize('Sony Turntable - PSLX350H'),alphabet_tok.tokenize('Sony Switcher - SBV40S'))"
   ]
  },
  {
   "cell_type": "code",
   "execution_count": null,
   "id": "6a29f47a",
   "metadata": {},
   "outputs": [],
   "source": []
  }
 ],
 "metadata": {
  "kernelspec": {
   "display_name": "Python 3 (ipykernel)",
   "language": "python",
   "name": "python3"
  },
  "language_info": {
   "codemirror_mode": {
    "name": "ipython",
    "version": 3
   },
   "file_extension": ".py",
   "mimetype": "text/x-python",
   "name": "python",
   "nbconvert_exporter": "python",
   "pygments_lexer": "ipython3",
   "version": "3.9.16"
  }
 },
 "nbformat": 4,
 "nbformat_minor": 5
}
