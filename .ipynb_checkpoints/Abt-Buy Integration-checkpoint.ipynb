{
 "cells": [
  {
   "cell_type": "code",
   "execution_count": 6,
   "id": "2f77f91a",
   "metadata": {},
   "outputs": [],
   "source": [
    "# Import libraries\n",
    "import py_entitymatching as em\n",
    "import pandas as pd\n",
    "import os, sys"
   ]
  },
  {
   "cell_type": "markdown",
   "id": "40f05377",
   "metadata": {},
   "source": [
    "# Matching two tables typically consists of the following three steps:\n",
    "** 1. Reading the input tables **\n",
    "\n",
    "** 2. Blocking the input tables to get a candidate set **\n",
    "\n",
    "** 3. Matching the tuple pairs in the candidate set **\n",
    "\n",
    "# 1. Loading the input tables\n",
    "\n",
    "We begin by loading the input tables. For the purpose of this guide, we use the datasets that are included with the package."
   ]
  },
  {
   "cell_type": "code",
   "execution_count": 77,
   "id": "e504deff",
   "metadata": {},
   "outputs": [],
   "source": [
    "#dblp_dataset_path = os.sep.join(['DBLP_ACM', 'DBLP_cleaned.csv'])\n",
    "#acm_dataset_path = os.sep.join(['DBLP_ACM', 'ACM_cleaned.csv'])\n",
    "\n",
    "datasets_dir = os.getcwd() + os.sep + 'data\\\\csv\\\\DBLP-ACM'\n",
    "\n",
    "dblp_dataset_path = datasets_dir + os.sep + 'DBLP2.csv'\n",
    "acm_dataset_path = datasets_dir + os.sep + 'ACM.csv'"
   ]
  },
  {
   "cell_type": "code",
   "execution_count": 82,
   "id": "7a93d7b6",
   "metadata": {},
   "outputs": [],
   "source": [
    "dblp = pd.read_csv(dblp_dataset_path, )"
   ]
  },
  {
   "cell_type": "code",
   "execution_count": 83,
   "id": "f7046b6c",
   "metadata": {},
   "outputs": [
    {
     "name": "stderr",
     "output_type": "stream",
     "text": [
      "Metadata file is not present in the given path; proceeding to read the csv file.\n",
      "Metadata file is not present in the given path; proceeding to read the csv file.\n"
     ]
    }
   ],
   "source": [
    "# Load csv files as dataframes and set the key attribute in the dataframe\n",
    "A = em.read_csv_metadata(dblp_dataset_path, encoding = \"ISO-8859-1\", key='id')\n",
    "B = em.read_csv_metadata(acm_dataset_path, key='id')"
   ]
  },
  {
   "cell_type": "code",
   "execution_count": 84,
   "id": "6d00d28d",
   "metadata": {},
   "outputs": [
    {
     "name": "stdout",
     "output_type": "stream",
     "text": [
      "Number of tuples in A: 2616\n",
      "Number of tuples in B: 2294\n",
      "Number of tuples in A X B (i.e the cartesian product): 6001104\n"
     ]
    }
   ],
   "source": [
    "print('Number of tuples in A: ' + str(len(A)))\n",
    "print('Number of tuples in B: ' + str(len(B)))\n",
    "print('Number of tuples in A X B (i.e the cartesian product): ' + str(len(A)*len(B)))"
   ]
  },
  {
   "cell_type": "code",
   "execution_count": 85,
   "id": "a2d9f95b",
   "metadata": {},
   "outputs": [
    {
     "data": {
      "text/plain": [
       "('id', 'id')"
      ]
     },
     "execution_count": 85,
     "metadata": {},
     "output_type": "execute_result"
    }
   ],
   "source": [
    "# Display the keys of the input tables\n",
    "em.get_key(A), em.get_key(B)"
   ]
  },
  {
   "cell_type": "code",
   "execution_count": 86,
   "id": "7ba10513",
   "metadata": {},
   "outputs": [
    {
     "data": {
      "text/plain": [
       "(198, 200)"
      ]
     },
     "execution_count": 86,
     "metadata": {},
     "output_type": "execute_result"
    }
   ],
   "source": [
    "# If the tables are large we can downsample the tables like this\n",
    "A1, B1 = em.down_sample(A, B, 200, 1, show_progress=False)\n",
    "len(A1), len(B1)"
   ]
  },
  {
   "cell_type": "markdown",
   "id": "d78f2c3a",
   "metadata": {},
   "source": [
    "# 2. Blocking to create candidate tuple pairs\n",
    "Before we do the matching, we would like to remove the obviously non-matching tuple pairs from the input tables. This would reduce the number of tuple pairs considered for matching.\n",
    "\n",
    "Magellan provides four different blockers: (1) attribute equivalence, (2) overlap, (3) rule-based, and (4) black-box. Refer to [api reference] for more details. The user can mix and match these blockers to form a blocking sequence applied to input tables.\n",
    "\n",
    "For the matching problem at hand, we know that two conference papers published in different years cannot match. So, we decide to apply an attribute equivelance blocker on the 'year' attribute.\n"
   ]
  },
  {
   "cell_type": "code",
   "execution_count": 87,
   "id": "d92ad086",
   "metadata": {},
   "outputs": [],
   "source": [
    "# Create attribute equivalence blocker\n",
    "ab = em.AttrEquivalenceBlocker()\n",
    "# Block tables using 'year' attribute: same year then include in the canidate set\n",
    "C1 = ab.block_tables(A, B, 'year', 'year', \n",
    "                   l_output_attrs=['title', 'authors', 'year'],\n",
    "                   r_output_attrs=['title', 'authors', 'year']\n",
    "                   )"
   ]
  },
  {
   "cell_type": "code",
   "execution_count": 88,
   "id": "9e8b3f9b",
   "metadata": {},
   "outputs": [
    {
     "data": {
      "text/plain": [
       "601284"
      ]
     },
     "execution_count": 88,
     "metadata": {},
     "output_type": "execute_result"
    }
   ],
   "source": [
    "# Check the number of rows in C1\n",
    "len(C1)"
   ]
  },
  {
   "cell_type": "markdown",
   "id": "6573bf57",
   "metadata": {},
   "source": [
    "The number of tuple pairs considered for matching is reduced, but we would want to make sure that the blocker did not drop any potential matches. We could debug the blocker output in Magellan as follows:"
   ]
  },
  {
   "cell_type": "code",
   "execution_count": 89,
   "id": "35cc9288",
   "metadata": {},
   "outputs": [],
   "source": [
    "# Debug blocker output\n",
    "dbg = em.debug_blocker(C1, A, B, output_size=200)"
   ]
  },
  {
   "cell_type": "code",
   "execution_count": 90,
   "id": "2c700d6c",
   "metadata": {},
   "outputs": [
    {
     "data": {
      "text/html": [
       "<div>\n",
       "<style scoped>\n",
       "    .dataframe tbody tr th:only-of-type {\n",
       "        vertical-align: middle;\n",
       "    }\n",
       "\n",
       "    .dataframe tbody tr th {\n",
       "        vertical-align: top;\n",
       "    }\n",
       "\n",
       "    .dataframe thead th {\n",
       "        text-align: right;\n",
       "    }\n",
       "</style>\n",
       "<table border=\"1\" class=\"dataframe\">\n",
       "  <thead>\n",
       "    <tr style=\"text-align: right;\">\n",
       "      <th></th>\n",
       "      <th>_id</th>\n",
       "      <th>ltable_id</th>\n",
       "      <th>rtable_id</th>\n",
       "      <th>ltable_title</th>\n",
       "      <th>ltable_authors</th>\n",
       "      <th>ltable_venue</th>\n",
       "      <th>rtable_title</th>\n",
       "      <th>rtable_authors</th>\n",
       "      <th>rtable_venue</th>\n",
       "    </tr>\n",
       "  </thead>\n",
       "  <tbody>\n",
       "    <tr>\n",
       "      <th>0</th>\n",
       "      <td>0</td>\n",
       "      <td>journals/sigmod/RossKMV02</td>\n",
       "      <td>602302</td>\n",
       "      <td>Reminiscences on Influential Papers</td>\n",
       "      <td>Kaladhar Voruganti, Renée J. Miller, Kenneth A. Ross, Flip Korn</td>\n",
       "      <td>SIGMOD Record</td>\n",
       "      <td>Reminiscences on Influential Papers</td>\n",
       "      <td>Kenneth A. Ross</td>\n",
       "      <td>ACM SIGMOD Record</td>\n",
       "    </tr>\n",
       "    <tr>\n",
       "      <th>1</th>\n",
       "      <td>1</td>\n",
       "      <td>journals/sigmod/RossKMV02</td>\n",
       "      <td>641001</td>\n",
       "      <td>Reminiscences on Influential Papers</td>\n",
       "      <td>Kaladhar Voruganti, Renée J. Miller, Kenneth A. Ross, Flip Korn</td>\n",
       "      <td>SIGMOD Record</td>\n",
       "      <td>Reminiscences on influential papers</td>\n",
       "      <td>Kenneth A. Ross</td>\n",
       "      <td>ACM SIGMOD Record</td>\n",
       "    </tr>\n",
       "    <tr>\n",
       "      <th>2</th>\n",
       "      <td>2</td>\n",
       "      <td>conf/vldb/PottingerL00</td>\n",
       "      <td>767146</td>\n",
       "      <td>A Scalable Algorithm for Answering Queries Using Views</td>\n",
       "      <td>Rachel Pottinger, Alon Y. Levy</td>\n",
       "      <td>VLDB</td>\n",
       "      <td>MiniCon: A scalable algorithm for answering queries using views</td>\n",
       "      <td>Rachel Pottinger, Alon Halevy</td>\n",
       "      <td>The VLDB Journal &amp;mdash; The International Journal on Very Large Data Bases</td>\n",
       "    </tr>\n",
       "    <tr>\n",
       "      <th>3</th>\n",
       "      <td>3</td>\n",
       "      <td>conf/vldb/AgrawalS94</td>\n",
       "      <td>673304</td>\n",
       "      <td>Fast Algorithms for Mining Association Rules in Large Databases</td>\n",
       "      <td>Ramakrishnan Srikant, Rakesh Agrawal</td>\n",
       "      <td>VLDB</td>\n",
       "      <td>Mining Generalized Association Rules</td>\n",
       "      <td>Ramakrishnan Srikant, Rakesh Agrawal</td>\n",
       "      <td>Very Large Data Bases</td>\n",
       "    </tr>\n",
       "    <tr>\n",
       "      <th>4</th>\n",
       "      <td>4</td>\n",
       "      <td>conf/vldb/LakshmananSS99</td>\n",
       "      <td>503102</td>\n",
       "      <td>On Efficiently Implementing SchemaSQL on an SQL Database System</td>\n",
       "      <td>Fereidoon Sadri, Laks V. S. Lakshmanan, Subbu N. Subramanian</td>\n",
       "      <td>VLDB</td>\n",
       "      <td>SchemaSQL: An extension to SQL for multidatabase interoperability</td>\n",
       "      <td>Laks V. S. Lakshmanan, Fereidoon Sadri, Subbu N. Subramanian</td>\n",
       "      <td>ACM Transactions on Database Systems (TODS)</td>\n",
       "    </tr>\n",
       "  </tbody>\n",
       "</table>\n",
       "</div>"
      ],
      "text/plain": [
       "   _id                  ltable_id  rtable_id  \\\n",
       "0    0  journals/sigmod/RossKMV02     602302   \n",
       "1    1  journals/sigmod/RossKMV02     641001   \n",
       "2    2     conf/vldb/PottingerL00     767146   \n",
       "3    3       conf/vldb/AgrawalS94     673304   \n",
       "4    4   conf/vldb/LakshmananSS99     503102   \n",
       "\n",
       "                                                      ltable_title  \\\n",
       "0                              Reminiscences on Influential Papers   \n",
       "1                              Reminiscences on Influential Papers   \n",
       "2           A Scalable Algorithm for Answering Queries Using Views   \n",
       "3  Fast Algorithms for Mining Association Rules in Large Databases   \n",
       "4  On Efficiently Implementing SchemaSQL on an SQL Database System   \n",
       "\n",
       "                                                    ltable_authors  \\\n",
       "0  Kaladhar Voruganti, Renée J. Miller, Kenneth A. Ross, Flip Korn   \n",
       "1  Kaladhar Voruganti, Renée J. Miller, Kenneth A. Ross, Flip Korn   \n",
       "2                                   Rachel Pottinger, Alon Y. Levy   \n",
       "3                             Ramakrishnan Srikant, Rakesh Agrawal   \n",
       "4     Fereidoon Sadri, Laks V. S. Lakshmanan, Subbu N. Subramanian   \n",
       "\n",
       "    ltable_venue  \\\n",
       "0  SIGMOD Record   \n",
       "1  SIGMOD Record   \n",
       "2           VLDB   \n",
       "3           VLDB   \n",
       "4           VLDB   \n",
       "\n",
       "                                                        rtable_title  \\\n",
       "0                                Reminiscences on Influential Papers   \n",
       "1                                Reminiscences on influential papers   \n",
       "2    MiniCon: A scalable algorithm for answering queries using views   \n",
       "3                               Mining Generalized Association Rules   \n",
       "4  SchemaSQL: An extension to SQL for multidatabase interoperability   \n",
       "\n",
       "                                                 rtable_authors  \\\n",
       "0                                               Kenneth A. Ross   \n",
       "1                                               Kenneth A. Ross   \n",
       "2                                 Rachel Pottinger, Alon Halevy   \n",
       "3                          Ramakrishnan Srikant, Rakesh Agrawal   \n",
       "4  Laks V. S. Lakshmanan, Fereidoon Sadri, Subbu N. Subramanian   \n",
       "\n",
       "                                                                   rtable_venue  \n",
       "0                                                            ACM SIGMOD Record   \n",
       "1                                                            ACM SIGMOD Record   \n",
       "2  The VLDB Journal &mdash; The International Journal on Very Large Data Bases   \n",
       "3                                                         Very Large Data Bases  \n",
       "4                                  ACM Transactions on Database Systems (TODS)   "
      ]
     },
     "execution_count": 90,
     "metadata": {},
     "output_type": "execute_result"
    }
   ],
   "source": [
    "# Display first few tuple pairs from the debug_blocker's output\n",
    "dbg.head()"
   ]
  },
  {
   "cell_type": "markdown",
   "id": "6c494065",
   "metadata": {},
   "source": [
    "From the debug blocker's output we observe that the current blocker drops quite a few potential matches. We would want to update the blocking sequence to avoid dropping these potential matches.\n",
    "\n",
    "For the considered dataset, we know that for the conference papers to match the author names must overlap between them. We could use overlap blocker for this purpose. Finally, we would want to union the outputs from the attribute equivalence blocker and the overlap blocker to get a consolidated candidate set."
   ]
  },
  {
   "cell_type": "code",
   "execution_count": 91,
   "id": "c01a7056",
   "metadata": {},
   "outputs": [
    {
     "name": "stderr",
     "output_type": "stream",
     "text": [
      "C:\\Users\\DELL\\anaconda3\\lib\\site-packages\\py_stringsimjoin\\utils\\generic_helper.py:76: FutureWarning: In a future version of pandas all arguments of DataFrame.dropna will be keyword-only.\n",
      "  projected_dataframe = dataframe[proj_attrs].dropna(0,\n",
      "C:\\Users\\DELL\\anaconda3\\lib\\site-packages\\py_stringsimjoin\\utils\\generic_helper.py:76: FutureWarning: In a future version of pandas all arguments of DataFrame.dropna will be keyword-only.\n",
      "  projected_dataframe = dataframe[proj_attrs].dropna(0,\n",
      "0% [##############################] 100% | ETA: 00:00:00\n",
      "Total time elapsed: 00:00:01\n"
     ]
    }
   ],
   "source": [
    "# Create an overlap blocker\n",
    "ob = em.OverlapBlocker()\n",
    "# Apply overlap blocker on 'authors' attribute\n",
    "C2 = ob.block_tables(A, B, 'authors', 'authors', \n",
    "                   l_output_attrs=['title', 'authors', 'year'],\n",
    "                   r_output_attrs=['title', 'authors', 'year']\n",
    "                   )"
   ]
  },
  {
   "cell_type": "code",
   "execution_count": 92,
   "id": "866529a1",
   "metadata": {},
   "outputs": [
    {
     "data": {
      "text/plain": [
       "318723"
      ]
     },
     "execution_count": 92,
     "metadata": {},
     "output_type": "execute_result"
    }
   ],
   "source": [
    "# Check the number of rows in C2\n",
    "len(C2)"
   ]
  },
  {
   "cell_type": "code",
   "execution_count": 93,
   "id": "32e6b74a",
   "metadata": {},
   "outputs": [
    {
     "data": {
      "text/html": [
       "<div>\n",
       "<style scoped>\n",
       "    .dataframe tbody tr th:only-of-type {\n",
       "        vertical-align: middle;\n",
       "    }\n",
       "\n",
       "    .dataframe tbody tr th {\n",
       "        vertical-align: top;\n",
       "    }\n",
       "\n",
       "    .dataframe thead th {\n",
       "        text-align: right;\n",
       "    }\n",
       "</style>\n",
       "<table border=\"1\" class=\"dataframe\">\n",
       "  <thead>\n",
       "    <tr style=\"text-align: right;\">\n",
       "      <th></th>\n",
       "      <th>_id</th>\n",
       "      <th>ltable_id</th>\n",
       "      <th>rtable_id</th>\n",
       "      <th>ltable_title</th>\n",
       "      <th>ltable_authors</th>\n",
       "      <th>ltable_year</th>\n",
       "      <th>rtable_title</th>\n",
       "      <th>rtable_authors</th>\n",
       "      <th>rtable_year</th>\n",
       "    </tr>\n",
       "  </thead>\n",
       "  <tbody>\n",
       "    <tr>\n",
       "      <th>0</th>\n",
       "      <td>0</td>\n",
       "      <td>journals/tods/LechtenborgerV03</td>\n",
       "      <td>304586</td>\n",
       "      <td>On the computation of relational view complements</td>\n",
       "      <td>Gottfried Vossen, Jens Lechtenbörger</td>\n",
       "      <td>2003</td>\n",
       "      <td>The WASA2 object-oriented workflow management system</td>\n",
       "      <td>Gottfried Vossen, Mathias Weske</td>\n",
       "      <td>1999</td>\n",
       "    </tr>\n",
       "    <tr>\n",
       "      <th>1</th>\n",
       "      <td>1</td>\n",
       "      <td>journals/sigmod/CherniakV03</td>\n",
       "      <td>304586</td>\n",
       "      <td>Reminiscences on Influential Papers</td>\n",
       "      <td>Mitch Cherniack, Kenneth A. Ross, Gottfried Vossen</td>\n",
       "      <td>2003</td>\n",
       "      <td>The WASA2 object-oriented workflow management system</td>\n",
       "      <td>Gottfried Vossen, Mathias Weske</td>\n",
       "      <td>1999</td>\n",
       "    </tr>\n",
       "  </tbody>\n",
       "</table>\n",
       "</div>"
      ],
      "text/plain": [
       "   _id                       ltable_id  rtable_id  \\\n",
       "0    0  journals/tods/LechtenborgerV03     304586   \n",
       "1    1     journals/sigmod/CherniakV03     304586   \n",
       "\n",
       "                                        ltable_title  \\\n",
       "0  On the computation of relational view complements   \n",
       "1                Reminiscences on Influential Papers   \n",
       "\n",
       "                                       ltable_authors  ltable_year  \\\n",
       "0                Gottfried Vossen, Jens Lechtenbörger         2003   \n",
       "1  Mitch Cherniack, Kenneth A. Ross, Gottfried Vossen         2003   \n",
       "\n",
       "                                           rtable_title  \\\n",
       "0  The WASA2 object-oriented workflow management system   \n",
       "1  The WASA2 object-oriented workflow management system   \n",
       "\n",
       "                    rtable_authors  rtable_year  \n",
       "0  Gottfried Vossen, Mathias Weske         1999  \n",
       "1  Gottfried Vossen, Mathias Weske         1999  "
      ]
     },
     "execution_count": 93,
     "metadata": {},
     "output_type": "execute_result"
    }
   ],
   "source": [
    "# Display first two rows from C2\n",
    "C2.head(2)"
   ]
  },
  {
   "cell_type": "code",
   "execution_count": 176,
   "id": "cd7b8b1d",
   "metadata": {},
   "outputs": [],
   "source": [
    "# Combine blocker outputs\n",
    "C = em.combine_blocker_outputs_via_union([C1, C2])"
   ]
  },
  {
   "cell_type": "code",
   "execution_count": 177,
   "id": "3ed24970",
   "metadata": {},
   "outputs": [
    {
     "data": {
      "text/plain": [
       "886050"
      ]
     },
     "execution_count": 177,
     "metadata": {},
     "output_type": "execute_result"
    }
   ],
   "source": [
    "# Check the number of rows in the consolidated candidate set.\n",
    "len(C)"
   ]
  },
  {
   "cell_type": "code",
   "execution_count": 178,
   "id": "d6b18120",
   "metadata": {},
   "outputs": [],
   "source": [
    "# Debug again\n",
    "dbg = em.debug_blocker(C, A, B)"
   ]
  },
  {
   "cell_type": "code",
   "execution_count": 179,
   "id": "ecdea19b",
   "metadata": {},
   "outputs": [
    {
     "data": {
      "text/html": [
       "<div>\n",
       "<style scoped>\n",
       "    .dataframe tbody tr th:only-of-type {\n",
       "        vertical-align: middle;\n",
       "    }\n",
       "\n",
       "    .dataframe tbody tr th {\n",
       "        vertical-align: top;\n",
       "    }\n",
       "\n",
       "    .dataframe thead th {\n",
       "        text-align: right;\n",
       "    }\n",
       "</style>\n",
       "<table border=\"1\" class=\"dataframe\">\n",
       "  <thead>\n",
       "    <tr style=\"text-align: right;\">\n",
       "      <th></th>\n",
       "      <th>_id</th>\n",
       "      <th>ltable_id</th>\n",
       "      <th>rtable_id</th>\n",
       "      <th>ltable_title</th>\n",
       "      <th>ltable_authors</th>\n",
       "      <th>ltable_venue</th>\n",
       "      <th>rtable_title</th>\n",
       "      <th>rtable_authors</th>\n",
       "      <th>rtable_venue</th>\n",
       "    </tr>\n",
       "  </thead>\n",
       "  <tbody>\n",
       "    <tr>\n",
       "      <th>0</th>\n",
       "      <td>0</td>\n",
       "      <td>journals/sigmod/Segev94a</td>\n",
       "      <td>945727</td>\n",
       "      <td>Editor's Notes</td>\n",
       "      <td>Arie Segev</td>\n",
       "      <td>SIGMOD Record</td>\n",
       "      <td>Guest editor's introduction</td>\n",
       "      <td>Karl Aberer</td>\n",
       "      <td>ACM SIGMOD Record</td>\n",
       "    </tr>\n",
       "    <tr>\n",
       "      <th>1</th>\n",
       "      <td>1</td>\n",
       "      <td>journals/sigmod/Ozsu03a</td>\n",
       "      <td>601859</td>\n",
       "      <td>Chair's Message</td>\n",
       "      <td>M. Tamer Özsu</td>\n",
       "      <td>SIGMOD Record</td>\n",
       "      <td>Treasurer's message</td>\n",
       "      <td>Joachim Hammer</td>\n",
       "      <td>ACM SIGMOD Record</td>\n",
       "    </tr>\n",
       "    <tr>\n",
       "      <th>2</th>\n",
       "      <td>2</td>\n",
       "      <td>journals/sigmod/Snodgrass98c</td>\n",
       "      <td>601859</td>\n",
       "      <td>Chair's Message</td>\n",
       "      <td>Richard T. Snodgrass</td>\n",
       "      <td>SIGMOD Record</td>\n",
       "      <td>Treasurer's message</td>\n",
       "      <td>Joachim Hammer</td>\n",
       "      <td>ACM SIGMOD Record</td>\n",
       "    </tr>\n",
       "  </tbody>\n",
       "</table>\n",
       "</div>"
      ],
      "text/plain": [
       "   _id                     ltable_id  rtable_id     ltable_title  \\\n",
       "0    0      journals/sigmod/Segev94a     945727   Editor's Notes   \n",
       "1    1       journals/sigmod/Ozsu03a     601859  Chair's Message   \n",
       "2    2  journals/sigmod/Snodgrass98c     601859  Chair's Message   \n",
       "\n",
       "         ltable_authors   ltable_venue                 rtable_title  \\\n",
       "0            Arie Segev  SIGMOD Record  Guest editor's introduction   \n",
       "1         M. Tamer Özsu  SIGMOD Record          Treasurer's message   \n",
       "2  Richard T. Snodgrass  SIGMOD Record          Treasurer's message   \n",
       "\n",
       "   rtable_authors        rtable_venue  \n",
       "0     Karl Aberer  ACM SIGMOD Record   \n",
       "1  Joachim Hammer  ACM SIGMOD Record   \n",
       "2  Joachim Hammer  ACM SIGMOD Record   "
      ]
     },
     "execution_count": 179,
     "metadata": {},
     "output_type": "execute_result"
    }
   ],
   "source": [
    "# Display first few rows from the debugger output\n",
    "dbg.head(3)"
   ]
  },
  {
   "cell_type": "markdown",
   "id": "56fe4e22",
   "metadata": {},
   "source": [
    "We observe that the current blocker sequence does not drop obvious potential matches, and we can proceed with the matching step now. A subtle point to note here is, debugging blocker output practically provides a stopping criteria for modifying the blocker sequence."
   ]
  },
  {
   "cell_type": "markdown",
   "id": "2a927ac8",
   "metadata": {},
   "source": [
    "# 3. Matching tuple pairs in the candidate set\n",
    "In this step, we would want to match the tuple pairs in the candidate set. Specifically, we use learning-based method for matching purposes.\n",
    "\n",
    "This typically involves the following five steps:\n",
    "\n",
    "1. Sampling and labeling the candidate set\n",
    "2. Splitting the labeled data into development and evaluation set\n",
    "3. Selecting the best learning based matcher using the development set\n",
    "4. Evaluating the selected matcher using the evaluation set\n",
    "## 3.1 Creating a set of learning-based matchers"
   ]
  },
  {
   "cell_type": "markdown",
   "id": "acf67e3f",
   "metadata": {},
   "source": [
    "First, we randomly sample 450 tuple pairs for labeling purposes."
   ]
  },
  {
   "cell_type": "code",
   "execution_count": 144,
   "id": "631cba8b",
   "metadata": {},
   "outputs": [],
   "source": [
    "# Sample candidate set\n",
    "# S = em.sample_table(C, 2000)"
   ]
  },
  {
   "cell_type": "code",
   "execution_count": 180,
   "id": "48572c15",
   "metadata": {},
   "outputs": [
    {
     "name": "stderr",
     "output_type": "stream",
     "text": [
      "Metadata file is not present in the given path; proceeding to read the csv file.\n"
     ]
    }
   ],
   "source": [
    "# Read Perfect Matching\n",
    "matching_dataset_path = datasets_dir + os.sep + 'DBLP-ACM_perfectMapping.csv'\n",
    "M = em.read_csv_metadata(matching_dataset_path)"
   ]
  },
  {
   "cell_type": "code",
   "execution_count": 181,
   "id": "354c6042",
   "metadata": {
    "scrolled": true
   },
   "outputs": [],
   "source": [
    "# Label for data from Matching\n",
    "C['label'] = 0\n",
    "for index, row in M.iterrows():\n",
    "    ltable_id = row['idDBLP']\n",
    "    rtable_id = row['idACM']\n",
    "    \n",
    "    C.loc[(C['ltable_id'] == ltable_id) & (C['rtable_id'] == rtable_id), 'label'] = 1"
   ]
  },
  {
   "cell_type": "markdown",
   "id": "b0bc7390",
   "metadata": {},
   "source": [
    "## 3.2 Splitting the labeled data into development and evaluation set\n",
    "In this step, we split the labeled data into two sets: development and evaluation. Specifically, the development set is used to come up with the best learning-based matcher and the evaluation set used to evaluate the selected matcher on unseen data."
   ]
  },
  {
   "cell_type": "code",
   "execution_count": 195,
   "id": "8ff95331",
   "metadata": {},
   "outputs": [],
   "source": [
    "# Split Matched data\n",
    "matched = C.loc[C['label'] == 1].head(2000)\n",
    "\n",
    "em.set_key(matched,'_id')\n",
    "em.set_fk_ltable(matched,'ltable_id')\n",
    "em.set_fk_rtable(matched,'rtable_id')\n",
    "em.set_ltable(matched, A)\n",
    "em.set_rtable(matched, B)\n",
    "\n",
    "matched_train_test = em.split_train_test(matched, train_proportion=0.5)\n",
    "matched_development =  matched_train_test['train']\n",
    "matched_evaluation = matched_train_test['test']"
   ]
  },
  {
   "cell_type": "code",
   "execution_count": 197,
   "id": "b2b90055",
   "metadata": {},
   "outputs": [],
   "source": [
    "# Split Un-Matched data\n",
    "unmatched = C.loc[C['label'] == 0].head(2000)\n",
    "\n",
    "em.set_key(unmatched,'_id')\n",
    "em.set_fk_ltable(unmatched,'ltable_id')\n",
    "em.set_fk_rtable(unmatched,'rtable_id')\n",
    "em.set_ltable(unmatched, A)\n",
    "em.set_rtable(unmatched, B)\n",
    "\n",
    "unmatched_train_test = em.split_train_test(unmatched, train_proportion=0.5)\n",
    "unmatched_development =  unmatched_train_test['train']\n",
    "unmatched_evaluation = unmatched_train_test['test']"
   ]
  },
  {
   "cell_type": "code",
   "execution_count": 199,
   "id": "4e2b4088",
   "metadata": {},
   "outputs": [],
   "source": [
    "# Combine \n",
    "development = pd.concat([matched_development, unmatched_development])\n",
    "evaluation = pd.concat([matched_evaluation, unmatched_evaluation])"
   ]
  },
  {
   "cell_type": "code",
   "execution_count": 206,
   "id": "637a1bfc",
   "metadata": {},
   "outputs": [
    {
     "data": {
      "text/plain": [
       "True"
      ]
     },
     "execution_count": 206,
     "metadata": {},
     "output_type": "execute_result"
    }
   ],
   "source": [
    "em.set_key(development,'_id')\n",
    "em.set_fk_ltable(development,'ltable_id')\n",
    "em.set_fk_rtable(development,'rtable_id')\n",
    "em.set_ltable(development, A)\n",
    "em.set_rtable(development, B)\n",
    "\n",
    "em.set_key(evaluation,'_id')\n",
    "em.set_fk_ltable(evaluation,'ltable_id')\n",
    "em.set_fk_rtable(evaluation,'rtable_id')\n",
    "em.set_ltable(evaluation, A)\n",
    "em.set_rtable(evaluation, B)"
   ]
  },
  {
   "cell_type": "markdown",
   "id": "47a73813",
   "metadata": {},
   "source": [
    "## 3.3 Select the best learning-based matcher\n",
    "Selecting the best learning-based matcher typically involves the following steps:\n",
    "\n",
    "1. Creating a set of learning-based matchers\n",
    "2. Creating features\n",
    "3. Extracting feature vectors\n",
    "4. Selecting the best learning-based matcher using k-fold cross validation\n",
    "5. Debugging the matcher (and possibly repeat the above steps)"
   ]
  },
  {
   "cell_type": "markdown",
   "id": "44354976",
   "metadata": {},
   "source": [
    "### 3.3.1 Creating a set of learning-based matchers\n",
    "First, we need to create a set of learning-based matchers. The following matchers are supported in Magellan: (1) decision tree, (2) random forest, (3) naive bayes, (4) svm, (5) logistic regression, and (6) linear regression."
   ]
  },
  {
   "cell_type": "code",
   "execution_count": 207,
   "id": "1a1c9921",
   "metadata": {},
   "outputs": [],
   "source": [
    "# Create a set of ML-matchers\n",
    "dt = em.DTMatcher(name='DecisionTree')\n",
    "svm = em.SVMMatcher(name='SVM')\n",
    "rf = em.RFMatcher(name='RF')\n",
    "nb = em.NBMatcher(name='NB')\n",
    "lg = em.LogRegMatcher(name='LogReg')\n",
    "ln = em.LinRegMatcher(name='LinReg')"
   ]
  },
  {
   "cell_type": "markdown",
   "id": "c4a3ac3e",
   "metadata": {},
   "source": [
    "### 3.3.2 Creating features\n",
    "Next, we need to create a set of features for the development set. Magellan provides a way to automatically generate features based on the attributes in the input tables. For the purposes of this guide, we use the automatically generated features."
   ]
  },
  {
   "cell_type": "code",
   "execution_count": 201,
   "id": "cc19a541",
   "metadata": {},
   "outputs": [],
   "source": [
    "# Generate features\n",
    "feature_table = em.get_features_for_matching(A, B, validate_inferred_attr_types=False)"
   ]
  },
  {
   "cell_type": "code",
   "execution_count": 202,
   "id": "a33462df",
   "metadata": {},
   "outputs": [
    {
     "data": {
      "text/plain": [
       "0             title_title_jac_qgm_3_qgm_3\n",
       "1         title_title_cos_dlm_dc0_dlm_dc0\n",
       "2                         title_title_mel\n",
       "3                    title_title_lev_dist\n",
       "4                     title_title_lev_sim\n",
       "5         authors_authors_jac_qgm_3_qgm_3\n",
       "6     authors_authors_cos_dlm_dc0_dlm_dc0\n",
       "7                     authors_authors_mel\n",
       "8                authors_authors_lev_dist\n",
       "9                 authors_authors_lev_sim\n",
       "10                          year_year_exm\n",
       "11                          year_year_anm\n",
       "12                     year_year_lev_dist\n",
       "13                      year_year_lev_sim\n",
       "Name: feature_name, dtype: object"
      ]
     },
     "execution_count": 202,
     "metadata": {},
     "output_type": "execute_result"
    }
   ],
   "source": [
    "# List the names of the features generated\n",
    "feature_table['feature_name']"
   ]
  },
  {
   "cell_type": "code",
   "execution_count": 203,
   "id": "74f7943e",
   "metadata": {},
   "outputs": [],
   "source": [
    "# Select the year related features\n",
    "feature_subset_iter1 = feature_table[10:14]"
   ]
  },
  {
   "cell_type": "code",
   "execution_count": 204,
   "id": "1ffa5303",
   "metadata": {},
   "outputs": [
    {
     "data": {
      "text/plain": [
       "10         year_year_exm\n",
       "11         year_year_anm\n",
       "12    year_year_lev_dist\n",
       "13     year_year_lev_sim\n",
       "Name: feature_name, dtype: object"
      ]
     },
     "execution_count": 204,
     "metadata": {},
     "output_type": "execute_result"
    }
   ],
   "source": [
    "# List the names of the features selected\n",
    "feature_subset_iter1['feature_name']"
   ]
  },
  {
   "cell_type": "markdown",
   "id": "e5f53ffb",
   "metadata": {},
   "source": [
    "### 3.3.3 Extracting feature vectors\n",
    "In this step, we extract feature vectors using the development set and the created features."
   ]
  },
  {
   "cell_type": "code",
   "execution_count": 208,
   "id": "9e370ec5",
   "metadata": {},
   "outputs": [
    {
     "name": "stderr",
     "output_type": "stream",
     "text": [
      "0% [##############################] 100% | ETA: 00:00:00\n",
      "Total time elapsed: 00:00:00\n"
     ]
    }
   ],
   "source": [
    "# Extract feature vectors\n",
    "feature_vectors_dev = em.extract_feature_vecs(development, \n",
    "                            feature_table=feature_subset_iter1, \n",
    "                            attrs_after='label')\n"
   ]
  },
  {
   "cell_type": "code",
   "execution_count": 209,
   "id": "cbe52a03",
   "metadata": {},
   "outputs": [
    {
     "data": {
      "text/html": [
       "<div>\n",
       "<style scoped>\n",
       "    .dataframe tbody tr th:only-of-type {\n",
       "        vertical-align: middle;\n",
       "    }\n",
       "\n",
       "    .dataframe tbody tr th {\n",
       "        vertical-align: top;\n",
       "    }\n",
       "\n",
       "    .dataframe thead th {\n",
       "        text-align: right;\n",
       "    }\n",
       "</style>\n",
       "<table border=\"1\" class=\"dataframe\">\n",
       "  <thead>\n",
       "    <tr style=\"text-align: right;\">\n",
       "      <th></th>\n",
       "      <th>_id</th>\n",
       "      <th>ltable_id</th>\n",
       "      <th>rtable_id</th>\n",
       "      <th>year_year_exm</th>\n",
       "      <th>year_year_anm</th>\n",
       "      <th>year_year_lev_dist</th>\n",
       "      <th>year_year_lev_sim</th>\n",
       "      <th>label</th>\n",
       "    </tr>\n",
       "  </thead>\n",
       "  <tbody>\n",
       "    <tr>\n",
       "      <th>199554</th>\n",
       "      <td>199554</td>\n",
       "      <td>conf/sigmod/Mohan02</td>\n",
       "      <td>564796</td>\n",
       "      <td>1</td>\n",
       "      <td>1.0</td>\n",
       "      <td>0.0</td>\n",
       "      <td>1.0</td>\n",
       "      <td>1</td>\n",
       "    </tr>\n",
       "    <tr>\n",
       "      <th>544973</th>\n",
       "      <td>544973</td>\n",
       "      <td>conf/vldb/SteenhagenABB94</td>\n",
       "      <td>672819</td>\n",
       "      <td>1</td>\n",
       "      <td>1.0</td>\n",
       "      <td>0.0</td>\n",
       "      <td>1.0</td>\n",
       "      <td>1</td>\n",
       "    </tr>\n",
       "    <tr>\n",
       "      <th>231060</th>\n",
       "      <td>231060</td>\n",
       "      <td>conf/sigmod/Rosenthal01</td>\n",
       "      <td>375796</td>\n",
       "      <td>1</td>\n",
       "      <td>1.0</td>\n",
       "      <td>0.0</td>\n",
       "      <td>1.0</td>\n",
       "      <td>1</td>\n",
       "    </tr>\n",
       "  </tbody>\n",
       "</table>\n",
       "</div>"
      ],
      "text/plain": [
       "           _id                  ltable_id  rtable_id  year_year_exm  \\\n",
       "199554  199554        conf/sigmod/Mohan02     564796              1   \n",
       "544973  544973  conf/vldb/SteenhagenABB94     672819              1   \n",
       "231060  231060    conf/sigmod/Rosenthal01     375796              1   \n",
       "\n",
       "        year_year_anm  year_year_lev_dist  year_year_lev_sim  label  \n",
       "199554            1.0                 0.0                1.0      1  \n",
       "544973            1.0                 0.0                1.0      1  \n",
       "231060            1.0                 0.0                1.0      1  "
      ]
     },
     "execution_count": 209,
     "metadata": {},
     "output_type": "execute_result"
    }
   ],
   "source": [
    "# Display first few rows\n",
    "feature_vectors_dev.head(3)"
   ]
  },
  {
   "cell_type": "code",
   "execution_count": 210,
   "id": "3a115b62",
   "metadata": {},
   "outputs": [
    {
     "data": {
      "text/plain": [
       "True"
      ]
     },
     "execution_count": 210,
     "metadata": {},
     "output_type": "execute_result"
    }
   ],
   "source": [
    "# Check if the feature vectors contain missing values\n",
    "# A return value of True means that there are missing values\n",
    "any(pd.isnull(feature_vectors_dev))"
   ]
  },
  {
   "cell_type": "markdown",
   "id": "1e6a6e1f",
   "metadata": {},
   "source": [
    "We observe that the extracted feature vectors contain missing values. We have to impute the missing values for the learning-based matchers to fit the model correctly. For the purposes of this guide, we impute the missing value in a column with the mean of the values in that column."
   ]
  },
  {
   "cell_type": "code",
   "execution_count": 214,
   "id": "d9fcd48a",
   "metadata": {},
   "outputs": [
    {
     "name": "stderr",
     "output_type": "stream",
     "text": [
      "C:\\Users\\DELL\\anaconda3\\lib\\site-packages\\py_entitymatching\\matcher\\matcherutils.py:224: FutureWarning: The pandas.np module is deprecated and will be removed from pandas in a future version. Import numpy directly instead.\n",
      "  imp.statistics_[pd.np.isnan(imp.statistics_)] = val_all_nans\n"
     ]
    }
   ],
   "source": [
    "# Impute feature vectors with the mean of the column values.\n",
    "feature_vectors_dev = em.impute_table(feature_vectors_dev, \n",
    "                exclude_attrs=['_id', 'ltable_id', 'rtable_id', 'label'],\n",
    "                strategy='mean')"
   ]
  },
  {
   "cell_type": "markdown",
   "id": "18e9cb28",
   "metadata": {},
   "source": [
    "### 3.3.4 Selecting the best matcher using cross-validation\n",
    "Now, we select the best matcher using k-fold cross-validation. For the purposes of this guide, we use five fold cross validation and use 'precision' metric to select the best matcher."
   ]
  },
  {
   "cell_type": "code",
   "execution_count": 217,
   "id": "22fdf6c1",
   "metadata": {},
   "outputs": [],
   "source": [
    "# Select the best ML matcher using CV\n",
    "result = em.select_matcher([dt, rf, svm, nb, lg, ln], table=feature_vectors_dev, \n",
    "        exclude_attrs=['_id', 'ltable_id', 'rtable_id', 'label'],\n",
    "        k=10,\n",
    "        target_attr='label', \n",
    "        metric_to_select_matcher='precision',\n",
    "        random_state=0)"
   ]
  },
  {
   "cell_type": "code",
   "execution_count": 218,
   "id": "0993570f",
   "metadata": {},
   "outputs": [
    {
     "data": {
      "text/html": [
       "<div>\n",
       "<style scoped>\n",
       "    .dataframe tbody tr th:only-of-type {\n",
       "        vertical-align: middle;\n",
       "    }\n",
       "\n",
       "    .dataframe tbody tr th {\n",
       "        vertical-align: top;\n",
       "    }\n",
       "\n",
       "    .dataframe thead th {\n",
       "        text-align: right;\n",
       "    }\n",
       "</style>\n",
       "<table border=\"1\" class=\"dataframe\">\n",
       "  <thead>\n",
       "    <tr style=\"text-align: right;\">\n",
       "      <th></th>\n",
       "      <th>Matcher</th>\n",
       "      <th>Average precision</th>\n",
       "      <th>Average recall</th>\n",
       "      <th>Average f1</th>\n",
       "    </tr>\n",
       "  </thead>\n",
       "  <tbody>\n",
       "    <tr>\n",
       "      <th>0</th>\n",
       "      <td>DecisionTree</td>\n",
       "      <td>0.645693</td>\n",
       "      <td>1.0</td>\n",
       "      <td>0.783951</td>\n",
       "    </tr>\n",
       "    <tr>\n",
       "      <th>1</th>\n",
       "      <td>RF</td>\n",
       "      <td>0.645693</td>\n",
       "      <td>1.0</td>\n",
       "      <td>0.783951</td>\n",
       "    </tr>\n",
       "    <tr>\n",
       "      <th>2</th>\n",
       "      <td>SVM</td>\n",
       "      <td>0.645693</td>\n",
       "      <td>1.0</td>\n",
       "      <td>0.783951</td>\n",
       "    </tr>\n",
       "    <tr>\n",
       "      <th>3</th>\n",
       "      <td>NB</td>\n",
       "      <td>0.645693</td>\n",
       "      <td>1.0</td>\n",
       "      <td>0.783951</td>\n",
       "    </tr>\n",
       "    <tr>\n",
       "      <th>4</th>\n",
       "      <td>LogReg</td>\n",
       "      <td>0.645693</td>\n",
       "      <td>1.0</td>\n",
       "      <td>0.783951</td>\n",
       "    </tr>\n",
       "    <tr>\n",
       "      <th>5</th>\n",
       "      <td>LinReg</td>\n",
       "      <td>0.645693</td>\n",
       "      <td>1.0</td>\n",
       "      <td>0.783951</td>\n",
       "    </tr>\n",
       "  </tbody>\n",
       "</table>\n",
       "</div>"
      ],
      "text/plain": [
       "        Matcher  Average precision  Average recall  Average f1\n",
       "0  DecisionTree           0.645693             1.0    0.783951\n",
       "1            RF           0.645693             1.0    0.783951\n",
       "2           SVM           0.645693             1.0    0.783951\n",
       "3            NB           0.645693             1.0    0.783951\n",
       "4        LogReg           0.645693             1.0    0.783951\n",
       "5        LinReg           0.645693             1.0    0.783951"
      ]
     },
     "execution_count": 218,
     "metadata": {},
     "output_type": "execute_result"
    }
   ],
   "source": [
    "result['cv_stats']"
   ]
  },
  {
   "cell_type": "code",
   "execution_count": 219,
   "id": "482e5590",
   "metadata": {},
   "outputs": [
    {
     "data": {
      "text/html": [
       "<div>\n",
       "<style scoped>\n",
       "    .dataframe tbody tr th:only-of-type {\n",
       "        vertical-align: middle;\n",
       "    }\n",
       "\n",
       "    .dataframe tbody tr th {\n",
       "        vertical-align: top;\n",
       "    }\n",
       "\n",
       "    .dataframe thead th {\n",
       "        text-align: right;\n",
       "    }\n",
       "</style>\n",
       "<table border=\"1\" class=\"dataframe\">\n",
       "  <thead>\n",
       "    <tr style=\"text-align: right;\">\n",
       "      <th></th>\n",
       "      <th>Name</th>\n",
       "      <th>Matcher</th>\n",
       "      <th>Num folds</th>\n",
       "      <th>Fold 1</th>\n",
       "      <th>Fold 2</th>\n",
       "      <th>Fold 3</th>\n",
       "      <th>Fold 4</th>\n",
       "      <th>Fold 5</th>\n",
       "      <th>Fold 6</th>\n",
       "      <th>Fold 7</th>\n",
       "      <th>Fold 8</th>\n",
       "      <th>Fold 9</th>\n",
       "      <th>Fold 10</th>\n",
       "      <th>Mean score</th>\n",
       "    </tr>\n",
       "  </thead>\n",
       "  <tbody>\n",
       "    <tr>\n",
       "      <th>0</th>\n",
       "      <td>DecisionTree</td>\n",
       "      <td>&lt;py_entitymatching.matcher.dtmatcher.DTMatcher object at 0x000001F0D547DC10&gt;</td>\n",
       "      <td>10</td>\n",
       "      <td>0.647059</td>\n",
       "      <td>0.643312</td>\n",
       "      <td>0.692308</td>\n",
       "      <td>0.673203</td>\n",
       "      <td>0.575</td>\n",
       "      <td>0.671053</td>\n",
       "      <td>0.603896</td>\n",
       "      <td>0.588235</td>\n",
       "      <td>0.666667</td>\n",
       "      <td>0.696203</td>\n",
       "      <td>0.645693</td>\n",
       "    </tr>\n",
       "    <tr>\n",
       "      <th>1</th>\n",
       "      <td>RF</td>\n",
       "      <td>&lt;py_entitymatching.matcher.rfmatcher.RFMatcher object at 0x000001F0D4BA22B0&gt;</td>\n",
       "      <td>10</td>\n",
       "      <td>0.647059</td>\n",
       "      <td>0.643312</td>\n",
       "      <td>0.692308</td>\n",
       "      <td>0.673203</td>\n",
       "      <td>0.575</td>\n",
       "      <td>0.671053</td>\n",
       "      <td>0.603896</td>\n",
       "      <td>0.588235</td>\n",
       "      <td>0.666667</td>\n",
       "      <td>0.696203</td>\n",
       "      <td>0.645693</td>\n",
       "    </tr>\n",
       "    <tr>\n",
       "      <th>2</th>\n",
       "      <td>SVM</td>\n",
       "      <td>&lt;py_entitymatching.matcher.svmmatcher.SVMMatcher object at 0x000001F0D4BA2100&gt;</td>\n",
       "      <td>10</td>\n",
       "      <td>0.647059</td>\n",
       "      <td>0.643312</td>\n",
       "      <td>0.692308</td>\n",
       "      <td>0.673203</td>\n",
       "      <td>0.575</td>\n",
       "      <td>0.671053</td>\n",
       "      <td>0.603896</td>\n",
       "      <td>0.588235</td>\n",
       "      <td>0.666667</td>\n",
       "      <td>0.696203</td>\n",
       "      <td>0.645693</td>\n",
       "    </tr>\n",
       "    <tr>\n",
       "      <th>3</th>\n",
       "      <td>NB</td>\n",
       "      <td>&lt;py_entitymatching.matcher.nbmatcher.NBMatcher object at 0x000001F0D4BA2250&gt;</td>\n",
       "      <td>10</td>\n",
       "      <td>0.647059</td>\n",
       "      <td>0.643312</td>\n",
       "      <td>0.692308</td>\n",
       "      <td>0.673203</td>\n",
       "      <td>0.575</td>\n",
       "      <td>0.671053</td>\n",
       "      <td>0.603896</td>\n",
       "      <td>0.588235</td>\n",
       "      <td>0.666667</td>\n",
       "      <td>0.696203</td>\n",
       "      <td>0.645693</td>\n",
       "    </tr>\n",
       "    <tr>\n",
       "      <th>4</th>\n",
       "      <td>LogReg</td>\n",
       "      <td>&lt;py_entitymatching.matcher.logregmatcher.LogRegMatcher object at 0x000001F0D4BA20D0&gt;</td>\n",
       "      <td>10</td>\n",
       "      <td>0.647059</td>\n",
       "      <td>0.643312</td>\n",
       "      <td>0.692308</td>\n",
       "      <td>0.673203</td>\n",
       "      <td>0.575</td>\n",
       "      <td>0.671053</td>\n",
       "      <td>0.603896</td>\n",
       "      <td>0.588235</td>\n",
       "      <td>0.666667</td>\n",
       "      <td>0.696203</td>\n",
       "      <td>0.645693</td>\n",
       "    </tr>\n",
       "    <tr>\n",
       "      <th>5</th>\n",
       "      <td>LinReg</td>\n",
       "      <td>&lt;py_entitymatching.matcher.linregmatcher.LinRegMatcher object at 0x000001F0D4BA2130&gt;</td>\n",
       "      <td>10</td>\n",
       "      <td>0.647059</td>\n",
       "      <td>0.643312</td>\n",
       "      <td>0.692308</td>\n",
       "      <td>0.673203</td>\n",
       "      <td>0.575</td>\n",
       "      <td>0.671053</td>\n",
       "      <td>0.603896</td>\n",
       "      <td>0.588235</td>\n",
       "      <td>0.666667</td>\n",
       "      <td>0.696203</td>\n",
       "      <td>0.645693</td>\n",
       "    </tr>\n",
       "  </tbody>\n",
       "</table>\n",
       "</div>"
      ],
      "text/plain": [
       "           Name  \\\n",
       "0  DecisionTree   \n",
       "1            RF   \n",
       "2           SVM   \n",
       "3            NB   \n",
       "4        LogReg   \n",
       "5        LinReg   \n",
       "\n",
       "                                                                                Matcher  \\\n",
       "0          <py_entitymatching.matcher.dtmatcher.DTMatcher object at 0x000001F0D547DC10>   \n",
       "1          <py_entitymatching.matcher.rfmatcher.RFMatcher object at 0x000001F0D4BA22B0>   \n",
       "2        <py_entitymatching.matcher.svmmatcher.SVMMatcher object at 0x000001F0D4BA2100>   \n",
       "3          <py_entitymatching.matcher.nbmatcher.NBMatcher object at 0x000001F0D4BA2250>   \n",
       "4  <py_entitymatching.matcher.logregmatcher.LogRegMatcher object at 0x000001F0D4BA20D0>   \n",
       "5  <py_entitymatching.matcher.linregmatcher.LinRegMatcher object at 0x000001F0D4BA2130>   \n",
       "\n",
       "   Num folds    Fold 1    Fold 2    Fold 3    Fold 4  Fold 5    Fold 6  \\\n",
       "0         10  0.647059  0.643312  0.692308  0.673203   0.575  0.671053   \n",
       "1         10  0.647059  0.643312  0.692308  0.673203   0.575  0.671053   \n",
       "2         10  0.647059  0.643312  0.692308  0.673203   0.575  0.671053   \n",
       "3         10  0.647059  0.643312  0.692308  0.673203   0.575  0.671053   \n",
       "4         10  0.647059  0.643312  0.692308  0.673203   0.575  0.671053   \n",
       "5         10  0.647059  0.643312  0.692308  0.673203   0.575  0.671053   \n",
       "\n",
       "     Fold 7    Fold 8    Fold 9   Fold 10  Mean score  \n",
       "0  0.603896  0.588235  0.666667  0.696203    0.645693  \n",
       "1  0.603896  0.588235  0.666667  0.696203    0.645693  \n",
       "2  0.603896  0.588235  0.666667  0.696203    0.645693  \n",
       "3  0.603896  0.588235  0.666667  0.696203    0.645693  \n",
       "4  0.603896  0.588235  0.666667  0.696203    0.645693  \n",
       "5  0.603896  0.588235  0.666667  0.696203    0.645693  "
      ]
     },
     "execution_count": 219,
     "metadata": {},
     "output_type": "execute_result"
    }
   ],
   "source": [
    "result['drill_down_cv_stats']['precision']"
   ]
  },
  {
   "cell_type": "markdown",
   "id": "c8e37ef9",
   "metadata": {},
   "source": [
    "### 3.3.5 Debugging matcher\n",
    "We observe that the best matcher is not getting us to the precision that we expect (i.e > 95%). We debug the matcher to see what might be wrong.\n",
    "\n",
    "To do this, first we split the feature vectors into train and test."
   ]
  },
  {
   "cell_type": "code",
   "execution_count": 220,
   "id": "1761f822",
   "metadata": {},
   "outputs": [],
   "source": [
    "# # Split feature vectors into train and test\n",
    "train_test = em.split_train_test(feature_vectors_dev, train_proportion=0.5)\n",
    "train = train_test['train']\n",
    "test = train_test['test']"
   ]
  },
  {
   "cell_type": "code",
   "execution_count": 223,
   "id": "2710f90e",
   "metadata": {},
   "outputs": [],
   "source": [
    "# Debug decision tree using GUI\n",
    "em.vis_debug_rf(rf, train, test, \n",
    "        exclude_attrs=['_id', 'ltable_id', 'rtable_id', 'label'],\n",
    "        target_attr='label')"
   ]
  },
  {
   "cell_type": "markdown",
   "id": "9da95353",
   "metadata": {},
   "source": [
    "From the GUI, we observe that using only 'year' related features result in a lot of false positives. So we decide to use all the features in the feature table (which had author, title and year related features)."
   ]
  },
  {
   "cell_type": "code",
   "execution_count": 224,
   "id": "97548df9",
   "metadata": {},
   "outputs": [],
   "source": [
    "# Select all features from the feature table\n",
    "feature_subset_iter2 = feature_table"
   ]
  },
  {
   "cell_type": "code",
   "execution_count": 226,
   "id": "327924f0",
   "metadata": {},
   "outputs": [
    {
     "name": "stderr",
     "output_type": "stream",
     "text": [
      "0% [##############################] 100% | ETA: 00:00:00\n",
      "Total time elapsed: 00:00:04\n"
     ]
    }
   ],
   "source": [
    "# Get new set of features\n",
    "feature_vectors_dev = em.extract_feature_vecs(development, feature_table=feature_subset_iter2, attrs_after='label')"
   ]
  },
  {
   "cell_type": "code",
   "execution_count": 227,
   "id": "b1ed724f",
   "metadata": {},
   "outputs": [
    {
     "data": {
      "text/plain": [
       "True"
      ]
     },
     "execution_count": 227,
     "metadata": {},
     "output_type": "execute_result"
    }
   ],
   "source": [
    "# Check if imputation is required\n",
    "any(pd.isnull(feature_vectors_dev))"
   ]
  },
  {
   "cell_type": "code",
   "execution_count": 229,
   "id": "1a406765",
   "metadata": {},
   "outputs": [
    {
     "name": "stderr",
     "output_type": "stream",
     "text": [
      "C:\\Users\\DELL\\anaconda3\\lib\\site-packages\\py_entitymatching\\matcher\\matcherutils.py:224: FutureWarning: The pandas.np module is deprecated and will be removed from pandas in a future version. Import numpy directly instead.\n",
      "  imp.statistics_[pd.np.isnan(imp.statistics_)] = val_all_nans\n"
     ]
    }
   ],
   "source": [
    "# Impute feature vectors\n",
    "feature_vectors_dev = em.impute_table(feature_vectors_dev, \n",
    "                exclude_attrs=['_id', 'ltable_id', 'rtable_id', 'label'],\n",
    "                strategy='mean')"
   ]
  },
  {
   "cell_type": "code",
   "execution_count": 230,
   "id": "fbb1647f",
   "metadata": {},
   "outputs": [],
   "source": [
    "# Apply cross validation to find if there is a better matcher\n",
    "result = em.select_matcher([dt, rf, svm, nb, lg, ln], table=feature_vectors_dev, \n",
    "        exclude_attrs=['_id', 'ltable_id', 'rtable_id', 'label'],\n",
    "        k=10,\n",
    "        target_attr='label', \n",
    "        metric_to_select_matcher='precision',\n",
    "        random_state=0)"
   ]
  },
  {
   "cell_type": "code",
   "execution_count": 231,
   "id": "af12f58f",
   "metadata": {},
   "outputs": [
    {
     "data": {
      "text/html": [
       "<div>\n",
       "<style scoped>\n",
       "    .dataframe tbody tr th:only-of-type {\n",
       "        vertical-align: middle;\n",
       "    }\n",
       "\n",
       "    .dataframe tbody tr th {\n",
       "        vertical-align: top;\n",
       "    }\n",
       "\n",
       "    .dataframe thead th {\n",
       "        text-align: right;\n",
       "    }\n",
       "</style>\n",
       "<table border=\"1\" class=\"dataframe\">\n",
       "  <thead>\n",
       "    <tr style=\"text-align: right;\">\n",
       "      <th></th>\n",
       "      <th>Matcher</th>\n",
       "      <th>Average precision</th>\n",
       "      <th>Average recall</th>\n",
       "      <th>Average f1</th>\n",
       "    </tr>\n",
       "  </thead>\n",
       "  <tbody>\n",
       "    <tr>\n",
       "      <th>0</th>\n",
       "      <td>DecisionTree</td>\n",
       "      <td>0.999029</td>\n",
       "      <td>0.996123</td>\n",
       "      <td>0.997076</td>\n",
       "    </tr>\n",
       "    <tr>\n",
       "      <th>1</th>\n",
       "      <td>RF</td>\n",
       "      <td>0.998068</td>\n",
       "      <td>0.996113</td>\n",
       "      <td>0.997071</td>\n",
       "    </tr>\n",
       "    <tr>\n",
       "      <th>2</th>\n",
       "      <td>SVM</td>\n",
       "      <td>0.999020</td>\n",
       "      <td>0.980806</td>\n",
       "      <td>0.989802</td>\n",
       "    </tr>\n",
       "    <tr>\n",
       "      <th>3</th>\n",
       "      <td>NB</td>\n",
       "      <td>0.998068</td>\n",
       "      <td>0.999010</td>\n",
       "      <td>0.998532</td>\n",
       "    </tr>\n",
       "    <tr>\n",
       "      <th>4</th>\n",
       "      <td>LogReg</td>\n",
       "      <td>0.999038</td>\n",
       "      <td>0.994177</td>\n",
       "      <td>0.996582</td>\n",
       "    </tr>\n",
       "    <tr>\n",
       "      <th>5</th>\n",
       "      <td>LinReg</td>\n",
       "      <td>1.000000</td>\n",
       "      <td>0.991132</td>\n",
       "      <td>0.995520</td>\n",
       "    </tr>\n",
       "  </tbody>\n",
       "</table>\n",
       "</div>"
      ],
      "text/plain": [
       "        Matcher  Average precision  Average recall  Average f1\n",
       "0  DecisionTree           0.999029        0.996123    0.997076\n",
       "1            RF           0.998068        0.996113    0.997071\n",
       "2           SVM           0.999020        0.980806    0.989802\n",
       "3            NB           0.998068        0.999010    0.998532\n",
       "4        LogReg           0.999038        0.994177    0.996582\n",
       "5        LinReg           1.000000        0.991132    0.995520"
      ]
     },
     "execution_count": 231,
     "metadata": {},
     "output_type": "execute_result"
    }
   ],
   "source": [
    "result['cv_stats']"
   ]
  },
  {
   "cell_type": "code",
   "execution_count": 232,
   "id": "b3910f28",
   "metadata": {},
   "outputs": [
    {
     "data": {
      "text/html": [
       "<div>\n",
       "<style scoped>\n",
       "    .dataframe tbody tr th:only-of-type {\n",
       "        vertical-align: middle;\n",
       "    }\n",
       "\n",
       "    .dataframe tbody tr th {\n",
       "        vertical-align: top;\n",
       "    }\n",
       "\n",
       "    .dataframe thead th {\n",
       "        text-align: right;\n",
       "    }\n",
       "</style>\n",
       "<table border=\"1\" class=\"dataframe\">\n",
       "  <thead>\n",
       "    <tr style=\"text-align: right;\">\n",
       "      <th></th>\n",
       "      <th>Name</th>\n",
       "      <th>Matcher</th>\n",
       "      <th>Num folds</th>\n",
       "      <th>Fold 1</th>\n",
       "      <th>Fold 2</th>\n",
       "      <th>Fold 3</th>\n",
       "      <th>Fold 4</th>\n",
       "      <th>Fold 5</th>\n",
       "      <th>Fold 6</th>\n",
       "      <th>Fold 7</th>\n",
       "      <th>Fold 8</th>\n",
       "      <th>Fold 9</th>\n",
       "      <th>Fold 10</th>\n",
       "      <th>Mean score</th>\n",
       "    </tr>\n",
       "  </thead>\n",
       "  <tbody>\n",
       "    <tr>\n",
       "      <th>0</th>\n",
       "      <td>DecisionTree</td>\n",
       "      <td>&lt;py_entitymatching.matcher.dtmatcher.DTMatcher object at 0x000001F0D547DC10&gt;</td>\n",
       "      <td>10</td>\n",
       "      <td>1.0</td>\n",
       "      <td>1.0</td>\n",
       "      <td>1.0</td>\n",
       "      <td>1.000000</td>\n",
       "      <td>1.0</td>\n",
       "      <td>0.990291</td>\n",
       "      <td>1.0</td>\n",
       "      <td>1.0</td>\n",
       "      <td>1.0</td>\n",
       "      <td>1.0</td>\n",
       "      <td>0.999029</td>\n",
       "    </tr>\n",
       "    <tr>\n",
       "      <th>1</th>\n",
       "      <td>RF</td>\n",
       "      <td>&lt;py_entitymatching.matcher.rfmatcher.RFMatcher object at 0x000001F0D4BA22B0&gt;</td>\n",
       "      <td>10</td>\n",
       "      <td>1.0</td>\n",
       "      <td>1.0</td>\n",
       "      <td>1.0</td>\n",
       "      <td>0.990385</td>\n",
       "      <td>1.0</td>\n",
       "      <td>0.990291</td>\n",
       "      <td>1.0</td>\n",
       "      <td>1.0</td>\n",
       "      <td>1.0</td>\n",
       "      <td>1.0</td>\n",
       "      <td>0.998068</td>\n",
       "    </tr>\n",
       "    <tr>\n",
       "      <th>2</th>\n",
       "      <td>SVM</td>\n",
       "      <td>&lt;py_entitymatching.matcher.svmmatcher.SVMMatcher object at 0x000001F0D4BA2100&gt;</td>\n",
       "      <td>10</td>\n",
       "      <td>1.0</td>\n",
       "      <td>1.0</td>\n",
       "      <td>1.0</td>\n",
       "      <td>0.990196</td>\n",
       "      <td>1.0</td>\n",
       "      <td>1.000000</td>\n",
       "      <td>1.0</td>\n",
       "      <td>1.0</td>\n",
       "      <td>1.0</td>\n",
       "      <td>1.0</td>\n",
       "      <td>0.999020</td>\n",
       "    </tr>\n",
       "    <tr>\n",
       "      <th>3</th>\n",
       "      <td>NB</td>\n",
       "      <td>&lt;py_entitymatching.matcher.nbmatcher.NBMatcher object at 0x000001F0D4BA2250&gt;</td>\n",
       "      <td>10</td>\n",
       "      <td>1.0</td>\n",
       "      <td>1.0</td>\n",
       "      <td>1.0</td>\n",
       "      <td>0.990385</td>\n",
       "      <td>1.0</td>\n",
       "      <td>0.990291</td>\n",
       "      <td>1.0</td>\n",
       "      <td>1.0</td>\n",
       "      <td>1.0</td>\n",
       "      <td>1.0</td>\n",
       "      <td>0.998068</td>\n",
       "    </tr>\n",
       "    <tr>\n",
       "      <th>4</th>\n",
       "      <td>LogReg</td>\n",
       "      <td>&lt;py_entitymatching.matcher.logregmatcher.LogRegMatcher object at 0x000001F0D4BA20D0&gt;</td>\n",
       "      <td>10</td>\n",
       "      <td>1.0</td>\n",
       "      <td>1.0</td>\n",
       "      <td>1.0</td>\n",
       "      <td>0.990385</td>\n",
       "      <td>1.0</td>\n",
       "      <td>1.000000</td>\n",
       "      <td>1.0</td>\n",
       "      <td>1.0</td>\n",
       "      <td>1.0</td>\n",
       "      <td>1.0</td>\n",
       "      <td>0.999038</td>\n",
       "    </tr>\n",
       "    <tr>\n",
       "      <th>5</th>\n",
       "      <td>LinReg</td>\n",
       "      <td>&lt;py_entitymatching.matcher.linregmatcher.LinRegMatcher object at 0x000001F0D4BA2130&gt;</td>\n",
       "      <td>10</td>\n",
       "      <td>1.0</td>\n",
       "      <td>1.0</td>\n",
       "      <td>1.0</td>\n",
       "      <td>1.000000</td>\n",
       "      <td>1.0</td>\n",
       "      <td>1.000000</td>\n",
       "      <td>1.0</td>\n",
       "      <td>1.0</td>\n",
       "      <td>1.0</td>\n",
       "      <td>1.0</td>\n",
       "      <td>1.000000</td>\n",
       "    </tr>\n",
       "  </tbody>\n",
       "</table>\n",
       "</div>"
      ],
      "text/plain": [
       "           Name  \\\n",
       "0  DecisionTree   \n",
       "1            RF   \n",
       "2           SVM   \n",
       "3            NB   \n",
       "4        LogReg   \n",
       "5        LinReg   \n",
       "\n",
       "                                                                                Matcher  \\\n",
       "0          <py_entitymatching.matcher.dtmatcher.DTMatcher object at 0x000001F0D547DC10>   \n",
       "1          <py_entitymatching.matcher.rfmatcher.RFMatcher object at 0x000001F0D4BA22B0>   \n",
       "2        <py_entitymatching.matcher.svmmatcher.SVMMatcher object at 0x000001F0D4BA2100>   \n",
       "3          <py_entitymatching.matcher.nbmatcher.NBMatcher object at 0x000001F0D4BA2250>   \n",
       "4  <py_entitymatching.matcher.logregmatcher.LogRegMatcher object at 0x000001F0D4BA20D0>   \n",
       "5  <py_entitymatching.matcher.linregmatcher.LinRegMatcher object at 0x000001F0D4BA2130>   \n",
       "\n",
       "   Num folds  Fold 1  Fold 2  Fold 3    Fold 4  Fold 5    Fold 6  Fold 7  \\\n",
       "0         10     1.0     1.0     1.0  1.000000     1.0  0.990291     1.0   \n",
       "1         10     1.0     1.0     1.0  0.990385     1.0  0.990291     1.0   \n",
       "2         10     1.0     1.0     1.0  0.990196     1.0  1.000000     1.0   \n",
       "3         10     1.0     1.0     1.0  0.990385     1.0  0.990291     1.0   \n",
       "4         10     1.0     1.0     1.0  0.990385     1.0  1.000000     1.0   \n",
       "5         10     1.0     1.0     1.0  1.000000     1.0  1.000000     1.0   \n",
       "\n",
       "   Fold 8  Fold 9  Fold 10  Mean score  \n",
       "0     1.0     1.0      1.0    0.999029  \n",
       "1     1.0     1.0      1.0    0.998068  \n",
       "2     1.0     1.0      1.0    0.999020  \n",
       "3     1.0     1.0      1.0    0.998068  \n",
       "4     1.0     1.0      1.0    0.999038  \n",
       "5     1.0     1.0      1.0    1.000000  "
      ]
     },
     "execution_count": 232,
     "metadata": {},
     "output_type": "execute_result"
    }
   ],
   "source": [
    "result['drill_down_cv_stats']['precision']"
   ]
  },
  {
   "cell_type": "markdown",
   "id": "5d368c51",
   "metadata": {},
   "source": [
    "Now, observe the best matcher is achieving the expected precision and we can proceed on to evaluating the best matcher on the unseen data (the evaluation set)."
   ]
  },
  {
   "cell_type": "markdown",
   "id": "cd8504f8",
   "metadata": {},
   "source": [
    "## 3.4 Evaluating the matching output\n",
    "Evaluating the matching outputs for the evaluation set typically involves the following four steps:\n",
    "\n",
    "1. Extracting the feature vectors\n",
    "2. Training matcher using the feature vectors extracted from the development set\n",
    "3. Predicting the evaluation set using the trained matcher\n",
    "4. Evaluating the predicted matches\n",
    "### 3.4.1 Extracting the feature vectors\n",
    "As before, we extract the feature vectors (using the updated feature table and the evaluation set) and impute it (if necessary)."
   ]
  },
  {
   "cell_type": "code",
   "execution_count": 234,
   "id": "0ef990f2",
   "metadata": {},
   "outputs": [
    {
     "name": "stderr",
     "output_type": "stream",
     "text": [
      "0% [##############################] 100% | ETA: 00:00:00\n",
      "Total time elapsed: 00:00:09\n"
     ]
    }
   ],
   "source": [
    "# Get new set of features\n",
    "feature_vectors_eval = em.extract_feature_vecs(evaluation, \n",
    "                                               feature_table=feature_subset_iter2, \n",
    "                                               attrs_after='label')"
   ]
  },
  {
   "cell_type": "code",
   "execution_count": 235,
   "id": "a4d17f51",
   "metadata": {},
   "outputs": [
    {
     "data": {
      "text/plain": [
       "True"
      ]
     },
     "execution_count": 235,
     "metadata": {},
     "output_type": "execute_result"
    }
   ],
   "source": [
    "# Check if the feature vectors contain missing values\n",
    "# A return value of True means that there are missing values\n",
    "any(pd.isnull(feature_vectors_eval))"
   ]
  },
  {
   "cell_type": "code",
   "execution_count": 236,
   "id": "31b56272",
   "metadata": {},
   "outputs": [
    {
     "name": "stderr",
     "output_type": "stream",
     "text": [
      "C:\\Users\\DELL\\anaconda3\\lib\\site-packages\\py_entitymatching\\matcher\\matcherutils.py:224: FutureWarning: The pandas.np module is deprecated and will be removed from pandas in a future version. Import numpy directly instead.\n",
      "  imp.statistics_[pd.np.isnan(imp.statistics_)] = val_all_nans\n"
     ]
    }
   ],
   "source": [
    "# Impute feature vectors\n",
    "feature_vectors_eval = em.impute_table(feature_vectors_eval, \n",
    "                exclude_attrs=['_id', 'ltable_id', 'rtable_id', 'label'],\n",
    "                strategy='mean')"
   ]
  },
  {
   "cell_type": "markdown",
   "id": "219326e4",
   "metadata": {},
   "source": [
    "### 3.4.2 Training the matcher\n",
    "Now, we train the matcher using all of the feature vectors from the development set. For the purposes of this guide we use random forest as the selected matcher."
   ]
  },
  {
   "cell_type": "code",
   "execution_count": 237,
   "id": "838bd5b4",
   "metadata": {},
   "outputs": [],
   "source": [
    "# Train using feature vectors from the development set\n",
    "rf.fit(table=feature_vectors_dev, \n",
    "       exclude_attrs=['_id', 'ltable_id', 'rtable_id', 'label'], \n",
    "       target_attr='label')"
   ]
  },
  {
   "cell_type": "markdown",
   "id": "96513e56",
   "metadata": {},
   "source": [
    "### 3.4.3 Predicting the matches\n",
    "Next, we predict the matches for the evaluation set (using the feature vectors extracted from it)."
   ]
  },
  {
   "cell_type": "code",
   "execution_count": 238,
   "id": "ee78cb32",
   "metadata": {},
   "outputs": [],
   "source": [
    "# Predict M \n",
    "predictions = rf.predict(table=feature_vectors_eval, \n",
    "                         exclude_attrs=['_id', 'ltable_id', 'rtable_id', 'label'], \n",
    "                         append=True, \n",
    "                         target_attr='predicted', \n",
    "                         inplace=False)"
   ]
  },
  {
   "cell_type": "markdown",
   "id": "39fbd13a",
   "metadata": {},
   "source": [
    "### 3.4.4 Evaluating the matching output\n",
    "Finally, we evaluate the predicted outputs"
   ]
  },
  {
   "cell_type": "code",
   "execution_count": 240,
   "id": "dbd26358",
   "metadata": {},
   "outputs": [
    {
     "name": "stdout",
     "output_type": "stream",
     "text": [
      "Precision : 100.0% (1000/1000)\n",
      "Recall : 100.0% (1000/1000)\n",
      "F1 : 100.0%\n",
      "False positives : 0 (out of 1000 positive predictions)\n",
      "False negatives : 0 (out of 1000 negative predictions)\n"
     ]
    }
   ],
   "source": [
    "# Evaluate the result\n",
    "eval_result = em.eval_matches(predictions, 'label', 'predicted')\n",
    "em.print_eval_summary(eval_result)"
   ]
  },
  {
   "cell_type": "code",
   "execution_count": 242,
   "id": "71debfcf",
   "metadata": {},
   "outputs": [
    {
     "data": {
      "text/plain": [
       "2000"
      ]
     },
     "execution_count": 242,
     "metadata": {},
     "output_type": "execute_result"
    }
   ],
   "source": [
    "len(feature_vectors_dev)"
   ]
  },
  {
   "cell_type": "code",
   "execution_count": null,
   "id": "b8ba1aec",
   "metadata": {},
   "outputs": [],
   "source": []
  }
 ],
 "metadata": {
  "kernelspec": {
   "display_name": "Python 3 (ipykernel)",
   "language": "python",
   "name": "python3"
  },
  "language_info": {
   "codemirror_mode": {
    "name": "ipython",
    "version": 3
   },
   "file_extension": ".py",
   "mimetype": "text/x-python",
   "name": "python",
   "nbconvert_exporter": "python",
   "pygments_lexer": "ipython3",
   "version": "3.9.16"
  }
 },
 "nbformat": 4,
 "nbformat_minor": 5
}
