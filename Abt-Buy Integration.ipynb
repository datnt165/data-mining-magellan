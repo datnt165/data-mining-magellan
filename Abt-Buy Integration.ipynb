{
 "cells": [
  {
   "cell_type": "code",
   "execution_count": 1,
   "id": "2f77f91a",
   "metadata": {},
   "outputs": [],
   "source": [
    "# Import libraries\n",
    "import py_entitymatching as em\n",
    "import pandas as pd\n",
    "import os, sys"
   ]
  },
  {
   "cell_type": "markdown",
   "id": "40f05377",
   "metadata": {},
   "source": [
    "# Matching two tables typically consists of the following three steps:\n",
    "** 1. Reading the input tables **\n",
    "\n",
    "** 2. Blocking the input tables to get a candidate set **\n",
    "\n",
    "** 3. Matching the tuple pairs in the candidate set **\n",
    "\n",
    "# 1. Loading the input tables\n",
    "\n",
    "We begin by loading the input tables. For the purpose of this guide, we use the datasets that are included with the package."
   ]
  },
  {
   "cell_type": "code",
   "execution_count": 2,
   "id": "e504deff",
   "metadata": {},
   "outputs": [],
   "source": [
    "#dblp_dataset_path = os.sep.join(['DBLP_ACM', 'DBLP_cleaned.csv'])\n",
    "#acm_dataset_path = os.sep.join(['DBLP_ACM', 'ACM_cleaned.csv'])\n",
    "\n",
    "datasets_dir = os.getcwd() + os.sep + 'data\\\\csv\\\\Abt-Buy'\n",
    "\n",
    "abt_dataset_path = datasets_dir + os.sep + 'abtProfiles.csv'\n",
    "buy_dataset_path = datasets_dir + os.sep + 'buyProfiles.csv'"
   ]
  },
  {
   "cell_type": "code",
   "execution_count": 3,
   "id": "f7046b6c",
   "metadata": {},
   "outputs": [
    {
     "name": "stderr",
     "output_type": "stream",
     "text": [
      "Metadata file is not present in the given path; proceeding to read the csv file.\n",
      "Metadata file is not present in the given path; proceeding to read the csv file.\n"
     ]
    }
   ],
   "source": [
    "# Load csv files as dataframes and set the key attribute in the dataframe\n",
    "A = em.read_csv_metadata(abt_dataset_path, encoding = \"ISO-8859-1\", key='id')\n",
    "B = em.read_csv_metadata(buy_dataset_path, key='id')"
   ]
  },
  {
   "cell_type": "code",
   "execution_count": 4,
   "id": "6d00d28d",
   "metadata": {},
   "outputs": [
    {
     "name": "stdout",
     "output_type": "stream",
     "text": [
      "Number of tuples in A: 1076\n",
      "Number of tuples in B: 1076\n",
      "Number of tuples in A X B (i.e the cartesian product): 1157776\n"
     ]
    }
   ],
   "source": [
    "print('Number of tuples in A: ' + str(len(A)))\n",
    "print('Number of tuples in B: ' + str(len(B)))\n",
    "print('Number of tuples in A X B (i.e the cartesian product): ' + str(len(A)*len(B)))"
   ]
  },
  {
   "cell_type": "code",
   "execution_count": 5,
   "id": "a2d9f95b",
   "metadata": {},
   "outputs": [
    {
     "data": {
      "text/plain": [
       "('id', 'id')"
      ]
     },
     "execution_count": 5,
     "metadata": {},
     "output_type": "execute_result"
    }
   ],
   "source": [
    "# Display the keys of the input tables\n",
    "em.get_key(A), em.get_key(B)"
   ]
  },
  {
   "cell_type": "code",
   "execution_count": 6,
   "id": "7ba10513",
   "metadata": {},
   "outputs": [],
   "source": [
    "# If the tables are large we can downsample the tables like this\n",
    "# A1, B1 = em.down_sample(A, B, 200, 1, show_progress=False)\n",
    "# len(A1), len(B1)"
   ]
  },
  {
   "cell_type": "markdown",
   "id": "d78f2c3a",
   "metadata": {},
   "source": [
    "# 2. Blocking to create candidate tuple pairs\n",
    "Before we do the matching, we would like to remove the obviously non-matching tuple pairs from the input tables. This would reduce the number of tuple pairs considered for matching.\n",
    "\n",
    "Magellan provides four different blockers: (1) attribute equivalence, (2) overlap, (3) rule-based, and (4) black-box. Refer to [api reference] for more details. The user can mix and match these blockers to form a blocking sequence applied to input tables.\n",
    "\n"
   ]
  },
  {
   "cell_type": "code",
   "execution_count": 75,
   "id": "0681b660",
   "metadata": {},
   "outputs": [
    {
     "name": "stderr",
     "output_type": "stream",
     "text": [
      "C:\\Users\\DELL\\anaconda3\\lib\\site-packages\\py_stringsimjoin\\utils\\generic_helper.py:76: FutureWarning: In a future version of pandas all arguments of DataFrame.dropna will be keyword-only.\n",
      "  projected_dataframe = dataframe[proj_attrs].dropna(0,\n",
      "C:\\Users\\DELL\\anaconda3\\lib\\site-packages\\py_stringsimjoin\\utils\\generic_helper.py:76: FutureWarning: In a future version of pandas all arguments of DataFrame.dropna will be keyword-only.\n",
      "  projected_dataframe = dataframe[proj_attrs].dropna(0,\n",
      "0% [##############################] 100% | ETA: 00:00:00\n",
      "Total time elapsed: 00:00:00\n"
     ]
    }
   ],
   "source": [
    "ob = em.OverlapBlocker()\n",
    "OB = ob.block_tables(A, B, 'name', 'name', l_output_attrs=['description', 'name', 'price'],\n",
    "                   r_output_attrs=['description', 'name', 'price'])"
   ]
  },
  {
   "cell_type": "markdown",
   "id": "a3963a0d",
   "metadata": {},
   "source": [
    "## Attribute Equivalence Blocker"
   ]
  },
  {
   "cell_type": "code",
   "execution_count": 21,
   "id": "4d811489",
   "metadata": {},
   "outputs": [],
   "source": [
    "# Create attribute equivalence blocker on Price \n",
    "ab = em.AttrEquivalenceBlocker()\n",
    "# Block tables using 'year' attribute: same year then include in the canidate set\n",
    "AE = ab.block_tables(A, B, 'price', 'price', \n",
    "                   l_output_attrs=['description', 'name', 'price'],\n",
    "                   r_output_attrs=['description', 'name', 'price']\n",
    "                   )"
   ]
  },
  {
   "cell_type": "code",
   "execution_count": 23,
   "id": "a3b36f01",
   "metadata": {},
   "outputs": [
    {
     "data": {
      "text/html": [
       "<div>\n",
       "<style scoped>\n",
       "    .dataframe tbody tr th:only-of-type {\n",
       "        vertical-align: middle;\n",
       "    }\n",
       "\n",
       "    .dataframe tbody tr th {\n",
       "        vertical-align: top;\n",
       "    }\n",
       "\n",
       "    .dataframe thead th {\n",
       "        text-align: right;\n",
       "    }\n",
       "</style>\n",
       "<table border=\"1\" class=\"dataframe\">\n",
       "  <thead>\n",
       "    <tr style=\"text-align: right;\">\n",
       "      <th></th>\n",
       "      <th>_id</th>\n",
       "      <th>ltable_id</th>\n",
       "      <th>rtable_id</th>\n",
       "      <th>ltable_description</th>\n",
       "      <th>ltable_name</th>\n",
       "      <th>ltable_price</th>\n",
       "      <th>rtable_description</th>\n",
       "      <th>rtable_name</th>\n",
       "      <th>rtable_price</th>\n",
       "    </tr>\n",
       "  </thead>\n",
       "  <tbody>\n",
       "    <tr>\n",
       "      <th>0</th>\n",
       "      <td>0</td>\n",
       "      <td>1</td>\n",
       "      <td>674</td>\n",
       "      <td>Bose Acoustimass 5 Series III Speaker System - AM53BK/ 2 Dual Cube Speakers With Two 2-1/2' Wide...</td>\n",
       "      <td>Bose Acoustimass 5 Series III Speaker System - AM53BK</td>\n",
       "      <td>399.0</td>\n",
       "      <td>Samsung LN22A451 - 22' Widescreen LCD HDTV - 3000:1 Dynamic Contrast Ratio - 8ms Response Time -...</td>\n",
       "      <td>Samsung 4 Series LN22A451 22' LCD TV</td>\n",
       "      <td>399.0</td>\n",
       "    </tr>\n",
       "    <tr>\n",
       "      <th>1</th>\n",
       "      <td>1</td>\n",
       "      <td>281</td>\n",
       "      <td>674</td>\n",
       "      <td>Tech Craft Dark Cherry Veneto Series TV Stand - SWP60/ 60' Wide Credenza For Flat Panel TV?s And...</td>\n",
       "      <td>Tech Craft Dark Cherry Veneto Series TV Stand - SWP60</td>\n",
       "      <td>399.0</td>\n",
       "      <td>Samsung LN22A451 - 22' Widescreen LCD HDTV - 3000:1 Dynamic Contrast Ratio - 8ms Response Time -...</td>\n",
       "      <td>Samsung 4 Series LN22A451 22' LCD TV</td>\n",
       "      <td>399.0</td>\n",
       "    </tr>\n",
       "    <tr>\n",
       "      <th>2</th>\n",
       "      <td>2</td>\n",
       "      <td>337</td>\n",
       "      <td>674</td>\n",
       "      <td>Tech Craft Veneto Series Black TV Stand - ABS60BK/ Supports Up To A 60' Flat Panel TV/ Molded To...</td>\n",
       "      <td>Tech Craft Veneto Series Black TV Stand - ABS60BK</td>\n",
       "      <td>399.0</td>\n",
       "      <td>Samsung LN22A451 - 22' Widescreen LCD HDTV - 3000:1 Dynamic Contrast Ratio - 8ms Response Time -...</td>\n",
       "      <td>Samsung 4 Series LN22A451 22' LCD TV</td>\n",
       "      <td>399.0</td>\n",
       "    </tr>\n",
       "    <tr>\n",
       "      <th>3</th>\n",
       "      <td>3</td>\n",
       "      <td>373</td>\n",
       "      <td>674</td>\n",
       "      <td>Microsoft Office Standard 2007 - 02107746/ Create Documents Faster More Easily And More Intuitiv...</td>\n",
       "      <td>Microsoft Office Standard 2007 - 02107746</td>\n",
       "      <td>399.0</td>\n",
       "      <td>Samsung LN22A451 - 22' Widescreen LCD HDTV - 3000:1 Dynamic Contrast Ratio - 8ms Response Time -...</td>\n",
       "      <td>Samsung 4 Series LN22A451 22' LCD TV</td>\n",
       "      <td>399.0</td>\n",
       "    </tr>\n",
       "    <tr>\n",
       "      <th>4</th>\n",
       "      <td>4</td>\n",
       "      <td>472</td>\n",
       "      <td>674</td>\n",
       "      <td>Yamaha 5.1 Channel Home Theater In A Box System In Black - YHT390BK/ New Scene Compressed Music ...</td>\n",
       "      <td>Yamaha 5.1 Channel Home Theater In A Box System In Black  - YHT390BK</td>\n",
       "      <td>399.0</td>\n",
       "      <td>Samsung LN22A451 - 22' Widescreen LCD HDTV - 3000:1 Dynamic Contrast Ratio - 8ms Response Time -...</td>\n",
       "      <td>Samsung 4 Series LN22A451 22' LCD TV</td>\n",
       "      <td>399.0</td>\n",
       "    </tr>\n",
       "  </tbody>\n",
       "</table>\n",
       "</div>"
      ],
      "text/plain": [
       "   _id  ltable_id  rtable_id  \\\n",
       "0    0          1        674   \n",
       "1    1        281        674   \n",
       "2    2        337        674   \n",
       "3    3        373        674   \n",
       "4    4        472        674   \n",
       "\n",
       "                                                                                    ltable_description  \\\n",
       "0  Bose Acoustimass 5 Series III Speaker System - AM53BK/ 2 Dual Cube Speakers With Two 2-1/2' Wide...   \n",
       "1  Tech Craft Dark Cherry Veneto Series TV Stand - SWP60/ 60' Wide Credenza For Flat Panel TV?s And...   \n",
       "2  Tech Craft Veneto Series Black TV Stand - ABS60BK/ Supports Up To A 60' Flat Panel TV/ Molded To...   \n",
       "3  Microsoft Office Standard 2007 - 02107746/ Create Documents Faster More Easily And More Intuitiv...   \n",
       "4  Yamaha 5.1 Channel Home Theater In A Box System In Black - YHT390BK/ New Scene Compressed Music ...   \n",
       "\n",
       "                                                            ltable_name  \\\n",
       "0                 Bose Acoustimass 5 Series III Speaker System - AM53BK   \n",
       "1                 Tech Craft Dark Cherry Veneto Series TV Stand - SWP60   \n",
       "2                     Tech Craft Veneto Series Black TV Stand - ABS60BK   \n",
       "3                             Microsoft Office Standard 2007 - 02107746   \n",
       "4  Yamaha 5.1 Channel Home Theater In A Box System In Black  - YHT390BK   \n",
       "\n",
       "   ltable_price  \\\n",
       "0         399.0   \n",
       "1         399.0   \n",
       "2         399.0   \n",
       "3         399.0   \n",
       "4         399.0   \n",
       "\n",
       "                                                                                    rtable_description  \\\n",
       "0  Samsung LN22A451 - 22' Widescreen LCD HDTV - 3000:1 Dynamic Contrast Ratio - 8ms Response Time -...   \n",
       "1  Samsung LN22A451 - 22' Widescreen LCD HDTV - 3000:1 Dynamic Contrast Ratio - 8ms Response Time -...   \n",
       "2  Samsung LN22A451 - 22' Widescreen LCD HDTV - 3000:1 Dynamic Contrast Ratio - 8ms Response Time -...   \n",
       "3  Samsung LN22A451 - 22' Widescreen LCD HDTV - 3000:1 Dynamic Contrast Ratio - 8ms Response Time -...   \n",
       "4  Samsung LN22A451 - 22' Widescreen LCD HDTV - 3000:1 Dynamic Contrast Ratio - 8ms Response Time -...   \n",
       "\n",
       "                            rtable_name  rtable_price  \n",
       "0  Samsung 4 Series LN22A451 22' LCD TV         399.0  \n",
       "1  Samsung 4 Series LN22A451 22' LCD TV         399.0  \n",
       "2  Samsung 4 Series LN22A451 22' LCD TV         399.0  \n",
       "3  Samsung 4 Series LN22A451 22' LCD TV         399.0  \n",
       "4  Samsung 4 Series LN22A451 22' LCD TV         399.0  "
      ]
     },
     "execution_count": 23,
     "metadata": {},
     "output_type": "execute_result"
    }
   ],
   "source": [
    "AE.head()"
   ]
  },
  {
   "cell_type": "markdown",
   "id": "fc764020",
   "metadata": {},
   "source": [
    "## Rule-base Blocker"
   ]
  },
  {
   "cell_type": "code",
   "execution_count": 9,
   "id": "2013cf1c",
   "metadata": {
    "scrolled": true
   },
   "outputs": [
    {
     "data": {
      "text/html": [
       "<div>\n",
       "<style scoped>\n",
       "    .dataframe tbody tr th:only-of-type {\n",
       "        vertical-align: middle;\n",
       "    }\n",
       "\n",
       "    .dataframe tbody tr th {\n",
       "        vertical-align: top;\n",
       "    }\n",
       "\n",
       "    .dataframe thead th {\n",
       "        text-align: right;\n",
       "    }\n",
       "</style>\n",
       "<table border=\"1\" class=\"dataframe\">\n",
       "  <thead>\n",
       "    <tr style=\"text-align: right;\">\n",
       "      <th></th>\n",
       "      <th>feature_name</th>\n",
       "      <th>left_attribute</th>\n",
       "      <th>right_attribute</th>\n",
       "      <th>left_attr_tokenizer</th>\n",
       "      <th>right_attr_tokenizer</th>\n",
       "      <th>simfunction</th>\n",
       "      <th>function</th>\n",
       "      <th>function_source</th>\n",
       "      <th>is_auto_generated</th>\n",
       "    </tr>\n",
       "  </thead>\n",
       "  <tbody>\n",
       "    <tr>\n",
       "      <th>0</th>\n",
       "      <td>id_id_exm</td>\n",
       "      <td>id</td>\n",
       "      <td>id</td>\n",
       "      <td>None</td>\n",
       "      <td>None</td>\n",
       "      <td>exact_match</td>\n",
       "      <td>&lt;function id_id_exm at 0x0000021BCFD3DEE0&gt;</td>\n",
       "      <td>from py_entitymatching.feature.simfunctions import *\\nfrom py_entitymatching.feature.tokenizers ...</td>\n",
       "      <td>True</td>\n",
       "    </tr>\n",
       "    <tr>\n",
       "      <th>1</th>\n",
       "      <td>id_id_anm</td>\n",
       "      <td>id</td>\n",
       "      <td>id</td>\n",
       "      <td>None</td>\n",
       "      <td>None</td>\n",
       "      <td>abs_norm</td>\n",
       "      <td>&lt;function id_id_anm at 0x0000021BE15A1550&gt;</td>\n",
       "      <td>from py_entitymatching.feature.simfunctions import *\\nfrom py_entitymatching.feature.tokenizers ...</td>\n",
       "      <td>True</td>\n",
       "    </tr>\n",
       "    <tr>\n",
       "      <th>2</th>\n",
       "      <td>id_id_lev_dist</td>\n",
       "      <td>id</td>\n",
       "      <td>id</td>\n",
       "      <td>None</td>\n",
       "      <td>None</td>\n",
       "      <td>lev_dist</td>\n",
       "      <td>&lt;function id_id_lev_dist at 0x0000021BE1606160&gt;</td>\n",
       "      <td>from py_entitymatching.feature.simfunctions import *\\nfrom py_entitymatching.feature.tokenizers ...</td>\n",
       "      <td>True</td>\n",
       "    </tr>\n",
       "    <tr>\n",
       "      <th>3</th>\n",
       "      <td>id_id_lev_sim</td>\n",
       "      <td>id</td>\n",
       "      <td>id</td>\n",
       "      <td>None</td>\n",
       "      <td>None</td>\n",
       "      <td>lev_sim</td>\n",
       "      <td>&lt;function id_id_lev_sim at 0x0000021BE16065E0&gt;</td>\n",
       "      <td>from py_entitymatching.feature.simfunctions import *\\nfrom py_entitymatching.feature.tokenizers ...</td>\n",
       "      <td>True</td>\n",
       "    </tr>\n",
       "    <tr>\n",
       "      <th>4</th>\n",
       "      <td>description_description_jac_qgm_3_qgm_3</td>\n",
       "      <td>description</td>\n",
       "      <td>description</td>\n",
       "      <td>qgm_3</td>\n",
       "      <td>qgm_3</td>\n",
       "      <td>jaccard</td>\n",
       "      <td>&lt;function description_description_jac_qgm_3_qgm_3 at 0x0000021BE1606670&gt;</td>\n",
       "      <td>from py_entitymatching.feature.simfunctions import *\\nfrom py_entitymatching.feature.tokenizers ...</td>\n",
       "      <td>True</td>\n",
       "    </tr>\n",
       "    <tr>\n",
       "      <th>5</th>\n",
       "      <td>description_description_cos_dlm_dc0_dlm_dc0</td>\n",
       "      <td>description</td>\n",
       "      <td>description</td>\n",
       "      <td>dlm_dc0</td>\n",
       "      <td>dlm_dc0</td>\n",
       "      <td>cosine</td>\n",
       "      <td>&lt;function description_description_cos_dlm_dc0_dlm_dc0 at 0x0000021BE1606700&gt;</td>\n",
       "      <td>from py_entitymatching.feature.simfunctions import *\\nfrom py_entitymatching.feature.tokenizers ...</td>\n",
       "      <td>True</td>\n",
       "    </tr>\n",
       "    <tr>\n",
       "      <th>6</th>\n",
       "      <td>name_name_jac_qgm_3_qgm_3</td>\n",
       "      <td>name</td>\n",
       "      <td>name</td>\n",
       "      <td>qgm_3</td>\n",
       "      <td>qgm_3</td>\n",
       "      <td>jaccard</td>\n",
       "      <td>&lt;function name_name_jac_qgm_3_qgm_3 at 0x0000021BE1606790&gt;</td>\n",
       "      <td>from py_entitymatching.feature.simfunctions import *\\nfrom py_entitymatching.feature.tokenizers ...</td>\n",
       "      <td>True</td>\n",
       "    </tr>\n",
       "    <tr>\n",
       "      <th>7</th>\n",
       "      <td>name_name_cos_dlm_dc0_dlm_dc0</td>\n",
       "      <td>name</td>\n",
       "      <td>name</td>\n",
       "      <td>dlm_dc0</td>\n",
       "      <td>dlm_dc0</td>\n",
       "      <td>cosine</td>\n",
       "      <td>&lt;function name_name_cos_dlm_dc0_dlm_dc0 at 0x0000021BE1606820&gt;</td>\n",
       "      <td>from py_entitymatching.feature.simfunctions import *\\nfrom py_entitymatching.feature.tokenizers ...</td>\n",
       "      <td>True</td>\n",
       "    </tr>\n",
       "    <tr>\n",
       "      <th>8</th>\n",
       "      <td>name_name_mel</td>\n",
       "      <td>name</td>\n",
       "      <td>name</td>\n",
       "      <td>None</td>\n",
       "      <td>None</td>\n",
       "      <td>monge_elkan</td>\n",
       "      <td>&lt;function name_name_mel at 0x0000021BE16068B0&gt;</td>\n",
       "      <td>from py_entitymatching.feature.simfunctions import *\\nfrom py_entitymatching.feature.tokenizers ...</td>\n",
       "      <td>True</td>\n",
       "    </tr>\n",
       "    <tr>\n",
       "      <th>9</th>\n",
       "      <td>name_name_lev_dist</td>\n",
       "      <td>name</td>\n",
       "      <td>name</td>\n",
       "      <td>None</td>\n",
       "      <td>None</td>\n",
       "      <td>lev_dist</td>\n",
       "      <td>&lt;function name_name_lev_dist at 0x0000021BE1606940&gt;</td>\n",
       "      <td>from py_entitymatching.feature.simfunctions import *\\nfrom py_entitymatching.feature.tokenizers ...</td>\n",
       "      <td>True</td>\n",
       "    </tr>\n",
       "    <tr>\n",
       "      <th>10</th>\n",
       "      <td>name_name_lev_sim</td>\n",
       "      <td>name</td>\n",
       "      <td>name</td>\n",
       "      <td>None</td>\n",
       "      <td>None</td>\n",
       "      <td>lev_sim</td>\n",
       "      <td>&lt;function name_name_lev_sim at 0x0000021BE16069D0&gt;</td>\n",
       "      <td>from py_entitymatching.feature.simfunctions import *\\nfrom py_entitymatching.feature.tokenizers ...</td>\n",
       "      <td>True</td>\n",
       "    </tr>\n",
       "    <tr>\n",
       "      <th>11</th>\n",
       "      <td>entityUrl_entityUrl_exm</td>\n",
       "      <td>entityUrl</td>\n",
       "      <td>entityUrl</td>\n",
       "      <td>None</td>\n",
       "      <td>None</td>\n",
       "      <td>exact_match</td>\n",
       "      <td>&lt;function entityUrl_entityUrl_exm at 0x0000021BE1606A60&gt;</td>\n",
       "      <td>from py_entitymatching.feature.simfunctions import *\\nfrom py_entitymatching.feature.tokenizers ...</td>\n",
       "      <td>True</td>\n",
       "    </tr>\n",
       "    <tr>\n",
       "      <th>12</th>\n",
       "      <td>entityUrl_entityUrl_anm</td>\n",
       "      <td>entityUrl</td>\n",
       "      <td>entityUrl</td>\n",
       "      <td>None</td>\n",
       "      <td>None</td>\n",
       "      <td>abs_norm</td>\n",
       "      <td>&lt;function entityUrl_entityUrl_anm at 0x0000021BE1606AF0&gt;</td>\n",
       "      <td>from py_entitymatching.feature.simfunctions import *\\nfrom py_entitymatching.feature.tokenizers ...</td>\n",
       "      <td>True</td>\n",
       "    </tr>\n",
       "    <tr>\n",
       "      <th>13</th>\n",
       "      <td>entityUrl_entityUrl_lev_dist</td>\n",
       "      <td>entityUrl</td>\n",
       "      <td>entityUrl</td>\n",
       "      <td>None</td>\n",
       "      <td>None</td>\n",
       "      <td>lev_dist</td>\n",
       "      <td>&lt;function entityUrl_entityUrl_lev_dist at 0x0000021BE1606B80&gt;</td>\n",
       "      <td>from py_entitymatching.feature.simfunctions import *\\nfrom py_entitymatching.feature.tokenizers ...</td>\n",
       "      <td>True</td>\n",
       "    </tr>\n",
       "    <tr>\n",
       "      <th>14</th>\n",
       "      <td>entityUrl_entityUrl_lev_sim</td>\n",
       "      <td>entityUrl</td>\n",
       "      <td>entityUrl</td>\n",
       "      <td>None</td>\n",
       "      <td>None</td>\n",
       "      <td>lev_sim</td>\n",
       "      <td>&lt;function entityUrl_entityUrl_lev_sim at 0x0000021BE1606C10&gt;</td>\n",
       "      <td>from py_entitymatching.feature.simfunctions import *\\nfrom py_entitymatching.feature.tokenizers ...</td>\n",
       "      <td>True</td>\n",
       "    </tr>\n",
       "    <tr>\n",
       "      <th>15</th>\n",
       "      <td>price_price_exm</td>\n",
       "      <td>price</td>\n",
       "      <td>price</td>\n",
       "      <td>None</td>\n",
       "      <td>None</td>\n",
       "      <td>exact_match</td>\n",
       "      <td>&lt;function price_price_exm at 0x0000021BE1606CA0&gt;</td>\n",
       "      <td>from py_entitymatching.feature.simfunctions import *\\nfrom py_entitymatching.feature.tokenizers ...</td>\n",
       "      <td>True</td>\n",
       "    </tr>\n",
       "    <tr>\n",
       "      <th>16</th>\n",
       "      <td>price_price_anm</td>\n",
       "      <td>price</td>\n",
       "      <td>price</td>\n",
       "      <td>None</td>\n",
       "      <td>None</td>\n",
       "      <td>abs_norm</td>\n",
       "      <td>&lt;function price_price_anm at 0x0000021BE1606D30&gt;</td>\n",
       "      <td>from py_entitymatching.feature.simfunctions import *\\nfrom py_entitymatching.feature.tokenizers ...</td>\n",
       "      <td>True</td>\n",
       "    </tr>\n",
       "    <tr>\n",
       "      <th>17</th>\n",
       "      <td>price_price_lev_dist</td>\n",
       "      <td>price</td>\n",
       "      <td>price</td>\n",
       "      <td>None</td>\n",
       "      <td>None</td>\n",
       "      <td>lev_dist</td>\n",
       "      <td>&lt;function price_price_lev_dist at 0x0000021BE1606DC0&gt;</td>\n",
       "      <td>from py_entitymatching.feature.simfunctions import *\\nfrom py_entitymatching.feature.tokenizers ...</td>\n",
       "      <td>True</td>\n",
       "    </tr>\n",
       "    <tr>\n",
       "      <th>18</th>\n",
       "      <td>price_price_lev_sim</td>\n",
       "      <td>price</td>\n",
       "      <td>price</td>\n",
       "      <td>None</td>\n",
       "      <td>None</td>\n",
       "      <td>lev_sim</td>\n",
       "      <td>&lt;function price_price_lev_sim at 0x0000021BE1606E50&gt;</td>\n",
       "      <td>from py_entitymatching.feature.simfunctions import *\\nfrom py_entitymatching.feature.tokenizers ...</td>\n",
       "      <td>True</td>\n",
       "    </tr>\n",
       "  </tbody>\n",
       "</table>\n",
       "</div>"
      ],
      "text/plain": [
       "                                   feature_name left_attribute  \\\n",
       "0                                     id_id_exm             id   \n",
       "1                                     id_id_anm             id   \n",
       "2                                id_id_lev_dist             id   \n",
       "3                                 id_id_lev_sim             id   \n",
       "4       description_description_jac_qgm_3_qgm_3    description   \n",
       "5   description_description_cos_dlm_dc0_dlm_dc0    description   \n",
       "6                     name_name_jac_qgm_3_qgm_3           name   \n",
       "7                 name_name_cos_dlm_dc0_dlm_dc0           name   \n",
       "8                                 name_name_mel           name   \n",
       "9                            name_name_lev_dist           name   \n",
       "10                            name_name_lev_sim           name   \n",
       "11                      entityUrl_entityUrl_exm      entityUrl   \n",
       "12                      entityUrl_entityUrl_anm      entityUrl   \n",
       "13                 entityUrl_entityUrl_lev_dist      entityUrl   \n",
       "14                  entityUrl_entityUrl_lev_sim      entityUrl   \n",
       "15                              price_price_exm          price   \n",
       "16                              price_price_anm          price   \n",
       "17                         price_price_lev_dist          price   \n",
       "18                          price_price_lev_sim          price   \n",
       "\n",
       "   right_attribute left_attr_tokenizer right_attr_tokenizer  simfunction  \\\n",
       "0               id                None                 None  exact_match   \n",
       "1               id                None                 None     abs_norm   \n",
       "2               id                None                 None     lev_dist   \n",
       "3               id                None                 None      lev_sim   \n",
       "4      description               qgm_3                qgm_3      jaccard   \n",
       "5      description             dlm_dc0              dlm_dc0       cosine   \n",
       "6             name               qgm_3                qgm_3      jaccard   \n",
       "7             name             dlm_dc0              dlm_dc0       cosine   \n",
       "8             name                None                 None  monge_elkan   \n",
       "9             name                None                 None     lev_dist   \n",
       "10            name                None                 None      lev_sim   \n",
       "11       entityUrl                None                 None  exact_match   \n",
       "12       entityUrl                None                 None     abs_norm   \n",
       "13       entityUrl                None                 None     lev_dist   \n",
       "14       entityUrl                None                 None      lev_sim   \n",
       "15           price                None                 None  exact_match   \n",
       "16           price                None                 None     abs_norm   \n",
       "17           price                None                 None     lev_dist   \n",
       "18           price                None                 None      lev_sim   \n",
       "\n",
       "                                                                        function  \\\n",
       "0                                     <function id_id_exm at 0x0000021BCFD3DEE0>   \n",
       "1                                     <function id_id_anm at 0x0000021BE15A1550>   \n",
       "2                                <function id_id_lev_dist at 0x0000021BE1606160>   \n",
       "3                                 <function id_id_lev_sim at 0x0000021BE16065E0>   \n",
       "4       <function description_description_jac_qgm_3_qgm_3 at 0x0000021BE1606670>   \n",
       "5   <function description_description_cos_dlm_dc0_dlm_dc0 at 0x0000021BE1606700>   \n",
       "6                     <function name_name_jac_qgm_3_qgm_3 at 0x0000021BE1606790>   \n",
       "7                 <function name_name_cos_dlm_dc0_dlm_dc0 at 0x0000021BE1606820>   \n",
       "8                                 <function name_name_mel at 0x0000021BE16068B0>   \n",
       "9                            <function name_name_lev_dist at 0x0000021BE1606940>   \n",
       "10                            <function name_name_lev_sim at 0x0000021BE16069D0>   \n",
       "11                      <function entityUrl_entityUrl_exm at 0x0000021BE1606A60>   \n",
       "12                      <function entityUrl_entityUrl_anm at 0x0000021BE1606AF0>   \n",
       "13                 <function entityUrl_entityUrl_lev_dist at 0x0000021BE1606B80>   \n",
       "14                  <function entityUrl_entityUrl_lev_sim at 0x0000021BE1606C10>   \n",
       "15                              <function price_price_exm at 0x0000021BE1606CA0>   \n",
       "16                              <function price_price_anm at 0x0000021BE1606D30>   \n",
       "17                         <function price_price_lev_dist at 0x0000021BE1606DC0>   \n",
       "18                          <function price_price_lev_sim at 0x0000021BE1606E50>   \n",
       "\n",
       "                                                                                        function_source  \\\n",
       "0   from py_entitymatching.feature.simfunctions import *\\nfrom py_entitymatching.feature.tokenizers ...   \n",
       "1   from py_entitymatching.feature.simfunctions import *\\nfrom py_entitymatching.feature.tokenizers ...   \n",
       "2   from py_entitymatching.feature.simfunctions import *\\nfrom py_entitymatching.feature.tokenizers ...   \n",
       "3   from py_entitymatching.feature.simfunctions import *\\nfrom py_entitymatching.feature.tokenizers ...   \n",
       "4   from py_entitymatching.feature.simfunctions import *\\nfrom py_entitymatching.feature.tokenizers ...   \n",
       "5   from py_entitymatching.feature.simfunctions import *\\nfrom py_entitymatching.feature.tokenizers ...   \n",
       "6   from py_entitymatching.feature.simfunctions import *\\nfrom py_entitymatching.feature.tokenizers ...   \n",
       "7   from py_entitymatching.feature.simfunctions import *\\nfrom py_entitymatching.feature.tokenizers ...   \n",
       "8   from py_entitymatching.feature.simfunctions import *\\nfrom py_entitymatching.feature.tokenizers ...   \n",
       "9   from py_entitymatching.feature.simfunctions import *\\nfrom py_entitymatching.feature.tokenizers ...   \n",
       "10  from py_entitymatching.feature.simfunctions import *\\nfrom py_entitymatching.feature.tokenizers ...   \n",
       "11  from py_entitymatching.feature.simfunctions import *\\nfrom py_entitymatching.feature.tokenizers ...   \n",
       "12  from py_entitymatching.feature.simfunctions import *\\nfrom py_entitymatching.feature.tokenizers ...   \n",
       "13  from py_entitymatching.feature.simfunctions import *\\nfrom py_entitymatching.feature.tokenizers ...   \n",
       "14  from py_entitymatching.feature.simfunctions import *\\nfrom py_entitymatching.feature.tokenizers ...   \n",
       "15  from py_entitymatching.feature.simfunctions import *\\nfrom py_entitymatching.feature.tokenizers ...   \n",
       "16  from py_entitymatching.feature.simfunctions import *\\nfrom py_entitymatching.feature.tokenizers ...   \n",
       "17  from py_entitymatching.feature.simfunctions import *\\nfrom py_entitymatching.feature.tokenizers ...   \n",
       "18  from py_entitymatching.feature.simfunctions import *\\nfrom py_entitymatching.feature.tokenizers ...   \n",
       "\n",
       "    is_auto_generated  \n",
       "0                True  \n",
       "1                True  \n",
       "2                True  \n",
       "3                True  \n",
       "4                True  \n",
       "5                True  \n",
       "6                True  \n",
       "7                True  \n",
       "8                True  \n",
       "9                True  \n",
       "10               True  \n",
       "11               True  \n",
       "12               True  \n",
       "13               True  \n",
       "14               True  \n",
       "15               True  \n",
       "16               True  \n",
       "17               True  \n",
       "18               True  "
      ]
     },
     "execution_count": 9,
     "metadata": {},
     "output_type": "execute_result"
    }
   ],
   "source": [
    "block_f = em.get_features_for_blocking(A, B, validate_inferred_attr_types=False)\n",
    "block_f"
   ]
  },
  {
   "cell_type": "code",
   "execution_count": 10,
   "id": "57282712",
   "metadata": {},
   "outputs": [
    {
     "data": {
      "text/plain": [
       "[('id', 'id'),\n",
       " ('description', 'description'),\n",
       " ('name', 'name'),\n",
       " ('entityUrl', 'entityUrl'),\n",
       " ('price', 'price')]"
      ]
     },
     "execution_count": 10,
     "metadata": {},
     "output_type": "execute_result"
    }
   ],
   "source": [
    "em._block_c['corres']"
   ]
  },
  {
   "cell_type": "code",
   "execution_count": 63,
   "id": "95974883",
   "metadata": {},
   "outputs": [
    {
     "data": {
      "text/plain": [
       "'_rule_0'"
      ]
     },
     "execution_count": 63,
     "metadata": {},
     "output_type": "execute_result"
    }
   ],
   "source": [
    "rb = em.RuleBasedBlocker()\n",
    "# Add rule : block tuples if name_name_lev(ltuple, rtuple) < 0.4\n",
    "# rb.add_rule(['name_name_cos_dlm_dc0_dlm_dc0(ltuple, rtuple) < 0.3'], block_f)\n",
    "rb.add_rule(['name_name_mel(ltuple, rtuple) < 0.7'], block_f)"
   ]
  },
  {
   "cell_type": "code",
   "execution_count": 64,
   "id": "f32ca8a1",
   "metadata": {},
   "outputs": [
    {
     "name": "stderr",
     "output_type": "stream",
     "text": [
      "0% [##############################] 100% | ETA: 00:00:00\n",
      "Total time elapsed: 00:02:34\n"
     ]
    }
   ],
   "source": [
    "R1 = rb.block_tables(A, B, l_output_attrs=['name'], r_output_attrs=['name'], show_progress=True)"
   ]
  },
  {
   "cell_type": "code",
   "execution_count": 65,
   "id": "7fc433ff",
   "metadata": {},
   "outputs": [
    {
     "data": {
      "text/html": [
       "<div>\n",
       "<style scoped>\n",
       "    .dataframe tbody tr th:only-of-type {\n",
       "        vertical-align: middle;\n",
       "    }\n",
       "\n",
       "    .dataframe tbody tr th {\n",
       "        vertical-align: top;\n",
       "    }\n",
       "\n",
       "    .dataframe thead th {\n",
       "        text-align: right;\n",
       "    }\n",
       "</style>\n",
       "<table border=\"1\" class=\"dataframe\">\n",
       "  <thead>\n",
       "    <tr style=\"text-align: right;\">\n",
       "      <th></th>\n",
       "      <th>_id</th>\n",
       "      <th>ltable_id</th>\n",
       "      <th>rtable_id</th>\n",
       "      <th>ltable_name</th>\n",
       "      <th>rtable_name</th>\n",
       "    </tr>\n",
       "  </thead>\n",
       "  <tbody>\n",
       "    <tr>\n",
       "      <th>0</th>\n",
       "      <td>0</td>\n",
       "      <td>0</td>\n",
       "      <td>18</td>\n",
       "      <td>Sony Turntable - PSLX350H</td>\n",
       "      <td>Sony VAIO Notebook and AC Adapter Case - VGPAMC2</td>\n",
       "    </tr>\n",
       "    <tr>\n",
       "      <th>1</th>\n",
       "      <td>1</td>\n",
       "      <td>0</td>\n",
       "      <td>20</td>\n",
       "      <td>Sony Turntable - PSLX350H</td>\n",
       "      <td>Sony Notebook and AC Adapter Cases - VGPAMC3</td>\n",
       "    </tr>\n",
       "    <tr>\n",
       "      <th>2</th>\n",
       "      <td>2</td>\n",
       "      <td>0</td>\n",
       "      <td>23</td>\n",
       "      <td>Sony Turntable - PSLX350H</td>\n",
       "      <td>Sony High Definition Mini DV Cassette - DSL-190-B</td>\n",
       "    </tr>\n",
       "    <tr>\n",
       "      <th>3</th>\n",
       "      <td>3</td>\n",
       "      <td>0</td>\n",
       "      <td>32</td>\n",
       "      <td>Sony Turntable - PSLX350H</td>\n",
       "      <td>Sony MiniDV Head Cleaner - DVM12CLD</td>\n",
       "    </tr>\n",
       "    <tr>\n",
       "      <th>4</th>\n",
       "      <td>4</td>\n",
       "      <td>0</td>\n",
       "      <td>33</td>\n",
       "      <td>Sony Turntable - PSLX350H</td>\n",
       "      <td>Sony SB-V40S A/V Selector - SBV40S</td>\n",
       "    </tr>\n",
       "  </tbody>\n",
       "</table>\n",
       "</div>"
      ],
      "text/plain": [
       "   _id  ltable_id  rtable_id                ltable_name  \\\n",
       "0    0          0         18  Sony Turntable - PSLX350H   \n",
       "1    1          0         20  Sony Turntable - PSLX350H   \n",
       "2    2          0         23  Sony Turntable - PSLX350H   \n",
       "3    3          0         32  Sony Turntable - PSLX350H   \n",
       "4    4          0         33  Sony Turntable - PSLX350H   \n",
       "\n",
       "                                         rtable_name  \n",
       "0   Sony VAIO Notebook and AC Adapter Case - VGPAMC2  \n",
       "1       Sony Notebook and AC Adapter Cases - VGPAMC3  \n",
       "2  Sony High Definition Mini DV Cassette - DSL-190-B  \n",
       "3                Sony MiniDV Head Cleaner - DVM12CLD  \n",
       "4                 Sony SB-V40S A/V Selector - SBV40S  "
      ]
     },
     "execution_count": 65,
     "metadata": {},
     "output_type": "execute_result"
    }
   ],
   "source": [
    "R1.head()"
   ]
  },
  {
   "cell_type": "code",
   "execution_count": 66,
   "id": "4723bcda",
   "metadata": {},
   "outputs": [
    {
     "data": {
      "text/plain": [
       "55016"
      ]
     },
     "execution_count": 66,
     "metadata": {},
     "output_type": "execute_result"
    }
   ],
   "source": [
    "len(R1)"
   ]
  },
  {
   "cell_type": "markdown",
   "id": "621e7f5c",
   "metadata": {},
   "source": [
    "## Black Box Blocker"
   ]
  },
  {
   "cell_type": "code",
   "execution_count": 28,
   "id": "48d11de8",
   "metadata": {},
   "outputs": [],
   "source": [
    "# Apply black box blocker\n",
    "# Create black box blocker\n",
    "bb = em.BlackBoxBlocker()"
   ]
  },
  {
   "cell_type": "code",
   "execution_count": 29,
   "id": "dbfcb85d",
   "metadata": {},
   "outputs": [],
   "source": [
    "import re\n",
    "\n",
    "def extract_words(sentence):\n",
    "    sentence = re.sub(r'[^\\w\\s]', '', sentence)\n",
    "\n",
    "    words = sentence.split()\n",
    "\n",
    "    return words\n",
    "\n",
    "# BLack Box Function\n",
    "def my_function(x, y):\n",
    "    # x, y will be of type pandas series\n",
    "    \n",
    "    # get name attribute\n",
    "    x_name = x['name']\n",
    "    y_name = y['name']\n",
    "    # get last names\n",
    "    x_code = extract_words(x_name)[-1]\n",
    "    y_extract = extract_words(y_name)\n",
    "    # check if last names match\n",
    "    if x_code in y_extract:\n",
    "        return False\n",
    "    else:\n",
    "        return True"
   ]
  },
  {
   "cell_type": "code",
   "execution_count": 37,
   "id": "baa2a04d",
   "metadata": {},
   "outputs": [],
   "source": [
    "bb.set_black_box_function(my_function)"
   ]
  },
  {
   "cell_type": "code",
   "execution_count": 38,
   "id": "de1292e8",
   "metadata": {
    "scrolled": true
   },
   "outputs": [],
   "source": [
    "# F = bb.block_tables(A, B, l_output_attrs=['name'], r_output_attrs=['name'], show_progress=False)\n",
    "BB = bb.block_candset(R1, show_progress=False)"
   ]
  },
  {
   "cell_type": "code",
   "execution_count": 39,
   "id": "9e8b3f9b",
   "metadata": {},
   "outputs": [
    {
     "data": {
      "text/html": [
       "<div>\n",
       "<style scoped>\n",
       "    .dataframe tbody tr th:only-of-type {\n",
       "        vertical-align: middle;\n",
       "    }\n",
       "\n",
       "    .dataframe tbody tr th {\n",
       "        vertical-align: top;\n",
       "    }\n",
       "\n",
       "    .dataframe thead th {\n",
       "        text-align: right;\n",
       "    }\n",
       "</style>\n",
       "<table border=\"1\" class=\"dataframe\">\n",
       "  <thead>\n",
       "    <tr style=\"text-align: right;\">\n",
       "      <th></th>\n",
       "      <th>_id</th>\n",
       "      <th>ltable_id</th>\n",
       "      <th>rtable_id</th>\n",
       "      <th>ltable_name</th>\n",
       "      <th>rtable_name</th>\n",
       "    </tr>\n",
       "  </thead>\n",
       "  <tbody>\n",
       "    <tr>\n",
       "      <th>14</th>\n",
       "      <td>14</td>\n",
       "      <td>1023</td>\n",
       "      <td>0</td>\n",
       "      <td>Linksys EtherFast 8-Port 10/100 Switch - EZXS88W</td>\n",
       "      <td>Linksys EtherFast EZXS88W Ethernet Switch - EZXS88W</td>\n",
       "    </tr>\n",
       "    <tr>\n",
       "      <th>21</th>\n",
       "      <td>21</td>\n",
       "      <td>1022</td>\n",
       "      <td>1</td>\n",
       "      <td>Linksys EtherFast10/100 5-Port Auto-Sensing Switch - EZXS55W</td>\n",
       "      <td>Linksys EtherFast EZXS55W Ethernet Switch</td>\n",
       "    </tr>\n",
       "    <tr>\n",
       "      <th>29</th>\n",
       "      <td>29</td>\n",
       "      <td>434</td>\n",
       "      <td>2</td>\n",
       "      <td>Netgear ProSafe 5 Port 10/100 Desktop Switch - FS105</td>\n",
       "      <td>Netgear ProSafe FS105 Ethernet Switch - FS105NA</td>\n",
       "    </tr>\n",
       "    <tr>\n",
       "      <th>35</th>\n",
       "      <td>35</td>\n",
       "      <td>214</td>\n",
       "      <td>3</td>\n",
       "      <td>Belkin F3H982-10 Pro Series High Integrity 10 Feet Monitor Cable - F3H98210</td>\n",
       "      <td>Belkin Pro Series High Integrity VGA/SVGA Monitor Extension Cable - F3H982-10</td>\n",
       "    </tr>\n",
       "    <tr>\n",
       "      <th>56</th>\n",
       "      <td>56</td>\n",
       "      <td>825</td>\n",
       "      <td>5</td>\n",
       "      <td>LaCie USB 2.0 Floppy Disk Drive - 706018</td>\n",
       "      <td>LaCie Pocket Floppy Disk Drive - 706018</td>\n",
       "    </tr>\n",
       "  </tbody>\n",
       "</table>\n",
       "</div>"
      ],
      "text/plain": [
       "    _id ltable_id rtable_id  \\\n",
       "14   14      1023         0   \n",
       "21   21      1022         1   \n",
       "29   29       434         2   \n",
       "35   35       214         3   \n",
       "56   56       825         5   \n",
       "\n",
       "                                                                    ltable_name  \\\n",
       "14                             Linksys EtherFast 8-Port 10/100 Switch - EZXS88W   \n",
       "21                 Linksys EtherFast10/100 5-Port Auto-Sensing Switch - EZXS55W   \n",
       "29                         Netgear ProSafe 5 Port 10/100 Desktop Switch - FS105   \n",
       "35  Belkin F3H982-10 Pro Series High Integrity 10 Feet Monitor Cable - F3H98210   \n",
       "56                                     LaCie USB 2.0 Floppy Disk Drive - 706018   \n",
       "\n",
       "                                                                      rtable_name  \n",
       "14                            Linksys EtherFast EZXS88W Ethernet Switch - EZXS88W  \n",
       "21                                      Linksys EtherFast EZXS55W Ethernet Switch  \n",
       "29                                Netgear ProSafe FS105 Ethernet Switch - FS105NA  \n",
       "35  Belkin Pro Series High Integrity VGA/SVGA Monitor Extension Cable - F3H982-10  \n",
       "56                                        LaCie Pocket Floppy Disk Drive - 706018  "
      ]
     },
     "execution_count": 39,
     "metadata": {},
     "output_type": "execute_result"
    }
   ],
   "source": [
    "# Check the number of rows in C1\n",
    "BB.head()"
   ]
  },
  {
   "cell_type": "markdown",
   "id": "4178d1e0",
   "metadata": {},
   "source": [
    "# Combine Block"
   ]
  },
  {
   "cell_type": "code",
   "execution_count": 76,
   "id": "378ab259",
   "metadata": {},
   "outputs": [],
   "source": [
    "G = em.combine_blocker_outputs_via_union([AE, R1, BB, OB])"
   ]
  },
  {
   "cell_type": "code",
   "execution_count": 77,
   "id": "d873c7e0",
   "metadata": {},
   "outputs": [
    {
     "data": {
      "text/html": [
       "<div>\n",
       "<style scoped>\n",
       "    .dataframe tbody tr th:only-of-type {\n",
       "        vertical-align: middle;\n",
       "    }\n",
       "\n",
       "    .dataframe tbody tr th {\n",
       "        vertical-align: top;\n",
       "    }\n",
       "\n",
       "    .dataframe thead th {\n",
       "        text-align: right;\n",
       "    }\n",
       "</style>\n",
       "<table border=\"1\" class=\"dataframe\">\n",
       "  <thead>\n",
       "    <tr style=\"text-align: right;\">\n",
       "      <th></th>\n",
       "      <th>_id</th>\n",
       "      <th>ltable_id</th>\n",
       "      <th>rtable_id</th>\n",
       "      <th>ltable_description</th>\n",
       "      <th>ltable_name</th>\n",
       "      <th>ltable_price</th>\n",
       "      <th>rtable_description</th>\n",
       "      <th>rtable_name</th>\n",
       "      <th>rtable_price</th>\n",
       "    </tr>\n",
       "  </thead>\n",
       "  <tbody>\n",
       "    <tr>\n",
       "      <th>0</th>\n",
       "      <td>0</td>\n",
       "      <td>0</td>\n",
       "      <td>18</td>\n",
       "      <td>Sony Turntable - PSLX350H/ Belt Drive System/ 33-1/3 and 45 RPM Speeds/ Servo Speed Control/ Sup...</td>\n",
       "      <td>Sony Turntable - PSLX350H</td>\n",
       "      <td>NaN</td>\n",
       "      <td>VAIO NEOPRENE NOTEBOOK &amp; AC ADAPTER CASE UP TO 17 IN LCD</td>\n",
       "      <td>Sony VAIO Notebook and AC Adapter Case - VGPAMC2</td>\n",
       "      <td>NaN</td>\n",
       "    </tr>\n",
       "    <tr>\n",
       "      <th>1</th>\n",
       "      <td>1</td>\n",
       "      <td>0</td>\n",
       "      <td>20</td>\n",
       "      <td>Sony Turntable - PSLX350H/ Belt Drive System/ 33-1/3 and 45 RPM Speeds/ Servo Speed Control/ Sup...</td>\n",
       "      <td>Sony Turntable - PSLX350H</td>\n",
       "      <td>NaN</td>\n",
       "      <td>Clam Shell - Neoprene</td>\n",
       "      <td>Sony Notebook and AC Adapter Cases - VGPAMC3</td>\n",
       "      <td>12.99</td>\n",
       "    </tr>\n",
       "    <tr>\n",
       "      <th>2</th>\n",
       "      <td>2</td>\n",
       "      <td>0</td>\n",
       "      <td>23</td>\n",
       "      <td>Sony Turntable - PSLX350H/ Belt Drive System/ 33-1/3 and 45 RPM Speeds/ Servo Speed Control/ Sup...</td>\n",
       "      <td>Sony Turntable - PSLX350H</td>\n",
       "      <td>NaN</td>\n",
       "      <td>Sony DVM-63 HD High-Definition miniDV Videocassette</td>\n",
       "      <td>Sony High Definition Mini DV Cassette - DSL-190-B</td>\n",
       "      <td>NaN</td>\n",
       "    </tr>\n",
       "    <tr>\n",
       "      <th>3</th>\n",
       "      <td>3</td>\n",
       "      <td>0</td>\n",
       "      <td>28</td>\n",
       "      <td>Sony Turntable - PSLX350H/ Belt Drive System/ 33-1/3 and 45 RPM Speeds/ Servo Speed Control/ Sup...</td>\n",
       "      <td>Sony Turntable - PSLX350H</td>\n",
       "      <td>NaN</td>\n",
       "      <td>NaN</td>\n",
       "      <td>SONY 7-11719-70670-0 PS2 8 MB Memory Card 2-pk - 97067</td>\n",
       "      <td>NaN</td>\n",
       "    </tr>\n",
       "    <tr>\n",
       "      <th>4</th>\n",
       "      <td>4</td>\n",
       "      <td>0</td>\n",
       "      <td>32</td>\n",
       "      <td>Sony Turntable - PSLX350H/ Belt Drive System/ 33-1/3 and 45 RPM Speeds/ Servo Speed Control/ Sup...</td>\n",
       "      <td>Sony Turntable - PSLX350H</td>\n",
       "      <td>NaN</td>\n",
       "      <td>Head Cleaner</td>\n",
       "      <td>Sony MiniDV Head Cleaner - DVM12CLD</td>\n",
       "      <td>7.95</td>\n",
       "    </tr>\n",
       "    <tr>\n",
       "      <th>...</th>\n",
       "      <td>...</td>\n",
       "      <td>...</td>\n",
       "      <td>...</td>\n",
       "      <td>...</td>\n",
       "      <td>...</td>\n",
       "      <td>...</td>\n",
       "      <td>...</td>\n",
       "      <td>...</td>\n",
       "      <td>...</td>\n",
       "    </tr>\n",
       "    <tr>\n",
       "      <th>161191</th>\n",
       "      <td>161191</td>\n",
       "      <td>1075</td>\n",
       "      <td>783</td>\n",
       "      <td>Linksys Wireless-G Range Expander - WRE54G/ Supports 64/128-Bit WEP Encryption In 802.11b/802.11...</td>\n",
       "      <td>Linksys Wireless-G Range Expander - WRE54G</td>\n",
       "      <td>99.0</td>\n",
       "      <td>NaN</td>\n",
       "      <td>1.6 cu.ft. Over the Range Microwave</td>\n",
       "      <td>NaN</td>\n",
       "    </tr>\n",
       "    <tr>\n",
       "      <th>161192</th>\n",
       "      <td>161192</td>\n",
       "      <td>1075</td>\n",
       "      <td>784</td>\n",
       "      <td>Linksys Wireless-G Range Expander - WRE54G/ Supports 64/128-Bit WEP Encryption In 802.11b/802.11...</td>\n",
       "      <td>Linksys Wireless-G Range Expander - WRE54G</td>\n",
       "      <td>99.0</td>\n",
       "      <td>NaN</td>\n",
       "      <td>LG 2.0 cu.ft. Over the Range Microwave Oven</td>\n",
       "      <td>NaN</td>\n",
       "    </tr>\n",
       "    <tr>\n",
       "      <th>161193</th>\n",
       "      <td>161193</td>\n",
       "      <td>1075</td>\n",
       "      <td>785</td>\n",
       "      <td>Linksys Wireless-G Range Expander - WRE54G/ Supports 64/128-Bit WEP Encryption In 802.11b/802.11...</td>\n",
       "      <td>Linksys Wireless-G Range Expander - WRE54G</td>\n",
       "      <td>99.0</td>\n",
       "      <td>NaN</td>\n",
       "      <td>LG 2.0 cu.ft. Over the Range Microwave Oven</td>\n",
       "      <td>NaN</td>\n",
       "    </tr>\n",
       "    <tr>\n",
       "      <th>161194</th>\n",
       "      <td>161194</td>\n",
       "      <td>1075</td>\n",
       "      <td>786</td>\n",
       "      <td>Linksys Wireless-G Range Expander - WRE54G/ Supports 64/128-Bit WEP Encryption In 802.11b/802.11...</td>\n",
       "      <td>Linksys Wireless-G Range Expander - WRE54G</td>\n",
       "      <td>99.0</td>\n",
       "      <td>NaN</td>\n",
       "      <td>LG 2.0 cu.ft. Over the Range Microwave Oven</td>\n",
       "      <td>NaN</td>\n",
       "    </tr>\n",
       "    <tr>\n",
       "      <th>161195</th>\n",
       "      <td>161195</td>\n",
       "      <td>1075</td>\n",
       "      <td>798</td>\n",
       "      <td>Linksys Wireless-G Range Expander - WRE54G/ Supports 64/128-Bit WEP Encryption In 802.11b/802.11...</td>\n",
       "      <td>Linksys Wireless-G Range Expander - WRE54G</td>\n",
       "      <td>99.0</td>\n",
       "      <td>NaN</td>\n",
       "      <td>Linksys WRT610N Simultaneous Dual-N Band Wireless Router</td>\n",
       "      <td>NaN</td>\n",
       "    </tr>\n",
       "  </tbody>\n",
       "</table>\n",
       "<p>161196 rows × 9 columns</p>\n",
       "</div>"
      ],
      "text/plain": [
       "           _id ltable_id rtable_id  \\\n",
       "0            0         0        18   \n",
       "1            1         0        20   \n",
       "2            2         0        23   \n",
       "3            3         0        28   \n",
       "4            4         0        32   \n",
       "...        ...       ...       ...   \n",
       "161191  161191      1075       783   \n",
       "161192  161192      1075       784   \n",
       "161193  161193      1075       785   \n",
       "161194  161194      1075       786   \n",
       "161195  161195      1075       798   \n",
       "\n",
       "                                                                                         ltable_description  \\\n",
       "0       Sony Turntable - PSLX350H/ Belt Drive System/ 33-1/3 and 45 RPM Speeds/ Servo Speed Control/ Sup...   \n",
       "1       Sony Turntable - PSLX350H/ Belt Drive System/ 33-1/3 and 45 RPM Speeds/ Servo Speed Control/ Sup...   \n",
       "2       Sony Turntable - PSLX350H/ Belt Drive System/ 33-1/3 and 45 RPM Speeds/ Servo Speed Control/ Sup...   \n",
       "3       Sony Turntable - PSLX350H/ Belt Drive System/ 33-1/3 and 45 RPM Speeds/ Servo Speed Control/ Sup...   \n",
       "4       Sony Turntable - PSLX350H/ Belt Drive System/ 33-1/3 and 45 RPM Speeds/ Servo Speed Control/ Sup...   \n",
       "...                                                                                                     ...   \n",
       "161191  Linksys Wireless-G Range Expander - WRE54G/ Supports 64/128-Bit WEP Encryption In 802.11b/802.11...   \n",
       "161192  Linksys Wireless-G Range Expander - WRE54G/ Supports 64/128-Bit WEP Encryption In 802.11b/802.11...   \n",
       "161193  Linksys Wireless-G Range Expander - WRE54G/ Supports 64/128-Bit WEP Encryption In 802.11b/802.11...   \n",
       "161194  Linksys Wireless-G Range Expander - WRE54G/ Supports 64/128-Bit WEP Encryption In 802.11b/802.11...   \n",
       "161195  Linksys Wireless-G Range Expander - WRE54G/ Supports 64/128-Bit WEP Encryption In 802.11b/802.11...   \n",
       "\n",
       "                                       ltable_name  ltable_price  \\\n",
       "0                        Sony Turntable - PSLX350H           NaN   \n",
       "1                        Sony Turntable - PSLX350H           NaN   \n",
       "2                        Sony Turntable - PSLX350H           NaN   \n",
       "3                        Sony Turntable - PSLX350H           NaN   \n",
       "4                        Sony Turntable - PSLX350H           NaN   \n",
       "...                                            ...           ...   \n",
       "161191  Linksys Wireless-G Range Expander - WRE54G          99.0   \n",
       "161192  Linksys Wireless-G Range Expander - WRE54G          99.0   \n",
       "161193  Linksys Wireless-G Range Expander - WRE54G          99.0   \n",
       "161194  Linksys Wireless-G Range Expander - WRE54G          99.0   \n",
       "161195  Linksys Wireless-G Range Expander - WRE54G          99.0   \n",
       "\n",
       "                                              rtable_description  \\\n",
       "0       VAIO NEOPRENE NOTEBOOK & AC ADAPTER CASE UP TO 17 IN LCD   \n",
       "1                                          Clam Shell - Neoprene   \n",
       "2            Sony DVM-63 HD High-Definition miniDV Videocassette   \n",
       "3                                                            NaN   \n",
       "4                                                   Head Cleaner   \n",
       "...                                                          ...   \n",
       "161191                                                       NaN   \n",
       "161192                                                       NaN   \n",
       "161193                                                       NaN   \n",
       "161194                                                       NaN   \n",
       "161195                                                       NaN   \n",
       "\n",
       "                                                     rtable_name  rtable_price  \n",
       "0               Sony VAIO Notebook and AC Adapter Case - VGPAMC2           NaN  \n",
       "1                   Sony Notebook and AC Adapter Cases - VGPAMC3         12.99  \n",
       "2              Sony High Definition Mini DV Cassette - DSL-190-B           NaN  \n",
       "3         SONY 7-11719-70670-0 PS2 8 MB Memory Card 2-pk - 97067           NaN  \n",
       "4                            Sony MiniDV Head Cleaner - DVM12CLD          7.95  \n",
       "...                                                          ...           ...  \n",
       "161191                       1.6 cu.ft. Over the Range Microwave           NaN  \n",
       "161192               LG 2.0 cu.ft. Over the Range Microwave Oven           NaN  \n",
       "161193               LG 2.0 cu.ft. Over the Range Microwave Oven           NaN  \n",
       "161194               LG 2.0 cu.ft. Over the Range Microwave Oven           NaN  \n",
       "161195  Linksys WRT610N Simultaneous Dual-N Band Wireless Router           NaN  \n",
       "\n",
       "[161196 rows x 9 columns]"
      ]
     },
     "execution_count": 77,
     "metadata": {},
     "output_type": "execute_result"
    }
   ],
   "source": [
    "G"
   ]
  },
  {
   "cell_type": "markdown",
   "id": "6573bf57",
   "metadata": {},
   "source": [
    "The number of tuple pairs considered for matching is reduced, but we would want to make sure that the blocker did not drop any potential matches. We could debug the blocker output in Magellan as follows:"
   ]
  },
  {
   "cell_type": "code",
   "execution_count": 42,
   "id": "35cc9288",
   "metadata": {},
   "outputs": [],
   "source": [
    "# Debug blocker output\n",
    "dbg = em.debug_blocker(G, A, B, output_size=200)"
   ]
  },
  {
   "cell_type": "code",
   "execution_count": 43,
   "id": "2c700d6c",
   "metadata": {},
   "outputs": [
    {
     "data": {
      "text/html": [
       "<div>\n",
       "<style scoped>\n",
       "    .dataframe tbody tr th:only-of-type {\n",
       "        vertical-align: middle;\n",
       "    }\n",
       "\n",
       "    .dataframe tbody tr th {\n",
       "        vertical-align: top;\n",
       "    }\n",
       "\n",
       "    .dataframe thead th {\n",
       "        text-align: right;\n",
       "    }\n",
       "</style>\n",
       "<table border=\"1\" class=\"dataframe\">\n",
       "  <thead>\n",
       "    <tr style=\"text-align: right;\">\n",
       "      <th></th>\n",
       "      <th>_id</th>\n",
       "      <th>ltable_id</th>\n",
       "      <th>rtable_id</th>\n",
       "      <th>ltable_description</th>\n",
       "      <th>ltable_name</th>\n",
       "      <th>rtable_description</th>\n",
       "      <th>rtable_name</th>\n",
       "    </tr>\n",
       "  </thead>\n",
       "  <tbody>\n",
       "    <tr>\n",
       "      <th>0</th>\n",
       "      <td>0</td>\n",
       "      <td>568</td>\n",
       "      <td>680</td>\n",
       "      <td>Samsung 46' Series 6 LCD Black Flat Panel HDTV - LN46A650/ Full 1080p High Definition Resolution...</td>\n",
       "      <td>Samsung 46' Series 6 LCD Black Flat Panel HDTV - LN46A650</td>\n",
       "      <td>Samsung LN19A450 - 19' Widescreen 720p LCD HDTV - 3000:1 Dynamic Contrast Ratio - 8ms Response T...</td>\n",
       "      <td>Samsung LN19A450 19' LCD TV</td>\n",
       "    </tr>\n",
       "    <tr>\n",
       "      <th>1</th>\n",
       "      <td>1</td>\n",
       "      <td>569</td>\n",
       "      <td>680</td>\n",
       "      <td>Samsung 52' Series 6 LCD Black Flat Panel HDTV - LN52A650/ Full 1080p High Definition Resolution...</td>\n",
       "      <td>Samsung 52' Series 6 LCD Black Flat Panel HDTV - LN52A650</td>\n",
       "      <td>Samsung LN19A450 - 19' Widescreen 720p LCD HDTV - 3000:1 Dynamic Contrast Ratio - 8ms Response T...</td>\n",
       "      <td>Samsung LN19A450 19' LCD TV</td>\n",
       "    </tr>\n",
       "    <tr>\n",
       "      <th>2</th>\n",
       "      <td>2</td>\n",
       "      <td>800</td>\n",
       "      <td>586</td>\n",
       "      <td>Toshiba Black DVD/VCR Combinaton Player - SDV296/ Progressive Scan DVD Player/ One Touch Recordi...</td>\n",
       "      <td>Toshiba Black DVD/VCR Combinaton Player - SDV296</td>\n",
       "      <td>DVD+RW DVD-RW DVD-RAM DVD-R DVD+R CD-RW VHS Secure Digital (SD) Card - DVD Video CD-DA MP3 JPEG ...</td>\n",
       "      <td>Panasonic DMR-EA38VK DVD/VCR Combo</td>\n",
       "    </tr>\n",
       "    <tr>\n",
       "      <th>3</th>\n",
       "      <td>3</td>\n",
       "      <td>608</td>\n",
       "      <td>656</td>\n",
       "      <td>Samsung 42' Black Flat Panel Series 4 Plasma HDTV - PN42A450P/ 1024 x 768p Resolution/ 1000000:1...</td>\n",
       "      <td>Samsung 42' Black Flat Panel Series 4 Plasma HDTV - PN42A450P</td>\n",
       "      <td>Samsung PN50A550 - 50' Widescreen 1080p Plasma HDTV - 1000000:1 Dynamic Contrast Ratio - Piano B...</td>\n",
       "      <td>Samsung PN50A550 50' Plasma TV</td>\n",
       "    </tr>\n",
       "    <tr>\n",
       "      <th>4</th>\n",
       "      <td>4</td>\n",
       "      <td>736</td>\n",
       "      <td>744</td>\n",
       "      <td>Samsung Black Blu-ray Player - BDP1500/ 1080p With 24Hz Video Output/ x.v.Color Connectivity (HD...</td>\n",
       "      <td>Samsung Black Blu-ray Player - BDP1500</td>\n",
       "      <td>BD Player 5.1 Speakers - 1 Disc(s) - Progressive Scan - 1250W RMS - Dolby Digital Dolby TrueHD D...</td>\n",
       "      <td>Panasonic SC-BT100 Home Theater System - SC-BT100P-K</td>\n",
       "    </tr>\n",
       "  </tbody>\n",
       "</table>\n",
       "</div>"
      ],
      "text/plain": [
       "   _id  ltable_id  rtable_id  \\\n",
       "0    0        568        680   \n",
       "1    1        569        680   \n",
       "2    2        800        586   \n",
       "3    3        608        656   \n",
       "4    4        736        744   \n",
       "\n",
       "                                                                                    ltable_description  \\\n",
       "0  Samsung 46' Series 6 LCD Black Flat Panel HDTV - LN46A650/ Full 1080p High Definition Resolution...   \n",
       "1  Samsung 52' Series 6 LCD Black Flat Panel HDTV - LN52A650/ Full 1080p High Definition Resolution...   \n",
       "2  Toshiba Black DVD/VCR Combinaton Player - SDV296/ Progressive Scan DVD Player/ One Touch Recordi...   \n",
       "3  Samsung 42' Black Flat Panel Series 4 Plasma HDTV - PN42A450P/ 1024 x 768p Resolution/ 1000000:1...   \n",
       "4  Samsung Black Blu-ray Player - BDP1500/ 1080p With 24Hz Video Output/ x.v.Color Connectivity (HD...   \n",
       "\n",
       "                                                     ltable_name  \\\n",
       "0      Samsung 46' Series 6 LCD Black Flat Panel HDTV - LN46A650   \n",
       "1      Samsung 52' Series 6 LCD Black Flat Panel HDTV - LN52A650   \n",
       "2               Toshiba Black DVD/VCR Combinaton Player - SDV296   \n",
       "3  Samsung 42' Black Flat Panel Series 4 Plasma HDTV - PN42A450P   \n",
       "4                         Samsung Black Blu-ray Player - BDP1500   \n",
       "\n",
       "                                                                                    rtable_description  \\\n",
       "0  Samsung LN19A450 - 19' Widescreen 720p LCD HDTV - 3000:1 Dynamic Contrast Ratio - 8ms Response T...   \n",
       "1  Samsung LN19A450 - 19' Widescreen 720p LCD HDTV - 3000:1 Dynamic Contrast Ratio - 8ms Response T...   \n",
       "2  DVD+RW DVD-RW DVD-RAM DVD-R DVD+R CD-RW VHS Secure Digital (SD) Card - DVD Video CD-DA MP3 JPEG ...   \n",
       "3  Samsung PN50A550 - 50' Widescreen 1080p Plasma HDTV - 1000000:1 Dynamic Contrast Ratio - Piano B...   \n",
       "4  BD Player 5.1 Speakers - 1 Disc(s) - Progressive Scan - 1250W RMS - Dolby Digital Dolby TrueHD D...   \n",
       "\n",
       "                                            rtable_name  \n",
       "0                           Samsung LN19A450 19' LCD TV  \n",
       "1                           Samsung LN19A450 19' LCD TV  \n",
       "2                    Panasonic DMR-EA38VK DVD/VCR Combo  \n",
       "3                        Samsung PN50A550 50' Plasma TV  \n",
       "4  Panasonic SC-BT100 Home Theater System - SC-BT100P-K  "
      ]
     },
     "execution_count": 43,
     "metadata": {},
     "output_type": "execute_result"
    }
   ],
   "source": [
    "# Display first few tuple pairs from the debug_blocker's output\n",
    "dbg.head()"
   ]
  },
  {
   "cell_type": "markdown",
   "id": "6c494065",
   "metadata": {},
   "source": [
    "From the debug blocker's output we observe that the current blocker drops quite a few potential matches. We would want to update the blocking sequence to avoid dropping these potential matches.\n",
    "\n",
    "For the considered dataset, we know that for the conference papers to match the author names must overlap between them. We could use overlap blocker for this purpose. Finally, we would want to union the outputs from the attribute equivalence blocker and the overlap blocker to get a consolidated candidate set."
   ]
  },
  {
   "cell_type": "markdown",
   "id": "56fe4e22",
   "metadata": {},
   "source": [
    "We observe that the current blocker sequence does not drop obvious potential matches, and we can proceed with the matching step now. A subtle point to note here is, debugging blocker output practically provides a stopping criteria for modifying the blocker sequence."
   ]
  },
  {
   "cell_type": "markdown",
   "id": "2a927ac8",
   "metadata": {},
   "source": [
    "# 3. Matching tuple pairs in the candidate set\n",
    "In this step, we would want to match the tuple pairs in the candidate set. Specifically, we use learning-based method for matching purposes.\n",
    "\n",
    "This typically involves the following five steps:\n",
    "\n",
    "1. Sampling and labeling the candidate set\n",
    "2. Splitting the labeled data into development and evaluation set\n",
    "3. Selecting the best learning based matcher using the development set\n",
    "4. Evaluating the selected matcher using the evaluation set\n",
    "## 3.1 Creating a set of learning-based matchers"
   ]
  },
  {
   "cell_type": "markdown",
   "id": "acf67e3f",
   "metadata": {},
   "source": [
    "First, we randomly sample 450 tuple pairs for labeling purposes."
   ]
  },
  {
   "cell_type": "code",
   "execution_count": 144,
   "id": "631cba8b",
   "metadata": {},
   "outputs": [],
   "source": [
    "# Sample candidate set\n",
    "# S = em.sample_table(C, 2000)"
   ]
  },
  {
   "cell_type": "code",
   "execution_count": 78,
   "id": "48572c15",
   "metadata": {},
   "outputs": [
    {
     "name": "stderr",
     "output_type": "stream",
     "text": [
      "Metadata file is not present in the given path; proceeding to read the csv file.\n"
     ]
    }
   ],
   "source": [
    "# Read Perfect Matching\n",
    "matching_dataset_path = datasets_dir + os.sep + 'abtBuyIdDuplicates.csv'\n",
    "M = em.read_csv_metadata(matching_dataset_path, key='id')"
   ]
  },
  {
   "cell_type": "code",
   "execution_count": 84,
   "id": "07f2d5cd",
   "metadata": {},
   "outputs": [
    {
     "data": {
      "text/plain": [
       "1076"
      ]
     },
     "execution_count": 84,
     "metadata": {},
     "output_type": "execute_result"
    }
   ],
   "source": [
    "len(M)"
   ]
  },
  {
   "cell_type": "code",
   "execution_count": 81,
   "id": "354c6042",
   "metadata": {
    "scrolled": true
   },
   "outputs": [],
   "source": [
    "# Label for data from Matching\n",
    "G['label'] = 0\n",
    "for index, row in M.iterrows():\n",
    "    ltable_id = row['entityId1']\n",
    "    rtable_id = row['entityId2']\n",
    "    \n",
    "    G.loc[(G['ltable_id'] == ltable_id) & (G['rtable_id'] == rtable_id), 'label'] = 1"
   ]
  },
  {
   "cell_type": "markdown",
   "id": "b0bc7390",
   "metadata": {},
   "source": [
    "## 3.2 Splitting the labeled data into development and evaluation set\n",
    "In this step, we split the labeled data into two sets: development and evaluation. Specifically, the development set is used to come up with the best learning-based matcher and the evaluation set used to evaluate the selected matcher on unseen data."
   ]
  },
  {
   "cell_type": "code",
   "execution_count": 85,
   "id": "8ff95331",
   "metadata": {},
   "outputs": [],
   "source": [
    "# Split Matched data\n",
    "matched = G.loc[G['label'] == 1]\n",
    "\n",
    "em.set_key(matched,'_id')\n",
    "em.set_fk_ltable(matched,'ltable_id')\n",
    "em.set_fk_rtable(matched,'rtable_id')\n",
    "em.set_ltable(matched, A)\n",
    "em.set_rtable(matched, B)\n",
    "\n",
    "matched_train_test = em.split_train_test(matched, train_proportion=0.7)\n",
    "matched_development =  matched_train_test['train']\n",
    "matched_evaluation = matched_train_test['test']"
   ]
  },
  {
   "cell_type": "code",
   "execution_count": 91,
   "id": "b2b90055",
   "metadata": {},
   "outputs": [],
   "source": [
    "# Split Un-Matched data\n",
    "unmatched = G.loc[G['label'] == 0].head(1000)\n",
    "\n",
    "em.set_key(unmatched,'_id')\n",
    "em.set_fk_ltable(unmatched,'ltable_id')\n",
    "em.set_fk_rtable(unmatched,'rtable_id')\n",
    "em.set_ltable(unmatched, A)\n",
    "em.set_rtable(unmatched, B)\n",
    "\n",
    "unmatched_train_test = em.split_train_test(unmatched, train_proportion=0.7)\n",
    "unmatched_development =  unmatched_train_test['train']\n",
    "unmatched_evaluation = unmatched_train_test['test']"
   ]
  },
  {
   "cell_type": "code",
   "execution_count": 93,
   "id": "4e2b4088",
   "metadata": {},
   "outputs": [],
   "source": [
    "# Combine \n",
    "development = pd.concat([matched_development, unmatched_development])\n",
    "evaluation = pd.concat([matched_evaluation, unmatched_evaluation])"
   ]
  },
  {
   "cell_type": "code",
   "execution_count": 95,
   "id": "637a1bfc",
   "metadata": {},
   "outputs": [
    {
     "data": {
      "text/plain": [
       "True"
      ]
     },
     "execution_count": 95,
     "metadata": {},
     "output_type": "execute_result"
    }
   ],
   "source": [
    "em.set_key(development,'_id')\n",
    "em.set_fk_ltable(development,'ltable_id')\n",
    "em.set_fk_rtable(development,'rtable_id')\n",
    "em.set_ltable(development, A)\n",
    "em.set_rtable(development, B)\n",
    "\n",
    "em.set_key(evaluation,'_id')\n",
    "em.set_fk_ltable(evaluation,'ltable_id')\n",
    "em.set_fk_rtable(evaluation,'rtable_id')\n",
    "em.set_ltable(evaluation, A)\n",
    "em.set_rtable(evaluation, B)"
   ]
  },
  {
   "cell_type": "markdown",
   "id": "47a73813",
   "metadata": {},
   "source": [
    "## 3.3 Select the best learning-based matcher\n",
    "Selecting the best learning-based matcher typically involves the following steps:\n",
    "\n",
    "1. Creating a set of learning-based matchers\n",
    "2. Creating features\n",
    "3. Extracting feature vectors\n",
    "4. Selecting the best learning-based matcher using k-fold cross validation\n",
    "5. Debugging the matcher (and possibly repeat the above steps)"
   ]
  },
  {
   "cell_type": "markdown",
   "id": "44354976",
   "metadata": {},
   "source": [
    "### 3.3.1 Creating a set of learning-based matchers\n",
    "First, we need to create a set of learning-based matchers. The following matchers are supported in Magellan: (1) decision tree, (2) random forest, (3) naive bayes, (4) svm, (5) logistic regression, and (6) linear regression."
   ]
  },
  {
   "cell_type": "code",
   "execution_count": 96,
   "id": "1a1c9921",
   "metadata": {},
   "outputs": [],
   "source": [
    "# Create a set of ML-matchers\n",
    "dt = em.DTMatcher(name='DecisionTree')\n",
    "svm = em.SVMMatcher(name='SVM')\n",
    "rf = em.RFMatcher(name='RF')\n",
    "nb = em.NBMatcher(name='NB')\n",
    "lg = em.LogRegMatcher(name='LogReg')\n",
    "ln = em.LinRegMatcher(name='LinReg')"
   ]
  },
  {
   "cell_type": "markdown",
   "id": "c4a3ac3e",
   "metadata": {},
   "source": [
    "### 3.3.2 Creating features\n",
    "Next, we need to create a set of features for the development set. Magellan provides a way to automatically generate features based on the attributes in the input tables. For the purposes of this guide, we use the automatically generated features."
   ]
  },
  {
   "cell_type": "code",
   "execution_count": 132,
   "id": "cc19a541",
   "metadata": {},
   "outputs": [],
   "source": [
    "# Generate features\n",
    "feature_table = em.get_features_for_matching(A, B, validate_inferred_attr_types=False)"
   ]
  },
  {
   "cell_type": "code",
   "execution_count": 133,
   "id": "a33462df",
   "metadata": {},
   "outputs": [
    {
     "data": {
      "text/plain": [
       "0                                       id_id_exm\n",
       "1                                       id_id_anm\n",
       "2                                  id_id_lev_dist\n",
       "3                                   id_id_lev_sim\n",
       "4         description_description_jac_qgm_3_qgm_3\n",
       "5     description_description_cos_dlm_dc0_dlm_dc0\n",
       "6                       name_name_jac_qgm_3_qgm_3\n",
       "7                   name_name_cos_dlm_dc0_dlm_dc0\n",
       "8                                   name_name_mel\n",
       "9                              name_name_lev_dist\n",
       "10                              name_name_lev_sim\n",
       "11                        entityUrl_entityUrl_exm\n",
       "12                        entityUrl_entityUrl_anm\n",
       "13                   entityUrl_entityUrl_lev_dist\n",
       "14                    entityUrl_entityUrl_lev_sim\n",
       "15                                price_price_exm\n",
       "16                                price_price_anm\n",
       "17                           price_price_lev_dist\n",
       "18                            price_price_lev_sim\n",
       "Name: feature_name, dtype: object"
      ]
     },
     "execution_count": 133,
     "metadata": {},
     "output_type": "execute_result"
    }
   ],
   "source": [
    "# List the names of the features generated\n",
    "feature_table['feature_name']"
   ]
  },
  {
   "cell_type": "code",
   "execution_count": 134,
   "id": "74f7943e",
   "metadata": {},
   "outputs": [],
   "source": [
    "feature_subset_iter1 = feature_table.drop([0,1,2,3,11,12,13,14], axis=0)"
   ]
  },
  {
   "cell_type": "code",
   "execution_count": 135,
   "id": "d5a6a5f6",
   "metadata": {},
   "outputs": [
    {
     "data": {
      "text/plain": [
       "4         description_description_jac_qgm_3_qgm_3\n",
       "5     description_description_cos_dlm_dc0_dlm_dc0\n",
       "6                       name_name_jac_qgm_3_qgm_3\n",
       "7                   name_name_cos_dlm_dc0_dlm_dc0\n",
       "8                                   name_name_mel\n",
       "9                              name_name_lev_dist\n",
       "10                              name_name_lev_sim\n",
       "15                                price_price_exm\n",
       "16                                price_price_anm\n",
       "17                           price_price_lev_dist\n",
       "18                            price_price_lev_sim\n",
       "Name: feature_name, dtype: object"
      ]
     },
     "execution_count": 135,
     "metadata": {},
     "output_type": "execute_result"
    }
   ],
   "source": [
    "feature_subset_iter1['feature_name']"
   ]
  },
  {
   "cell_type": "markdown",
   "id": "e5f53ffb",
   "metadata": {},
   "source": [
    "### 3.3.3 Extracting feature vectors\n",
    "In this step, we extract feature vectors using the development set and the created features."
   ]
  },
  {
   "cell_type": "code",
   "execution_count": 154,
   "id": "9e370ec5",
   "metadata": {},
   "outputs": [
    {
     "name": "stderr",
     "output_type": "stream",
     "text": [
      "0% [##############################] 100% | ETA: 00:00:00\n",
      "Total time elapsed: 00:00:01\n"
     ]
    }
   ],
   "source": [
    "# Extract feature vectors\n",
    "feature_vectors_dev = em.extract_feature_vecs(development, \n",
    "                            feature_table=feature_subset_iter1, \n",
    "                            attrs_after='label')\n"
   ]
  },
  {
   "cell_type": "code",
   "execution_count": 171,
   "id": "cbe52a03",
   "metadata": {},
   "outputs": [
    {
     "data": {
      "text/html": [
       "<div>\n",
       "<style scoped>\n",
       "    .dataframe tbody tr th:only-of-type {\n",
       "        vertical-align: middle;\n",
       "    }\n",
       "\n",
       "    .dataframe tbody tr th {\n",
       "        vertical-align: top;\n",
       "    }\n",
       "\n",
       "    .dataframe thead th {\n",
       "        text-align: right;\n",
       "    }\n",
       "</style>\n",
       "<table border=\"1\" class=\"dataframe\">\n",
       "  <thead>\n",
       "    <tr style=\"text-align: right;\">\n",
       "      <th></th>\n",
       "      <th>_id</th>\n",
       "      <th>ltable_id</th>\n",
       "      <th>rtable_id</th>\n",
       "      <th>description_description_jac_qgm_3_qgm_3</th>\n",
       "      <th>description_description_cos_dlm_dc0_dlm_dc0</th>\n",
       "      <th>name_name_jac_qgm_3_qgm_3</th>\n",
       "      <th>name_name_cos_dlm_dc0_dlm_dc0</th>\n",
       "      <th>name_name_mel</th>\n",
       "      <th>name_name_lev_dist</th>\n",
       "      <th>name_name_lev_sim</th>\n",
       "      <th>price_price_exm</th>\n",
       "      <th>price_price_anm</th>\n",
       "      <th>price_price_lev_dist</th>\n",
       "      <th>price_price_lev_sim</th>\n",
       "      <th>label</th>\n",
       "    </tr>\n",
       "  </thead>\n",
       "  <tbody>\n",
       "    <tr>\n",
       "      <th>121260</th>\n",
       "      <td>121260</td>\n",
       "      <td>816</td>\n",
       "      <td>789</td>\n",
       "      <td>0.070671</td>\n",
       "      <td>0.251976</td>\n",
       "      <td>0.367647</td>\n",
       "      <td>0.629941</td>\n",
       "      <td>0.681338</td>\n",
       "      <td>23.0</td>\n",
       "      <td>0.549020</td>\n",
       "      <td>0.044643</td>\n",
       "      <td>0.595846</td>\n",
       "      <td>3.532738</td>\n",
       "      <td>0.36909</td>\n",
       "      <td>1</td>\n",
       "    </tr>\n",
       "    <tr>\n",
       "      <th>52142</th>\n",
       "      <td>52142</td>\n",
       "      <td>428</td>\n",
       "      <td>223</td>\n",
       "      <td>0.064997</td>\n",
       "      <td>0.151095</td>\n",
       "      <td>0.347826</td>\n",
       "      <td>0.338062</td>\n",
       "      <td>0.623189</td>\n",
       "      <td>38.0</td>\n",
       "      <td>0.254902</td>\n",
       "      <td>0.044643</td>\n",
       "      <td>0.595846</td>\n",
       "      <td>3.532738</td>\n",
       "      <td>0.36909</td>\n",
       "      <td>1</td>\n",
       "    </tr>\n",
       "    <tr>\n",
       "      <th>3684</th>\n",
       "      <td>3684</td>\n",
       "      <td>32</td>\n",
       "      <td>50</td>\n",
       "      <td>0.097902</td>\n",
       "      <td>0.356348</td>\n",
       "      <td>0.613636</td>\n",
       "      <td>0.670820</td>\n",
       "      <td>0.927451</td>\n",
       "      <td>23.0</td>\n",
       "      <td>0.323529</td>\n",
       "      <td>0.044643</td>\n",
       "      <td>0.595846</td>\n",
       "      <td>3.532738</td>\n",
       "      <td>0.36909</td>\n",
       "      <td>1</td>\n",
       "    </tr>\n",
       "  </tbody>\n",
       "</table>\n",
       "</div>"
      ],
      "text/plain": [
       "           _id ltable_id rtable_id  description_description_jac_qgm_3_qgm_3  \\\n",
       "121260  121260       816       789                                 0.070671   \n",
       "52142    52142       428       223                                 0.064997   \n",
       "3684      3684        32        50                                 0.097902   \n",
       "\n",
       "        description_description_cos_dlm_dc0_dlm_dc0  \\\n",
       "121260                                     0.251976   \n",
       "52142                                      0.151095   \n",
       "3684                                       0.356348   \n",
       "\n",
       "        name_name_jac_qgm_3_qgm_3  name_name_cos_dlm_dc0_dlm_dc0  \\\n",
       "121260                   0.367647                       0.629941   \n",
       "52142                    0.347826                       0.338062   \n",
       "3684                     0.613636                       0.670820   \n",
       "\n",
       "        name_name_mel  name_name_lev_dist  name_name_lev_sim  price_price_exm  \\\n",
       "121260       0.681338                23.0           0.549020         0.044643   \n",
       "52142        0.623189                38.0           0.254902         0.044643   \n",
       "3684         0.927451                23.0           0.323529         0.044643   \n",
       "\n",
       "        price_price_anm  price_price_lev_dist  price_price_lev_sim  label  \n",
       "121260         0.595846              3.532738              0.36909      1  \n",
       "52142          0.595846              3.532738              0.36909      1  \n",
       "3684           0.595846              3.532738              0.36909      1  "
      ]
     },
     "execution_count": 171,
     "metadata": {},
     "output_type": "execute_result"
    }
   ],
   "source": [
    "# Display first few rows\n",
    "feature_vectors_dev.head(3)"
   ]
  },
  {
   "cell_type": "code",
   "execution_count": 156,
   "id": "3a115b62",
   "metadata": {},
   "outputs": [
    {
     "data": {
      "text/plain": [
       "True"
      ]
     },
     "execution_count": 156,
     "metadata": {},
     "output_type": "execute_result"
    }
   ],
   "source": [
    "# Check if the feature vectors contain missing values\n",
    "# A return value of True means that there are missing values\n",
    "any(pd.isnull(feature_vectors_dev))"
   ]
  },
  {
   "cell_type": "markdown",
   "id": "1e6a6e1f",
   "metadata": {},
   "source": [
    "We observe that the extracted feature vectors contain missing values. We have to impute the missing values for the learning-based matchers to fit the model correctly. For the purposes of this guide, we impute the missing value in a column with the mean of the values in that column."
   ]
  },
  {
   "cell_type": "code",
   "execution_count": 157,
   "id": "d9fcd48a",
   "metadata": {},
   "outputs": [
    {
     "name": "stderr",
     "output_type": "stream",
     "text": [
      "C:\\Users\\DELL\\anaconda3\\lib\\site-packages\\py_entitymatching\\matcher\\matcherutils.py:224: FutureWarning: The pandas.np module is deprecated and will be removed from pandas in a future version. Import numpy directly instead.\n",
      "  imp.statistics_[pd.np.isnan(imp.statistics_)] = val_all_nans\n"
     ]
    }
   ],
   "source": [
    "# Impute feature vectors with the mean of the column values.\n",
    "feature_vectors_dev = em.impute_table(feature_vectors_dev, \n",
    "                exclude_attrs=['_id', 'ltable_id', 'rtable_id', 'label'],\n",
    "                strategy='mean')"
   ]
  },
  {
   "cell_type": "markdown",
   "id": "18e9cb28",
   "metadata": {},
   "source": [
    "### 3.3.4 Selecting the best matcher using cross-validation\n",
    "Now, we select the best matcher using k-fold cross-validation. For the purposes of this guide, we use five fold cross validation and use 'precision' metric to select the best matcher."
   ]
  },
  {
   "cell_type": "code",
   "execution_count": 158,
   "id": "22fdf6c1",
   "metadata": {},
   "outputs": [],
   "source": [
    "# Select the best ML matcher using CV\n",
    "result = em.select_matcher([dt, rf, svm, nb, lg, ln], table=feature_vectors_dev, \n",
    "        exclude_attrs=['_id', 'ltable_id', 'rtable_id', 'label'],\n",
    "        k=10,\n",
    "        target_attr='label', \n",
    "        metric_to_select_matcher='precision',\n",
    "        random_state=0)"
   ]
  },
  {
   "cell_type": "code",
   "execution_count": 159,
   "id": "0993570f",
   "metadata": {},
   "outputs": [
    {
     "data": {
      "text/html": [
       "<div>\n",
       "<style scoped>\n",
       "    .dataframe tbody tr th:only-of-type {\n",
       "        vertical-align: middle;\n",
       "    }\n",
       "\n",
       "    .dataframe tbody tr th {\n",
       "        vertical-align: top;\n",
       "    }\n",
       "\n",
       "    .dataframe thead th {\n",
       "        text-align: right;\n",
       "    }\n",
       "</style>\n",
       "<table border=\"1\" class=\"dataframe\">\n",
       "  <thead>\n",
       "    <tr style=\"text-align: right;\">\n",
       "      <th></th>\n",
       "      <th>Matcher</th>\n",
       "      <th>Average precision</th>\n",
       "      <th>Average recall</th>\n",
       "      <th>Average f1</th>\n",
       "    </tr>\n",
       "  </thead>\n",
       "  <tbody>\n",
       "    <tr>\n",
       "      <th>0</th>\n",
       "      <td>DecisionTree</td>\n",
       "      <td>0.955745</td>\n",
       "      <td>0.952459</td>\n",
       "      <td>0.955888</td>\n",
       "    </tr>\n",
       "    <tr>\n",
       "      <th>1</th>\n",
       "      <td>RF</td>\n",
       "      <td>0.977707</td>\n",
       "      <td>0.959269</td>\n",
       "      <td>0.970977</td>\n",
       "    </tr>\n",
       "    <tr>\n",
       "      <th>2</th>\n",
       "      <td>SVM</td>\n",
       "      <td>0.721323</td>\n",
       "      <td>0.515333</td>\n",
       "      <td>0.600406</td>\n",
       "    </tr>\n",
       "    <tr>\n",
       "      <th>3</th>\n",
       "      <td>NB</td>\n",
       "      <td>0.975028</td>\n",
       "      <td>0.897868</td>\n",
       "      <td>0.934505</td>\n",
       "    </tr>\n",
       "    <tr>\n",
       "      <th>4</th>\n",
       "      <td>LogReg</td>\n",
       "      <td>0.982434</td>\n",
       "      <td>0.922176</td>\n",
       "      <td>0.951109</td>\n",
       "    </tr>\n",
       "    <tr>\n",
       "      <th>5</th>\n",
       "      <td>LinReg</td>\n",
       "      <td>0.984850</td>\n",
       "      <td>0.884845</td>\n",
       "      <td>0.931885</td>\n",
       "    </tr>\n",
       "  </tbody>\n",
       "</table>\n",
       "</div>"
      ],
      "text/plain": [
       "        Matcher  Average precision  Average recall  Average f1\n",
       "0  DecisionTree           0.955745        0.952459    0.955888\n",
       "1            RF           0.977707        0.959269    0.970977\n",
       "2           SVM           0.721323        0.515333    0.600406\n",
       "3            NB           0.975028        0.897868    0.934505\n",
       "4        LogReg           0.982434        0.922176    0.951109\n",
       "5        LinReg           0.984850        0.884845    0.931885"
      ]
     },
     "execution_count": 159,
     "metadata": {},
     "output_type": "execute_result"
    }
   ],
   "source": [
    "result['cv_stats']"
   ]
  },
  {
   "cell_type": "code",
   "execution_count": 160,
   "id": "482e5590",
   "metadata": {},
   "outputs": [
    {
     "data": {
      "text/html": [
       "<div>\n",
       "<style scoped>\n",
       "    .dataframe tbody tr th:only-of-type {\n",
       "        vertical-align: middle;\n",
       "    }\n",
       "\n",
       "    .dataframe tbody tr th {\n",
       "        vertical-align: top;\n",
       "    }\n",
       "\n",
       "    .dataframe thead th {\n",
       "        text-align: right;\n",
       "    }\n",
       "</style>\n",
       "<table border=\"1\" class=\"dataframe\">\n",
       "  <thead>\n",
       "    <tr style=\"text-align: right;\">\n",
       "      <th></th>\n",
       "      <th>Name</th>\n",
       "      <th>Matcher</th>\n",
       "      <th>Num folds</th>\n",
       "      <th>Fold 1</th>\n",
       "      <th>Fold 2</th>\n",
       "      <th>Fold 3</th>\n",
       "      <th>Fold 4</th>\n",
       "      <th>Fold 5</th>\n",
       "      <th>Fold 6</th>\n",
       "      <th>Fold 7</th>\n",
       "      <th>Fold 8</th>\n",
       "      <th>Fold 9</th>\n",
       "      <th>Fold 10</th>\n",
       "      <th>Mean score</th>\n",
       "    </tr>\n",
       "  </thead>\n",
       "  <tbody>\n",
       "    <tr>\n",
       "      <th>0</th>\n",
       "      <td>DecisionTree</td>\n",
       "      <td>&lt;py_entitymatching.matcher.dtmatcher.DTMatcher object at 0x0000021BE553CA30&gt;</td>\n",
       "      <td>10</td>\n",
       "      <td>0.958904</td>\n",
       "      <td>0.916667</td>\n",
       "      <td>0.962963</td>\n",
       "      <td>0.985714</td>\n",
       "      <td>0.957746</td>\n",
       "      <td>0.954545</td>\n",
       "      <td>0.964286</td>\n",
       "      <td>0.926471</td>\n",
       "      <td>0.944444</td>\n",
       "      <td>0.985714</td>\n",
       "      <td>0.955745</td>\n",
       "    </tr>\n",
       "    <tr>\n",
       "      <th>1</th>\n",
       "      <td>RF</td>\n",
       "      <td>&lt;py_entitymatching.matcher.rfmatcher.RFMatcher object at 0x0000021BE553C400&gt;</td>\n",
       "      <td>10</td>\n",
       "      <td>0.972222</td>\n",
       "      <td>0.970588</td>\n",
       "      <td>0.987342</td>\n",
       "      <td>0.986111</td>\n",
       "      <td>1.000000</td>\n",
       "      <td>0.988372</td>\n",
       "      <td>1.000000</td>\n",
       "      <td>0.942857</td>\n",
       "      <td>0.957746</td>\n",
       "      <td>0.971831</td>\n",
       "      <td>0.977707</td>\n",
       "    </tr>\n",
       "    <tr>\n",
       "      <th>2</th>\n",
       "      <td>SVM</td>\n",
       "      <td>&lt;py_entitymatching.matcher.svmmatcher.SVMMatcher object at 0x0000021BE5420A90&gt;</td>\n",
       "      <td>10</td>\n",
       "      <td>0.705882</td>\n",
       "      <td>0.644068</td>\n",
       "      <td>0.767857</td>\n",
       "      <td>0.694915</td>\n",
       "      <td>0.714286</td>\n",
       "      <td>0.803571</td>\n",
       "      <td>0.677966</td>\n",
       "      <td>0.760000</td>\n",
       "      <td>0.700000</td>\n",
       "      <td>0.744681</td>\n",
       "      <td>0.721323</td>\n",
       "    </tr>\n",
       "    <tr>\n",
       "      <th>3</th>\n",
       "      <td>NB</td>\n",
       "      <td>&lt;py_entitymatching.matcher.nbmatcher.NBMatcher object at 0x0000021BE553C0A0&gt;</td>\n",
       "      <td>10</td>\n",
       "      <td>1.000000</td>\n",
       "      <td>0.955224</td>\n",
       "      <td>0.987013</td>\n",
       "      <td>0.985507</td>\n",
       "      <td>0.968750</td>\n",
       "      <td>1.000000</td>\n",
       "      <td>0.973684</td>\n",
       "      <td>0.969697</td>\n",
       "      <td>0.941176</td>\n",
       "      <td>0.969231</td>\n",
       "      <td>0.975028</td>\n",
       "    </tr>\n",
       "    <tr>\n",
       "      <th>4</th>\n",
       "      <td>LogReg</td>\n",
       "      <td>&lt;py_entitymatching.matcher.logregmatcher.LogRegMatcher object at 0x0000021BE553C700&gt;</td>\n",
       "      <td>10</td>\n",
       "      <td>1.000000</td>\n",
       "      <td>0.957143</td>\n",
       "      <td>1.000000</td>\n",
       "      <td>1.000000</td>\n",
       "      <td>1.000000</td>\n",
       "      <td>1.000000</td>\n",
       "      <td>0.986842</td>\n",
       "      <td>0.954545</td>\n",
       "      <td>0.955224</td>\n",
       "      <td>0.970588</td>\n",
       "      <td>0.982434</td>\n",
       "    </tr>\n",
       "    <tr>\n",
       "      <th>5</th>\n",
       "      <td>LinReg</td>\n",
       "      <td>&lt;py_entitymatching.matcher.linregmatcher.LinRegMatcher object at 0x0000021BE553CC70&gt;</td>\n",
       "      <td>10</td>\n",
       "      <td>0.967742</td>\n",
       "      <td>1.000000</td>\n",
       "      <td>0.986301</td>\n",
       "      <td>1.000000</td>\n",
       "      <td>0.984375</td>\n",
       "      <td>1.000000</td>\n",
       "      <td>1.000000</td>\n",
       "      <td>0.983607</td>\n",
       "      <td>0.926471</td>\n",
       "      <td>1.000000</td>\n",
       "      <td>0.984850</td>\n",
       "    </tr>\n",
       "  </tbody>\n",
       "</table>\n",
       "</div>"
      ],
      "text/plain": [
       "           Name  \\\n",
       "0  DecisionTree   \n",
       "1            RF   \n",
       "2           SVM   \n",
       "3            NB   \n",
       "4        LogReg   \n",
       "5        LinReg   \n",
       "\n",
       "                                                                                Matcher  \\\n",
       "0          <py_entitymatching.matcher.dtmatcher.DTMatcher object at 0x0000021BE553CA30>   \n",
       "1          <py_entitymatching.matcher.rfmatcher.RFMatcher object at 0x0000021BE553C400>   \n",
       "2        <py_entitymatching.matcher.svmmatcher.SVMMatcher object at 0x0000021BE5420A90>   \n",
       "3          <py_entitymatching.matcher.nbmatcher.NBMatcher object at 0x0000021BE553C0A0>   \n",
       "4  <py_entitymatching.matcher.logregmatcher.LogRegMatcher object at 0x0000021BE553C700>   \n",
       "5  <py_entitymatching.matcher.linregmatcher.LinRegMatcher object at 0x0000021BE553CC70>   \n",
       "\n",
       "   Num folds    Fold 1    Fold 2    Fold 3    Fold 4    Fold 5    Fold 6  \\\n",
       "0         10  0.958904  0.916667  0.962963  0.985714  0.957746  0.954545   \n",
       "1         10  0.972222  0.970588  0.987342  0.986111  1.000000  0.988372   \n",
       "2         10  0.705882  0.644068  0.767857  0.694915  0.714286  0.803571   \n",
       "3         10  1.000000  0.955224  0.987013  0.985507  0.968750  1.000000   \n",
       "4         10  1.000000  0.957143  1.000000  1.000000  1.000000  1.000000   \n",
       "5         10  0.967742  1.000000  0.986301  1.000000  0.984375  1.000000   \n",
       "\n",
       "     Fold 7    Fold 8    Fold 9   Fold 10  Mean score  \n",
       "0  0.964286  0.926471  0.944444  0.985714    0.955745  \n",
       "1  1.000000  0.942857  0.957746  0.971831    0.977707  \n",
       "2  0.677966  0.760000  0.700000  0.744681    0.721323  \n",
       "3  0.973684  0.969697  0.941176  0.969231    0.975028  \n",
       "4  0.986842  0.954545  0.955224  0.970588    0.982434  \n",
       "5  1.000000  0.983607  0.926471  1.000000    0.984850  "
      ]
     },
     "execution_count": 160,
     "metadata": {},
     "output_type": "execute_result"
    }
   ],
   "source": [
    "result['drill_down_cv_stats']['precision']"
   ]
  },
  {
   "cell_type": "markdown",
   "id": "c8e37ef9",
   "metadata": {},
   "source": [
    "### 3.3.5 Debugging matcher\n",
    "We observe that the best matcher is not getting us to the precision that we expect (i.e > 95%). We debug the matcher to see what might be wrong.\n",
    "\n",
    "To do this, first we split the feature vectors into train and test."
   ]
  },
  {
   "cell_type": "code",
   "execution_count": 161,
   "id": "1761f822",
   "metadata": {},
   "outputs": [],
   "source": [
    "# # Split feature vectors into train and test\n",
    "train_test = em.split_train_test(feature_vectors_dev, train_proportion=0.5)\n",
    "train = train_test['train']\n",
    "test = train_test['test']"
   ]
  },
  {
   "cell_type": "code",
   "execution_count": 162,
   "id": "2710f90e",
   "metadata": {},
   "outputs": [],
   "source": [
    "# Debug decision tree using GUI\n",
    "em.vis_debug_rf(rf, train, test, \n",
    "        exclude_attrs=['_id', 'ltable_id', 'rtable_id', 'label'],\n",
    "        target_attr='label')"
   ]
  },
  {
   "cell_type": "markdown",
   "id": "9da95353",
   "metadata": {},
   "source": [
    "From the GUI, we observe that using only 'year' related features result in a lot of false positives. So we decide to use all the features in the feature table (which had author, title and year related features)."
   ]
  },
  {
   "cell_type": "code",
   "execution_count": 148,
   "id": "97548df9",
   "metadata": {},
   "outputs": [],
   "source": [
    "# Select all features from the feature table\n",
    "# feature_subset_iter2 = feature_table"
   ]
  },
  {
   "cell_type": "code",
   "execution_count": 149,
   "id": "327924f0",
   "metadata": {},
   "outputs": [],
   "source": [
    "# Get new set of features\n",
    "# feature_vectors_dev = em.extract_feature_vecs(development, feature_table=feature_subset_iter2, attrs_after='label')"
   ]
  },
  {
   "cell_type": "code",
   "execution_count": 150,
   "id": "b1ed724f",
   "metadata": {},
   "outputs": [],
   "source": [
    "# Check if imputation is required\n",
    "# any(pd.isnull(feature_vectors_dev))"
   ]
  },
  {
   "cell_type": "code",
   "execution_count": 151,
   "id": "1a406765",
   "metadata": {},
   "outputs": [],
   "source": [
    "# Impute feature vectors\n",
    "# feature_vectors_dev = em.impute_table(feature_vectors_dev, \n",
    "#                 exclude_attrs=['_id', 'ltable_id', 'rtable_id', 'label'],\n",
    "#                 strategy='mean')"
   ]
  },
  {
   "cell_type": "code",
   "execution_count": 230,
   "id": "fbb1647f",
   "metadata": {},
   "outputs": [],
   "source": [
    "# Apply cross validation to find if there is a better matcher\n",
    "# result = em.select_matcher([dt, rf, svm, nb, lg, ln], table=feature_vectors_dev, \n",
    "#         exclude_attrs=['_id', 'ltable_id', 'rtable_id', 'label'],\n",
    "#         k=10,\n",
    "#         target_attr='label', \n",
    "#         metric_to_select_matcher='precision',\n",
    "#         random_state=0)"
   ]
  },
  {
   "cell_type": "code",
   "execution_count": 163,
   "id": "af12f58f",
   "metadata": {},
   "outputs": [],
   "source": [
    "# result['cv_stats']"
   ]
  },
  {
   "cell_type": "code",
   "execution_count": 164,
   "id": "b3910f28",
   "metadata": {},
   "outputs": [],
   "source": [
    "# result['drill_down_cv_stats']['precision']"
   ]
  },
  {
   "cell_type": "markdown",
   "id": "5d368c51",
   "metadata": {},
   "source": [
    "Now, observe the best matcher is achieving the expected precision and we can proceed on to evaluating the best matcher on the unseen data (the evaluation set)."
   ]
  },
  {
   "cell_type": "markdown",
   "id": "cd8504f8",
   "metadata": {},
   "source": [
    "## 3.4 Evaluating the matching output\n",
    "Evaluating the matching outputs for the evaluation set typically involves the following four steps:\n",
    "\n",
    "1. Extracting the feature vectors\n",
    "2. Training matcher using the feature vectors extracted from the development set\n",
    "3. Predicting the evaluation set using the trained matcher\n",
    "4. Evaluating the predicted matches\n",
    "### 3.4.1 Extracting the feature vectors\n",
    "As before, we extract the feature vectors (using the updated feature table and the evaluation set) and impute it (if necessary)."
   ]
  },
  {
   "cell_type": "code",
   "execution_count": 177,
   "id": "0ef990f2",
   "metadata": {},
   "outputs": [
    {
     "name": "stderr",
     "output_type": "stream",
     "text": [
      "0% [##############################] 100% | ETA: 00:00:00\n",
      "Total time elapsed: 00:00:01\n"
     ]
    }
   ],
   "source": [
    "# Get new set of features\n",
    "feature_vectors_eval = em.extract_feature_vecs(evaluation, \n",
    "                                               feature_table=feature_subset_iter1, \n",
    "                                               attrs_after='label')"
   ]
  },
  {
   "cell_type": "code",
   "execution_count": 178,
   "id": "a4d17f51",
   "metadata": {},
   "outputs": [
    {
     "data": {
      "text/plain": [
       "True"
      ]
     },
     "execution_count": 178,
     "metadata": {},
     "output_type": "execute_result"
    }
   ],
   "source": [
    "# Check if the feature vectors contain missing values\n",
    "# A return value of True means that there are missing values\n",
    "any(pd.isnull(feature_vectors_eval))"
   ]
  },
  {
   "cell_type": "code",
   "execution_count": 179,
   "id": "31b56272",
   "metadata": {},
   "outputs": [
    {
     "name": "stderr",
     "output_type": "stream",
     "text": [
      "C:\\Users\\DELL\\anaconda3\\lib\\site-packages\\py_entitymatching\\matcher\\matcherutils.py:224: FutureWarning: The pandas.np module is deprecated and will be removed from pandas in a future version. Import numpy directly instead.\n",
      "  imp.statistics_[pd.np.isnan(imp.statistics_)] = val_all_nans\n"
     ]
    }
   ],
   "source": [
    "# Impute feature vectors\n",
    "feature_vectors_eval = em.impute_table(feature_vectors_eval, \n",
    "                exclude_attrs=['_id', 'ltable_id', 'rtable_id', 'label'],\n",
    "                strategy='mean')"
   ]
  },
  {
   "cell_type": "markdown",
   "id": "219326e4",
   "metadata": {},
   "source": [
    "### 3.4.2 Training the matcher\n",
    "Now, we train the matcher using all of the feature vectors from the development set. For the purposes of this guide we use random forest as the selected matcher."
   ]
  },
  {
   "cell_type": "code",
   "execution_count": 180,
   "id": "838bd5b4",
   "metadata": {},
   "outputs": [],
   "source": [
    "# Train using feature vectors from the development set\n",
    "rf.fit(table=feature_vectors_dev, \n",
    "       exclude_attrs=['_id', 'ltable_id', 'rtable_id', 'label'], \n",
    "       target_attr='label')"
   ]
  },
  {
   "cell_type": "markdown",
   "id": "96513e56",
   "metadata": {},
   "source": [
    "### 3.4.3 Predicting the matches\n",
    "Next, we predict the matches for the evaluation set (using the feature vectors extracted from it)."
   ]
  },
  {
   "cell_type": "code",
   "execution_count": 181,
   "id": "2531bd6a",
   "metadata": {},
   "outputs": [
    {
     "data": {
      "text/plain": [
       "(622, 15)"
      ]
     },
     "execution_count": 181,
     "metadata": {},
     "output_type": "execute_result"
    }
   ],
   "source": [
    "feature_vectors_eval.shape"
   ]
  },
  {
   "cell_type": "code",
   "execution_count": 182,
   "id": "ee78cb32",
   "metadata": {},
   "outputs": [],
   "source": [
    "# Predict M \n",
    "predictions = rf.predict(table=feature_vectors_eval, \n",
    "                         exclude_attrs=['_id', 'ltable_id', 'rtable_id', 'label'], \n",
    "                         append=True, \n",
    "                         target_attr='predicted', \n",
    "                         inplace=False)"
   ]
  },
  {
   "cell_type": "markdown",
   "id": "39fbd13a",
   "metadata": {},
   "source": [
    "### 3.4.4 Evaluating the matching output\n",
    "Finally, we evaluate the predicted outputs"
   ]
  },
  {
   "cell_type": "code",
   "execution_count": 183,
   "id": "dbd26358",
   "metadata": {},
   "outputs": [
    {
     "name": "stdout",
     "output_type": "stream",
     "text": [
      "Precision : 97.15% (307/316)\n",
      "Recall : 95.34% (307/322)\n",
      "F1 : 96.24%\n",
      "False positives : 9 (out of 316 positive predictions)\n",
      "False negatives : 15 (out of 306 negative predictions)\n"
     ]
    }
   ],
   "source": [
    "# Evaluate the result\n",
    "eval_result = em.eval_matches(predictions, 'label', 'predicted')\n",
    "em.print_eval_summary(eval_result)"
   ]
  }
 ],
 "metadata": {
  "kernelspec": {
   "display_name": "Python 3 (ipykernel)",
   "language": "python",
   "name": "python3"
  },
  "language_info": {
   "codemirror_mode": {
    "name": "ipython",
    "version": 3
   },
   "file_extension": ".py",
   "mimetype": "text/x-python",
   "name": "python",
   "nbconvert_exporter": "python",
   "pygments_lexer": "ipython3",
   "version": "3.9.16"
  }
 },
 "nbformat": 4,
 "nbformat_minor": 5
}
